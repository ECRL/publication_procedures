{
 "cells": [
  {
   "cell_type": "code",
   "execution_count": 1,
   "metadata": {},
   "outputs": [
    {
     "name": "stdout",
     "output_type": "stream",
     "text": [
      "117 117\n"
     ]
    }
   ],
   "source": [
    "##################\n",
    "### CN AND YSI ###\n",
    "##################\n",
    "\n",
    "from ecnet.datasets import load_cn, load_ysi\n",
    "\n",
    "smiles_cn, cn = load_cn()\n",
    "smiles_ysi, ysi = load_ysi()\n",
    "\n",
    "data_cn = []\n",
    "data_ysi = []\n",
    "\n",
    "for idx_cn, smi_cn in enumerate(smiles_cn):\n",
    "    for idx, smi in enumerate(smiles_ysi):\n",
    "        if smi_cn == smi:\n",
    "            if ysi[idx][0] < 300:\n",
    "                data_cn.append(cn[idx_cn])\n",
    "                data_ysi.append(ysi[idx])\n",
    "                break\n",
    "\n",
    "print(len(data_cn), len(data_ysi))"
   ]
  },
  {
   "cell_type": "code",
   "execution_count": 2,
   "metadata": {},
   "outputs": [
    {
     "name": "stdout",
     "output_type": "stream",
     "text": [
      "[-1.26880089] [3.36485405]\n",
      "[-0.94708845] [3.27989621]\n"
     ]
    }
   ],
   "source": [
    "import numpy as np\n",
    "from sklearn.preprocessing import StandardScaler\n",
    "\n",
    "scaler_cn = StandardScaler()\n",
    "scaler_ysi = StandardScaler()\n",
    "scaler_cn.fit(data_cn)\n",
    "scaler_ysi.fit(data_ysi)\n",
    "data_cn = scaler_cn.transform(data_cn)\n",
    "data_ysi = scaler_ysi.transform(data_ysi)\n",
    "\n",
    "print(min(data_cn), max(data_cn))\n",
    "print(min(data_ysi), max(data_ysi))"
   ]
  },
  {
   "cell_type": "code",
   "execution_count": 3,
   "metadata": {},
   "outputs": [
    {
     "data": {
      "image/png": "[encoded data removed]",
      "text/plain": [
       "<Figure size 432x288 with 1 Axes>"
      ]
     },
     "metadata": {
      "needs_background": "light"
     },
     "output_type": "display_data"
    }
   ],
   "source": [
    "from matplotlib import pyplot as plt\n",
    "\n",
    "plt.clf()\n",
    "plt.rcParams['font.family'] = 'Times New Roman'\n",
    "plt.xlabel('Scaled CN')\n",
    "plt.ylabel('Scaled YSI')\n",
    "plt.scatter(data_cn, data_ysi, alpha=0.5, color=(0, 114/235, 178/235))\n",
    "plt.show()"
   ]
  },
  {
   "cell_type": "code",
   "execution_count": 4,
   "metadata": {},
   "outputs": [
    {
     "name": "stdout",
     "output_type": "stream",
     "text": [
      "(-0.16025576460666618, 0.084348540551105)\n"
     ]
    }
   ],
   "source": [
    "from scipy.stats import pearsonr\n",
    "\n",
    "print(pearsonr([d[0] for d in data_cn], [d[0] for d in data_ysi]))"
   ]
  },
  {
   "cell_type": "code",
   "execution_count": 5,
   "metadata": {},
   "outputs": [
    {
     "name": "stdout",
     "output_type": "stream",
     "text": [
      "77 77\n"
     ]
    }
   ],
   "source": [
    "##################\n",
    "### CN AND LHV ###\n",
    "##################\n",
    "\n",
    "from ecnet.datasets import load_cn, load_lhv\n",
    "\n",
    "smiles_cn, cn = load_cn()\n",
    "smiles_lhv, lhv = load_lhv()\n",
    "\n",
    "data_cn = []\n",
    "data_lhv = []\n",
    "\n",
    "for idx_cn, smi_cn in enumerate(smiles_cn):\n",
    "    for idx, smi in enumerate(smiles_lhv):\n",
    "        if smi_cn == smi:\n",
    "            data_cn.append(cn[idx_cn])\n",
    "            data_lhv.append(lhv[idx])\n",
    "            break\n",
    "\n",
    "print(len(data_cn), len(data_lhv))"
   ]
  },
  {
   "cell_type": "code",
   "execution_count": 6,
   "metadata": {},
   "outputs": [
    {
     "name": "stdout",
     "output_type": "stream",
     "text": [
      "[-1.14043184] [3.18646595]\n",
      "[-2.64439138] [1.26098293]\n"
     ]
    }
   ],
   "source": [
    "scaler_cn = StandardScaler()\n",
    "scaler_lhv = StandardScaler()\n",
    "scaler_cn.fit(data_cn)\n",
    "scaler_lhv.fit(data_lhv)\n",
    "data_cn = scaler_cn.transform(data_cn)\n",
    "data_lhv = scaler_lhv.transform(data_lhv)\n",
    "\n",
    "print(min(data_cn), max(data_cn))\n",
    "print(min(data_lhv), max(data_lhv))"
   ]
  },
  {
   "cell_type": "code",
   "execution_count": 7,
   "metadata": {},
   "outputs": [
    {
     "data": {
      "image/png": "[encoded data removed]",
      "text/plain": [
       "<Figure size 432x288 with 1 Axes>"
      ]
     },
     "metadata": {
      "needs_background": "light"
     },
     "output_type": "display_data"
    }
   ],
   "source": [
    "plt.clf()\n",
    "plt.rcParams['font.family'] = 'Times New Roman'\n",
    "plt.xlabel('Scaled CN')\n",
    "plt.ylabel('Scaled LHV')\n",
    "plt.scatter(data_cn, data_lhv, alpha=0.5, color=(0, 158/235, 115/235))\n",
    "plt.show()"
   ]
  },
  {
   "cell_type": "code",
   "execution_count": 8,
   "metadata": {},
   "outputs": [
    {
     "name": "stdout",
     "output_type": "stream",
     "text": [
      "(0.1695882191781711, 0.1403487111640603)\n"
     ]
    }
   ],
   "source": [
    "print(pearsonr([d[0] for d in data_cn], [d[0] for d in data_lhv]))"
   ]
  },
  {
   "cell_type": "code",
   "execution_count": 9,
   "metadata": {},
   "outputs": [
    {
     "name": "stdout",
     "output_type": "stream",
     "text": [
      "134 134\n"
     ]
    }
   ],
   "source": [
    "###################\n",
    "### YSI AND LHV ###\n",
    "###################\n",
    "\n",
    "from ecnet.datasets import load_ysi\n",
    "\n",
    "smiles_ysi, ysi = load_ysi()\n",
    "smiles_lhv, lhv = load_lhv()\n",
    "\n",
    "data_ysi = []\n",
    "data_lhv = []\n",
    "\n",
    "for idx_ysi, smi_ysi in enumerate(smiles_ysi):\n",
    "    for idx, smi in enumerate(smiles_lhv):\n",
    "        if smi_ysi == smi:\n",
    "            if ysi[idx_ysi][0] < 300:\n",
    "                data_ysi.append(ysi[idx_ysi])\n",
    "                data_lhv.append(lhv[idx])\n",
    "                break\n",
    "\n",
    "print(len(data_ysi), len(data_lhv))"
   ]
  },
  {
   "cell_type": "code",
   "execution_count": 10,
   "metadata": {},
   "outputs": [
    {
     "name": "stdout",
     "output_type": "stream",
     "text": [
      "[-0.90058789] [4.44316483]\n",
      "[-2.32323928] [1.3202283]\n"
     ]
    }
   ],
   "source": [
    "scaler_ysi = StandardScaler()\n",
    "scaler_lhv = StandardScaler()\n",
    "scaler_ysi.fit(data_ysi)\n",
    "scaler_lhv.fit(data_lhv)\n",
    "data_ysi = scaler_ysi.transform(data_ysi)\n",
    "data_lhv = scaler_lhv.transform(data_lhv)\n",
    "\n",
    "print(min(data_ysi), max(data_ysi))\n",
    "print(min(data_lhv), max(data_lhv))"
   ]
  },
  {
   "cell_type": "code",
   "execution_count": 11,
   "metadata": {},
   "outputs": [
    {
     "data": {
      "image/png": "[encoded data removed]",
      "text/plain": [
       "<Figure size 432x288 with 1 Axes>"
      ]
     },
     "metadata": {
      "needs_background": "light"
     },
     "output_type": "display_data"
    }
   ],
   "source": [
    "plt.clf()\n",
    "plt.rcParams['font.family'] = 'Times New Roman'\n",
    "plt.xlabel('Scaled YSI')\n",
    "plt.ylabel('Scaled LHV')\n",
    "plt.scatter(data_ysi, data_lhv, alpha=0.5, color=(213/235, 94/235, 0))\n",
    "plt.show()"
   ]
  },
  {
   "cell_type": "code",
   "execution_count": 12,
   "metadata": {},
   "outputs": [
    {
     "name": "stdout",
     "output_type": "stream",
     "text": [
      "(0.4106304965489137, 8.308062496232491e-07)\n"
     ]
    }
   ],
   "source": [
    "print(pearsonr([d[0] for d in data_ysi], [d[0] for d in data_lhv]))"
   ]
  }
 ],
 "metadata": {
  "interpreter": {
   "hash": "252b69efb517be662a91ca74889611414461adefdc1b62e7a9ebf1bc6024e96f"
  },
  "kernelspec": {
   "display_name": "Python 3.8.12 ('ecnet')",
   "language": "python",
   "name": "python3"
  },
  "language_info": {
   "codemirror_mode": {
    "name": "ipython",
    "version": 3
   },
   "file_extension": ".py",
   "mimetype": "text/x-python",
   "name": "python",
   "nbconvert_exporter": "python",
   "pygments_lexer": "ipython3",
   "version": "3.8.12"
  },
  "orig_nbformat": 4
 },
 "nbformat": 4,
 "nbformat_minor": 2
}
