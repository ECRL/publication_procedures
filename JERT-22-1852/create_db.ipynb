{
 "cells": [
  {
   "cell_type": "code",
   "execution_count": 1,
   "source": [
    "from csv import DictReader\n",
    "\n",
    "with open('properties_master.csv', 'r') as csv_file:\n",
    "    reader = DictReader(csv_file)\n",
    "    compounds = [r for r in reader]\n",
    "csv_file.close()"
   ],
   "outputs": [],
   "metadata": {}
  },
  {
   "cell_type": "code",
   "execution_count": 2,
   "source": [
    "from alvadescpy import smiles_to_descriptors\n",
    "\n",
    "compounds = [c for c in compounds if c['properties.research_octane_number.value'] != '-']\n",
    "smiles = [c['canonical_smiles'] for c in compounds]\n",
    "descriptors = [smiles_to_descriptors(smi) for smi in smiles]"
   ],
   "outputs": [],
   "metadata": {}
  },
  {
   "cell_type": "code",
   "execution_count": 3,
   "source": [
    "from csv import DictWriter\n",
    "\n",
    "headers = list(compounds[0].keys())[:8]\n",
    "headers.append('properties.research_octane_number.value')\n",
    "headers.append('properties.motor_octane_number.value')\n",
    "desc_headers = list(descriptors[0].keys())\n",
    "\n",
    "rows = []\n",
    "for idx, c in enumerate(compounds):\n",
    "    row = {}\n",
    "    for h in headers:\n",
    "        row[h] = c[h]\n",
    "    for dh in desc_headers:\n",
    "        row[dh] = descriptors[idx][dh]\n",
    "    rows.append(row)\n",
    "headers.extend(desc_headers)\n",
    "\n",
    "with open('octane_database.csv', 'w', encoding='utf8') as csv_file:\n",
    "    writer = DictWriter(csv_file, headers, delimiter=',', lineterminator='\\n')\n",
    "    writer.writeheader()\n",
    "    writer.writerows(rows)\n",
    "csv_file.close()"
   ],
   "outputs": [
    {
     "output_type": "stream",
     "name": "stdout",
     "text": [
      "['cas', 'cid', 'iupac_name', 'canonical_smiles', 'isomeric_smiles', 'inchi', 'inchikey', 'molecular_formula']\n"
     ]
    }
   ],
   "metadata": {}
  },
  {
   "cell_type": "code",
   "execution_count": null,
   "source": [],
   "outputs": [],
   "metadata": {}
  }
 ],
 "metadata": {
  "orig_nbformat": 4,
  "language_info": {
   "name": "python",
   "version": "3.8.8",
   "mimetype": "text/x-python",
   "codemirror_mode": {
    "name": "ipython",
    "version": 3
   },
   "pygments_lexer": "ipython3",
   "nbconvert_exporter": "python",
   "file_extension": ".py"
  },
  "kernelspec": {
   "name": "python3",
   "display_name": "Python 3.8.8 64-bit ('ecnet_pytorch': conda)"
  },
  "interpreter": {
   "hash": "0789dd0ccc4b07b8483f2d37bc810f512177bb33f25576090d1f0e6718879585"
  }
 },
 "nbformat": 4,
 "nbformat_minor": 2
}