{
 "cells": [
  {
   "cell_type": "code",
   "execution_count": 1,
   "metadata": {},
   "outputs": [
    {
     "name": "stdout",
     "output_type": "stream",
     "text": [
      "278\n"
     ]
    }
   ],
   "source": [
    "from csv import DictReader\n",
    "\n",
    "with open('octane_database.csv', 'r') as csv_file:\n",
    "    reader = DictReader(csv_file)\n",
    "    compounds = [r for r in reader]\n",
    "csv_file.close()\n",
    "print(len(compounds))"
   ]
  },
  {
   "cell_type": "code",
   "execution_count": 2,
   "metadata": {},
   "outputs": [],
   "source": [
    "smiles = [c['canonical_smiles'] for c in compounds]\n",
    "mon = [[float(c['properties.motor_octane_number.value'])] for c in compounds]\n",
    "ron = [[float(c['properties.research_octane_number.value'])] for c in compounds]\n",
    "os = [[ron[i][0] - mon[i][0]] for i in range(len(compounds))]"
   ]
  },
  {
   "cell_type": "code",
   "execution_count": 3,
   "metadata": {},
   "outputs": [],
   "source": [
    "from sklearn.model_selection import train_test_split\n",
    "\n",
    "mon_smiles_train, mon_smiles_test, mon_train, mon_test = train_test_split(smiles, mon, test_size=0.1, random_state=42)\n",
    "ron_smiles_train, ron_smiles_test, ron_train, ron_test = train_test_split(smiles, ron, test_size=0.1, random_state=42)\n",
    "os_smiles_train, os_smiles_test, os_train, os_test = train_test_split(smiles, os, test_size=0.1, random_state=42)"
   ]
  },
  {
   "cell_type": "code",
   "execution_count": 4,
   "metadata": {},
   "outputs": [],
   "source": [
    "from ecnet.datasets import QSPRDataset\n",
    "\n",
    "dataset_mon_train = QSPRDataset(mon_smiles_train, mon_train, backend='alvadesc')\n",
    "dataset_mon_test = QSPRDataset(mon_smiles_test, mon_test, backend='alvadesc')\n",
    "dataset_ron_train = QSPRDataset(ron_smiles_train, ron_train, backend='alvadesc')\n",
    "dataset_ron_test = QSPRDataset(ron_smiles_test, ron_test, backend='alvadesc')\n",
    "dataset_os_train = QSPRDataset(os_smiles_train, os_train, backend='alvadesc')\n",
    "dataset_os_test = QSPRDataset(os_smiles_test, os_test, backend='alvadesc')"
   ]
  },
  {
   "cell_type": "code",
   "execution_count": 5,
   "metadata": {},
   "outputs": [],
   "source": [
    "from ecnet.tasks import select_rfr\n",
    "\n",
    "desc_idx_mon, _ = select_rfr(dataset_mon_train, total_importance=0.9999, n_estimators=50, n_jobs=4)\n",
    "desc_idx_mon = desc_idx_mon[:250]\n",
    "\n",
    "desc_idx_ron, _ = select_rfr(dataset_ron_train, total_importance=0.9999, n_estimators=50, n_jobs=4)\n",
    "desc_idx_ron = desc_idx_ron[:250]\n",
    "\n",
    "desc_idx_os, _ = select_rfr(dataset_os_train, total_importance=0.9999, n_estimators=50, n_jobs=4)\n",
    "desc_idx_os = desc_idx_os[:250]"
   ]
  },
  {
   "cell_type": "code",
   "execution_count": 6,
   "metadata": {},
   "outputs": [],
   "source": [
    "dataset_mon_train.set_desc_index(desc_idx_mon)\n",
    "dataset_mon_test.set_desc_index(desc_idx_mon)\n",
    "dataset_ron_train.set_desc_index(desc_idx_ron)\n",
    "dataset_ron_test.set_desc_index(desc_idx_ron)\n",
    "dataset_os_train.set_desc_index(desc_idx_os)\n",
    "dataset_os_test.set_desc_index(desc_idx_os)"
   ]
  },
  {
   "cell_type": "code",
   "execution_count": 7,
   "metadata": {},
   "outputs": [
    {
     "name": "stdout",
     "output_type": "stream",
     "text": [
      "Iteration: 0 | Time: 0.0002620220184326172\n",
      "Iteration: 1 | Time: 5.773781061172485\n",
      "Iteration: 2 | Time: 12.227968215942383\n",
      "Iteration: 3 | Time: 17.57283592224121\n",
      "Iteration: 4 | Time: 21.300493955612183\n",
      "Iteration: 5 | Time: 27.736977100372314\n",
      "Iteration: 6 | Time: 33.560230016708374\n",
      "Iteration: 7 | Time: 37.654128074645996\n",
      "Iteration: 8 | Time: 44.07474207878113\n",
      "Iteration: 9 | Time: 48.01907515525818\n",
      "Iteration: 10 | Time: 52.77380013465881\n",
      "Iteration: 11 | Time: 56.01689600944519\n",
      "Iteration: 12 | Time: 62.206191062927246\n",
      "Iteration: 13 | Time: 67.74489212036133\n",
      "Iteration: 14 | Time: 72.9430980682373\n",
      "Iteration: 15 | Time: 79.20378398895264\n",
      "Iteration: 16 | Time: 83.99540114402771\n",
      "Iteration: 17 | Time: 88.10066413879395\n",
      "Iteration: 18 | Time: 92.90237307548523\n",
      "Iteration: 19 | Time: 99.01235318183899\n",
      "Iteration: 20 | Time: 104.90335607528687\n",
      "Iteration: 21 | Time: 111.0126621723175\n",
      "Iteration: 22 | Time: 116.35843992233276\n",
      "Iteration: 23 | Time: 119.65638613700867\n",
      "Iteration: 24 | Time: 125.85438394546509\n"
     ]
    }
   ],
   "source": [
    "from ecnet import ECNet\n",
    "from sklearn.metrics import mean_squared_error, r2_score\n",
    "from time import time\n",
    "\n",
    "mon_test_rmses = []\n",
    "mon_test_r2s = []\n",
    "ron_test_rmses = []\n",
    "ron_test_r2s = []\n",
    "os_test_rmses = []\n",
    "os_test_r2s = []\n",
    "dos_test_rmses = []\n",
    "dos_test_r2s = []\n",
    "\n",
    "t_start = time()\n",
    "\n",
    "for i in range(25):\n",
    "\n",
    "    print(f'Iteration: {i} | Time: {time() - t_start}')\n",
    "\n",
    "    model_mon = ECNet(dataset_mon_train.desc_vals.shape[1], dataset_mon_train.target_vals.shape[1], 128, 2)\n",
    "    model_ron = ECNet(dataset_ron_train.desc_vals.shape[1], dataset_ron_train.target_vals.shape[1], 128, 2)\n",
    "    model_os = ECNet(dataset_os_train.desc_vals.shape[1], dataset_os_train.target_vals.shape[1], 128, 2)\n",
    "\n",
    "    _, _ = model_mon.fit(\n",
    "        dataset=dataset_mon_train, valid_size=0.112, verbose=0,\n",
    "        patience=32, epochs=512, random_state=24, lr=0.001\n",
    "    )\n",
    "\n",
    "    _, _ = model_ron.fit(\n",
    "        dataset=dataset_ron_train, valid_size=0.112, verbose=0,\n",
    "        patience=32, epochs=512, random_state=24, lr=0.001\n",
    "    )\n",
    "\n",
    "    _, _, model_os.fit(\n",
    "        dataset=dataset_os_train, valid_size=0.112, verbose=0,\n",
    "        patience=32, epochs=512, random_state=24, lr=0.001\n",
    "    )\n",
    "\n",
    "    mon_test_exp = [t[0] for t in dataset_mon_test.target_vals]\n",
    "    mon_test_pred = model_mon(dataset_mon_test.desc_vals).detach().numpy()\n",
    "    mon_test_pred = [t[0] for t in mon_test_pred]\n",
    "\n",
    "    ron_test_exp = [t[0] for t in dataset_ron_test.target_vals]\n",
    "    ron_test_pred = model_ron(dataset_ron_test.desc_vals).detach().numpy()\n",
    "    ron_test_pred = [t[0] for t in ron_test_pred]\n",
    "\n",
    "    os_test_exp = [t[0] for t in dataset_os_test.target_vals]\n",
    "    os_test_pred = model_os(dataset_os_test.desc_vals).detach().numpy()\n",
    "    os_test_pred = [t[0] for t in os_test_pred]\n",
    "\n",
    "    dos_test_exp = [ron_test_exp[i] - mon_test_exp[i] for i in range(len(ron_test_exp))]\n",
    "    dos_test_pred = [ron_test_pred[i] - mon_test_pred[i] for i in range(len(ron_test_pred))]\n",
    "\n",
    "    mon_test_rmses.append(mean_squared_error(mon_test_exp, mon_test_pred, squared=False))\n",
    "    mon_test_r2s.append(r2_score(mon_test_exp, mon_test_pred))\n",
    "\n",
    "    ron_test_rmses.append(mean_squared_error(ron_test_exp, ron_test_pred, squared=False))\n",
    "    ron_test_r2s.append(r2_score(ron_test_exp, ron_test_pred))\n",
    "\n",
    "    os_test_rmses.append(mean_squared_error(os_test_exp, os_test_pred, squared=False))\n",
    "    os_test_r2s.append(r2_score(os_test_exp, os_test_pred))\n",
    "\n",
    "    dos_test_rmses.append(mean_squared_error(dos_test_exp, dos_test_pred, squared=False))\n",
    "    dos_test_r2s.append(r2_score(dos_test_exp, dos_test_pred))"
   ]
  },
  {
   "cell_type": "code",
   "execution_count": 8,
   "metadata": {},
   "outputs": [
    {
     "name": "stdout",
     "output_type": "stream",
     "text": [
      "MON:\n",
      "RMSE: 7.616631984710693 +/- 0.791519820690155\n",
      "R2: 0.7688152112790544 +/- 0.04845783208786662\n",
      "\n",
      "RON:\n",
      "RMSE: 8.676424026489258 +/- 1.6391263008117676\n",
      "R2: 0.8105279815777808 +/- 0.0744763112970065\n",
      "\n",
      "OS:\n",
      "RMSE: 5.771915912628174 +/- 0.4058595597743988\n",
      "R2: 0.514358310218067 +/- 0.06794389653676955\n",
      "\n",
      "dOS:\n",
      "RMSE: 8.976502418518066 +/- 1.9798811674118042\n",
      "R2: -0.22568220765416144 +/- 0.5697310570361092\n",
      "\n"
     ]
    }
   ],
   "source": [
    "import numpy as np\n",
    "\n",
    "print('MON:')\n",
    "print(f'RMSE: {np.mean(mon_test_rmses)} +/- {np.std(mon_test_rmses)}')\n",
    "print(f'R2: {np.mean(mon_test_r2s)} +/- {np.std(mon_test_r2s)}')\n",
    "print()\n",
    "\n",
    "print('RON:')\n",
    "print(f'RMSE: {np.mean(ron_test_rmses)} +/- {np.std(ron_test_rmses)}')\n",
    "print(f'R2: {np.mean(ron_test_r2s)} +/- {np.std(ron_test_r2s)}')\n",
    "print()\n",
    "\n",
    "print('OS:')\n",
    "print(f'RMSE: {np.mean(os_test_rmses)} +/- {np.std(os_test_rmses)}')\n",
    "print(f'R2: {np.mean(os_test_r2s)} +/- {np.std(os_test_r2s)}')\n",
    "print()\n",
    "\n",
    "print('dOS:')\n",
    "print(f'RMSE: {np.mean(dos_test_rmses)} +/- {np.std(dos_test_rmses)}')\n",
    "print(f'R2: {np.mean(dos_test_r2s)} +/- {np.std(dos_test_r2s)}')\n",
    "print()"
   ]
  },
  {
   "cell_type": "code",
   "execution_count": null,
   "metadata": {},
   "outputs": [],
   "source": []
  }
 ],
 "metadata": {
  "interpreter": {
   "hash": "ead3c86577feeba8b116590dddffe48caf8bde476dc8c2f01d399f7c56fe3aec"
  },
  "kernelspec": {
   "display_name": "Python 3.8.8 64-bit ('ecnet_pytorch': conda)",
   "language": "python",
   "name": "python3"
  },
  "language_info": {
   "codemirror_mode": {
    "name": "ipython",
    "version": 3
   },
   "file_extension": ".py",
   "mimetype": "text/x-python",
   "name": "python",
   "nbconvert_exporter": "python",
   "pygments_lexer": "ipython3",
   "version": "3.8.8"
  },
  "orig_nbformat": 4
 },
 "nbformat": 4,
 "nbformat_minor": 2
}
