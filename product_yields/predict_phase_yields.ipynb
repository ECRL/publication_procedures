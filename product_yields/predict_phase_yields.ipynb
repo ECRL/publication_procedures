{
 "metadata": {
  "language_info": {
   "codemirror_mode": {
    "name": "ipython",
    "version": 3
   },
   "file_extension": ".py",
   "mimetype": "text/x-python",
   "name": "python",
   "nbconvert_exporter": "python",
   "pygments_lexer": "ipython3",
   "version": "3.8.10"
  },
  "orig_nbformat": 4,
  "kernelspec": {
   "name": "python3",
   "display_name": "Python 3.8.10 64-bit ('torch_vae': conda)"
  },
  "interpreter": {
   "hash": "b344297fe7430fc0be828d88549a6c3ccc508d9c5cd3c133b35c44b5a1cdd06b"
  }
 },
 "nbformat": 4,
 "nbformat_minor": 2,
 "cells": [
  {
   "cell_type": "code",
   "execution_count": 10,
   "metadata": {},
   "outputs": [
    {
     "output_type": "stream",
     "name": "stdout",
     "text": [
      "7 10 27\n"
     ]
    }
   ],
   "source": [
    "from typing import List, Dict\n",
    "from csv import DictReader\n",
    "\n",
    "def open_data(filename: str) -> List[Dict[str, str]]:\n",
    "    \"\"\"\n",
    "    Opens CSV file, returns entries\n",
    "    \"\"\"\n",
    "\n",
    "    with open(filename, 'r') as csv_file:\n",
    "        reader = DictReader(csv_file)\n",
    "        rows = [r for r in reader]\n",
    "    csv_file.close()\n",
    "    return rows\n",
    "\n",
    "def prune_data(rows: List[Dict[str, str]]) -> List[Dict[str, float]]:\n",
    "    \"\"\"\n",
    "    Removes data samples with blank values in input/target data\n",
    "    \"\"\"\n",
    "\n",
    "    new_rows = []\n",
    "    keys = list(rows[0].keys())\n",
    "    for row in rows:\n",
    "        new_row = {}\n",
    "        _valid = True\n",
    "        for k in keys:\n",
    "            try:\n",
    "                new_row[k] = float(row[k])\n",
    "            except ValueError:\n",
    "                _valid = False\n",
    "                break\n",
    "        if _valid:\n",
    "            new_rows.append(new_row)\n",
    "    return new_rows\n",
    "\n",
    "data_fb = open_data('_data/fluidized_bed.csv')\n",
    "data_fb = prune_data(data_fb)\n",
    "data_tr = open_data('_data/tubular_reactor.csv')\n",
    "data_tr = prune_data(data_tr)\n",
    "data_br = open_data('_data/batch_reactor.csv')\n",
    "data_br = prune_data(data_br)\n",
    "\n",
    "print(len(data_fb), len(data_tr), len(data_br))"
   ]
  },
  {
   "cell_type": "code",
   "execution_count": 11,
   "metadata": {},
   "outputs": [],
   "source": [
    "from structs import ReactorDataset\n",
    "\n",
    "def create_dataset(data: List[Dict[str, float]], target_headers: List[str]) -> 'structs.ReactorDataset':\n",
    "\n",
    "    input_headers = list(data[0].keys())\n",
    "    for head in target_headers:\n",
    "        input_headers.remove(head)\n",
    "\n",
    "    X = []\n",
    "    y = []\n",
    "\n",
    "targets = ['water', 'Oil', 'Char', 'Gas']"
   ]
  },
  {
   "cell_type": "code",
   "execution_count": null,
   "metadata": {},
   "outputs": [],
   "source": []
  }
 ]
}