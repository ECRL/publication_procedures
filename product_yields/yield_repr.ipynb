{
 "cells": [
  {
   "cell_type": "code",
   "execution_count": 1,
   "metadata": {},
   "outputs": [],
   "source": [
    "# Import data from CSV files\n",
    "from csv import DictReader\n",
    "\n",
    "with open('_data/fluidized_bed.csv', 'r') as csv_file:\n",
    "    reader = DictReader(csv_file)\n",
    "    rows_fb = [r for r in reader]\n",
    "csv_file.close()\n",
    "\n",
    "with open('_data/batch_reactor.csv', 'r') as csv_file:\n",
    "    reader = DictReader(csv_file)\n",
    "    rows_br = [r for r in reader]\n",
    "csv_file.close()\n",
    "\n",
    "with open('_data/tubular_reactor.csv', 'r') as csv_file:\n",
    "    reader = DictReader(csv_file)\n",
    "    rows_tr = [r for r in reader]\n",
    "csv_file.close()\n",
    "\n",
    "rows_all = rows_fb[:]\n",
    "rows_all.extend(rows_br)\n",
    "rows_all.extend(rows_tr)"
   ]
  },
  {
   "cell_type": "code",
   "execution_count": 2,
   "metadata": {},
   "outputs": [],
   "source": [
    "oil_fb, char_fb, gas_fb = [], [], []\n",
    "for r in rows_fb:\n",
    "    try:\n",
    "        _o = float(r['Oil'])\n",
    "        _c = float(r['Char'])\n",
    "        _g = float(r['Gas'])\n",
    "    except:\n",
    "        continue\n",
    "    oil_fb.append(_o)\n",
    "    char_fb.append(_c)\n",
    "    gas_fb.append(_g)\n",
    "\n",
    "oil_br, char_br, gas_br = [], [], []\n",
    "for r in rows_br:\n",
    "    try:\n",
    "        _o = float(r['Oil'])\n",
    "        _c = float(r['Char'])\n",
    "        _g = float(r['Gas'])\n",
    "    except:\n",
    "        continue\n",
    "    oil_br.append(_o)\n",
    "    char_br.append(_c)\n",
    "    gas_br.append(_g)\n",
    "\n",
    "oil_tr, char_tr, gas_tr = [], [], []\n",
    "for r in rows_tr:\n",
    "    try:\n",
    "        _o = float(r['Oil'])\n",
    "        _c = float(r['Char'])\n",
    "        _g = float(r['Gas'])\n",
    "    except:\n",
    "        continue\n",
    "    oil_tr.append(_o)\n",
    "    char_tr.append(_c)\n",
    "    gas_tr.append(_g)\n",
    "\n",
    "oil_all, char_all, gas_all = [], [], []\n",
    "for r in rows_all:\n",
    "    try:\n",
    "        _o = float(r['Oil'])\n",
    "        _c = float(r['Char'])\n",
    "        _g = float(r['Gas'])\n",
    "    except:\n",
    "        continue\n",
    "    oil_all.append(_o)\n",
    "    char_all.append(_c)\n",
    "    gas_all.append(_g)"
   ]
  },
  {
   "cell_type": "code",
   "execution_count": 3,
   "metadata": {},
   "outputs": [
    {
     "data": {
      "image/png": "[encoded data removed]",
      "text/plain": [
       "<Figure size 432x288 with 1 Axes>"
      ]
     },
     "metadata": {
      "needs_background": "light"
     },
     "output_type": "display_data"
    }
   ],
   "source": [
    "from matplotlib import pyplot as plt\n",
    "\n",
    "plt.clf()\n",
    "plt.rcParams['font.family'] = 'Times New Roman'\n",
    "plt.xlabel('% Oil')\n",
    "plt.ylabel('Frequency of value')\n",
    "plt.hist(oil_fb, bins=15, color=(0, 114/235, 178/235), label='Fluidized Bed', alpha=0.5)\n",
    "plt.hist(oil_br, bins=15, color=(0, 158/235, 115/235), label='Batch Reactor', alpha=0.5)\n",
    "plt.hist(oil_tr, bins=15, color=(213/235, 94/235, 0), label='Tubular Reactor', alpha=0.5)\n",
    "plt.legend(loc='upper left')\n",
    "plt.show()"
   ]
  },
  {
   "cell_type": "code",
   "execution_count": 4,
   "metadata": {},
   "outputs": [
    {
     "data": {
      "image/png": "[encoded data removed]",
      "text/plain": [
       "<Figure size 432x288 with 1 Axes>"
      ]
     },
     "metadata": {
      "needs_background": "light"
     },
     "output_type": "display_data"
    }
   ],
   "source": [
    "plt.clf()\n",
    "plt.rcParams['font.family'] = 'Times New Roman'\n",
    "plt.xlabel('% Char')\n",
    "plt.ylabel('Frequency of value')\n",
    "plt.hist(char_fb, bins=15, color=(0, 114/235, 178/235), label='Fluidized Bed', alpha=0.5)\n",
    "plt.hist(char_br, bins=15, color=(0, 158/235, 115/235), label='Batch Reactor', alpha=0.5)\n",
    "plt.hist(char_tr, bins=15, color=(213/235, 94/235, 0), label='Tubular Reactor', alpha=0.5)\n",
    "plt.legend(loc='upper right')\n",
    "plt.show()"
   ]
  },
  {
   "cell_type": "code",
   "execution_count": 5,
   "metadata": {},
   "outputs": [
    {
     "data": {
      "image/png": "[encoded data removed]",
      "text/plain": [
       "<Figure size 432x288 with 1 Axes>"
      ]
     },
     "metadata": {
      "needs_background": "light"
     },
     "output_type": "display_data"
    }
   ],
   "source": [
    "plt.clf()\n",
    "plt.rcParams['font.family'] = 'Times New Roman'\n",
    "plt.xlabel('% Gas')\n",
    "plt.ylabel('Frequency of value')\n",
    "plt.hist(gas_fb, bins=15, color=(0, 114/235, 178/235), label='Fluidized Bed', alpha=0.5)\n",
    "plt.hist(gas_br, bins=15, color=(0, 158/235, 115/235), label='Batch Reactor', alpha=0.5)\n",
    "plt.hist(gas_tr, bins=15, color=(213/235, 94/235, 0), label='Tubular Reactor', alpha=0.5)\n",
    "plt.legend(loc='upper right')\n",
    "plt.show()"
   ]
  }
 ],
 "metadata": {
  "interpreter": {
   "hash": "252b69efb517be662a91ca74889611414461adefdc1b62e7a9ebf1bc6024e96f"
  },
  "kernelspec": {
   "display_name": "Python 3.8.12 ('ecnet')",
   "language": "python",
   "name": "python3"
  },
  "language_info": {
   "codemirror_mode": {
    "name": "ipython",
    "version": 3
   },
   "file_extension": ".py",
   "mimetype": "text/x-python",
   "name": "python",
   "nbconvert_exporter": "python",
   "pygments_lexer": "ipython3",
   "version": "3.8.12"
  },
  "orig_nbformat": 4
 },
 "nbformat": 4,
 "nbformat_minor": 2
}
