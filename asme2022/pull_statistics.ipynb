{
 "cells": [
  {
   "cell_type": "code",
   "execution_count": 1,
   "metadata": {},
   "outputs": [],
   "source": [
    "from csv import DictReader\n",
    "\n",
    "with open('_data/properties_master.csv', 'r') as csv_file:\n",
    "    reader = DictReader(csv_file)\n",
    "    rows = [r for r in reader]\n",
    "csv_file.close()"
   ]
  },
  {
   "cell_type": "code",
   "execution_count": 2,
   "metadata": {},
   "outputs": [
    {
     "name": "stdout",
     "output_type": "stream",
     "text": [
      "150\n"
     ]
    }
   ],
   "source": [
    "properties_to_use = [\n",
    "    'properties.cetane_number.value',\n",
    "    'properties.ysi_unified.value'\n",
    "]\n",
    "\n",
    "samples = []\n",
    "for row in rows:\n",
    "    use = True\n",
    "    for prop in properties_to_use:\n",
    "        if row[prop] == '-':\n",
    "            use = False\n",
    "            break\n",
    "    if use:\n",
    "        samples.append(row)\n",
    "\n",
    "print(len(samples))"
   ]
  },
  {
   "cell_type": "code",
   "execution_count": 3,
   "metadata": {},
   "outputs": [
    {
     "name": "stdout",
     "output_type": "stream",
     "text": [
      "[-7.] [160.]\n",
      "[6.6] [774.5]\n"
     ]
    }
   ],
   "source": [
    "import numpy as np\n",
    "from sklearn.preprocessing import RobustScaler\n",
    "\n",
    "data_cn = np.array([float(s['properties.cetane_number.value']) for s in samples]).reshape(-1, 1)\n",
    "data_ysi = np.array([float(s['properties.ysi_unified.value']) for s in samples]).reshape(-1, 1)\n",
    "smiles = [s['canonical_smiles'] for s in samples]\n",
    "\n",
    "print(min(data_cn), max(data_cn))\n",
    "print(min(data_ysi), max(data_ysi))"
   ]
  },
  {
   "cell_type": "code",
   "execution_count": 4,
   "metadata": {},
   "outputs": [
    {
     "data": {
      "image/png": "[encoded data removed]",
      "text/plain": [
       "<Figure size 432x288 with 1 Axes>"
      ]
     },
     "metadata": {
      "needs_background": "light"
     },
     "output_type": "display_data"
    }
   ],
   "source": [
    "from matplotlib import pyplot as plt\n",
    "\n",
    "plt.scatter(data_cn, data_ysi)\n",
    "plt.show()"
   ]
  },
  {
   "cell_type": "code",
   "execution_count": 5,
   "metadata": {},
   "outputs": [
    {
     "name": "stdout",
     "output_type": "stream",
     "text": [
      "30.885333333333328 26.15231127240743\n",
      "111.81066666666666 146.08509718501597\n"
     ]
    }
   ],
   "source": [
    "import numpy as np\n",
    "\n",
    "print(np.mean(data_cn), np.std(data_cn))\n",
    "print(np.mean(data_ysi), np.std(data_ysi))"
   ]
  },
  {
   "cell_type": "code",
   "execution_count": 6,
   "metadata": {},
   "outputs": [
    {
     "name": "stdout",
     "output_type": "stream",
     "text": [
      "106 106 106\n"
     ]
    }
   ],
   "source": [
    "cn_mean = np.mean(data_cn)\n",
    "cn_std = np.std(data_cn)\n",
    "\n",
    "ysi_mean = np.mean(data_ysi)\n",
    "ysi_std = np.std(data_ysi)\n",
    "\n",
    "# cn_lower_bounds, cn_upper_bounds = cn_mean - 2 * cn_std, cn_mean + 2 * cn_std\n",
    "# ysi_lower_bounds, ysi_upper_bounds = ysi_mean - 1 * ysi_std, ysi_mean + 0.3 * ysi_std\n",
    "cn_lower_bounds, cn_upper_bounds = 0, 100\n",
    "ysi_lower_bounds, ysi_upper_bounds = 0, 100\n",
    "\n",
    "smiles_to_use = []\n",
    "cn_to_use = []\n",
    "ysi_to_use = []\n",
    "\n",
    "for i in range(len(smiles)):\n",
    "\n",
    "    if data_cn[i] > cn_lower_bounds and data_cn[i] < cn_upper_bounds:\n",
    "        if data_ysi[i] > ysi_lower_bounds and data_ysi[i] < ysi_upper_bounds:\n",
    "            smiles_to_use.append(smiles[i])\n",
    "            cn_to_use.append(data_cn[i])\n",
    "            ysi_to_use.append(data_ysi[i])\n",
    "\n",
    "print(len(smiles_to_use), len(cn_to_use), len(ysi_to_use))"
   ]
  },
  {
   "cell_type": "code",
   "execution_count": 7,
   "metadata": {},
   "outputs": [
    {
     "data": {
      "image/png": "[encoded data removed]",
      "text/plain": [
       "<Figure size 432x288 with 1 Axes>"
      ]
     },
     "metadata": {
      "needs_background": "light"
     },
     "output_type": "display_data"
    }
   ],
   "source": [
    "plt.clf()\n",
    "plt.xlabel('CN')\n",
    "plt.ylabel('YSI')\n",
    "plt.scatter(cn_to_use, ysi_to_use)\n",
    "plt.show()"
   ]
  },
  {
   "cell_type": "code",
   "execution_count": 8,
   "metadata": {},
   "outputs": [
    {
     "name": "stdout",
     "output_type": "stream",
     "text": [
      "SpearmanrResult(correlation=0.2478856635508779, pvalue=0.01040722287305897) (0.215349403569841, 0.02662655456184195)\n"
     ]
    }
   ],
   "source": [
    "from scipy.stats import spearmanr, pearsonr\n",
    "\n",
    "print(spearmanr([c[0] for c in cn_to_use], [y[0] for y in ysi_to_use]), pearsonr([c[0] for c in cn_to_use], [y[0] for y in ysi_to_use]))"
   ]
  },
  {
   "cell_type": "code",
   "execution_count": 9,
   "metadata": {},
   "outputs": [],
   "source": [
    "from ecnet.datasets import QSPRDataset, QSPRDatasetFromValues\n",
    "from sklearn.model_selection import train_test_split\n",
    "import torch\n",
    "\n",
    "cn_train, cn_test, ysi_train, ysi_test, smiles_train, smiles_test = train_test_split(cn_to_use, ysi_to_use, smiles_to_use, test_size=0.2, random_state=42)\n",
    "targets_train = np.concatenate((cn_train, ysi_train), axis=1)\n",
    "targets_test = np.concatenate((cn_test, ysi_test), axis=1)\n",
    "\n",
    "ds_train = QSPRDataset(smiles_train, targets_train, backend='alvadesc')\n",
    "ds_test = QSPRDataset(smiles_test, targets_test, backend='alvadesc')\n",
    "\n",
    "ds_train_cn = QSPRDatasetFromValues(ds_train.desc_vals, cn_train)\n",
    "ds_test_cn = QSPRDatasetFromValues(ds_test.desc_vals, cn_test)\n",
    "\n",
    "ds_train_ysi = QSPRDatasetFromValues(ds_train.desc_vals, ysi_train)\n",
    "ds_test_ysi = QSPRDatasetFromValues(ds_test.desc_vals, ysi_test)\n",
    "\n",
    "DESC_VALS = torch.cat((ds_train.desc_vals, ds_test.desc_vals))\n",
    "TARG_VALS = torch.cat((ds_train.target_vals, ds_test.target_vals))"
   ]
  },
  {
   "cell_type": "code",
   "execution_count": 10,
   "metadata": {},
   "outputs": [
    {
     "name": "stdout",
     "output_type": "stream",
     "text": [
      "torch.Size([84, 84]) torch.Size([22, 84])\n",
      "torch.Size([84, 84]) torch.Size([22, 84])\n",
      "torch.Size([84, 84]) torch.Size([22, 84])\n"
     ]
    }
   ],
   "source": [
    "from sklearn.decomposition import PCA\n",
    "\n",
    "pca = PCA()\n",
    "pca.fit(ds_train.desc_vals.detach().numpy())\n",
    "\n",
    "ds_train.desc_vals = torch.tensor(pca.transform(ds_train.desc_vals.detach().numpy())).type(torch.float32)\n",
    "ds_test.desc_vals = torch.tensor(pca.transform(ds_test.desc_vals.detach().numpy())).type(torch.float32)\n",
    "\n",
    "# all datasets have the same samples, only target values differ\n",
    "ds_train_cn.desc_vals = ds_train.desc_vals\n",
    "ds_test_cn.desc_vals = ds_test.desc_vals\n",
    "ds_train_ysi.desc_vals = ds_train.desc_vals\n",
    "ds_test_ysi.desc_vals = ds_test.desc_vals\n",
    "\n",
    "print(ds_train.desc_vals.shape, ds_test.desc_vals.shape)\n",
    "print(ds_train_cn.desc_vals.shape, ds_test_cn.desc_vals.shape)\n",
    "print(ds_train_ysi.desc_vals.shape, ds_test_ysi.desc_vals.shape)\n",
    "\n",
    "# TODO: typecast within QSPRDataset to prevent float32 vs. double errors\n",
    "ds_train.target_vals = ds_train.target_vals.type(torch.float32)\n",
    "ds_test.target_vals = ds_test.target_vals.type(torch.float32)\n",
    "ds_train_cn.target_vals = ds_train_cn.target_vals.type(torch.float32)\n",
    "ds_test_cn.target_vals = ds_test_cn.target_vals.type(torch.float32)\n",
    "ds_train_ysi.target_vals = ds_train_ysi.target_vals.type(torch.float32)\n",
    "ds_test_ysi.target_vals = ds_test_ysi.target_vals.type(torch.float32)"
   ]
  },
  {
   "cell_type": "code",
   "execution_count": 11,
   "metadata": {},
   "outputs": [],
   "source": [
    "from ecnet import ECNet\n",
    "\n",
    "model = ECNet(ds_train.desc_vals.shape[1], ds_train.target_vals.shape[1], 512, 3)\n",
    "model_cn = ECNet(ds_train_cn.desc_vals.shape[1], ds_train_cn.target_vals.shape[1], 512, 3)\n",
    "model_ysi = ECNet(ds_train_ysi.desc_vals.shape[1], ds_train_ysi.target_vals.shape[1], 512, 3)"
   ]
  },
  {
   "cell_type": "code",
   "execution_count": 12,
   "metadata": {},
   "outputs": [
    {
     "name": "stdout",
     "output_type": "stream",
     "text": [
      "CN/YSI...\n",
      "Epoch: 0 | Train loss: 1652.23388671875 | Valid loss: 9223372036854775807\n",
      "Epoch: 15 | Train loss: 214.95847647530692 | Valid loss: 247.95895385742188\n",
      "Epoch: 30 | Train loss: 88.4143556867327 | Valid loss: 66.94405364990234\n",
      "Epoch: 45 | Train loss: 22.507891246250697 | Valid loss: 28.391834259033203\n",
      "Epoch: 60 | Train loss: 8.342958586556572 | Valid loss: 5.470149040222168\n",
      "Epoch: 75 | Train loss: 4.089459964207241 | Valid loss: 4.181137561798096\n",
      "Epoch: 90 | Train loss: 1.1094124742916651 | Valid loss: 0.6825426816940308\n",
      "Epoch: 105 | Train loss: 1.245147364480155 | Valid loss: 0.4524402618408203\n",
      "Epoch: 120 | Train loss: 0.7457589762551444 | Valid loss: 0.5673273801803589\n",
      "CN...\n",
      "Epoch: 0 | Train loss: 1215.8357561383928 | Valid loss: 9223372036854775807\n",
      "Epoch: 15 | Train loss: 241.70175410679408 | Valid loss: 265.9616394042969\n",
      "Epoch: 30 | Train loss: 39.9043571472168 | Valid loss: 116.22095489501953\n",
      "Epoch: 45 | Train loss: 84.77469308035714 | Valid loss: 141.635009765625\n",
      "Epoch: 60 | Train loss: 10.405985048839025 | Valid loss: 27.498760223388672\n",
      "Epoch: 75 | Train loss: 3.5809601306915284 | Valid loss: 5.137392997741699\n",
      "Epoch: 90 | Train loss: 2.0202465772628786 | Valid loss: 1.8093680143356323\n",
      "Epoch: 105 | Train loss: 0.785151458638055 | Valid loss: 0.6826934814453125\n",
      "Epoch: 120 | Train loss: 0.49135436841419766 | Valid loss: 0.4015836715698242\n",
      "Epoch: 135 | Train loss: 2.168118565423148 | Valid loss: 3.2781167030334473\n",
      "Epoch: 150 | Train loss: 3.5772423573902676 | Valid loss: 1.0409120321273804\n",
      "YSI...\n",
      "Epoch: 0 | Train loss: 1722.8834751674108 | Valid loss: 9223372036854775807\n",
      "Epoch: 15 | Train loss: 132.89124461582728 | Valid loss: 88.3812026977539\n",
      "Epoch: 30 | Train loss: 17.77980068751744 | Valid loss: 25.966190338134766\n",
      "Epoch: 45 | Train loss: 5.433166299547468 | Valid loss: 7.90813684463501\n",
      "Epoch: 60 | Train loss: 1.3514173201152258 | Valid loss: 2.0647454261779785\n",
      "Epoch: 75 | Train loss: 0.9850080183574131 | Valid loss: 0.9090418815612793\n",
      "Epoch: 90 | Train loss: 0.5074734347207206 | Valid loss: 0.4956473410129547\n",
      "Epoch: 105 | Train loss: 0.19302602963788168 | Valid loss: 0.4148389399051666\n",
      "Epoch: 120 | Train loss: 0.16304862073489598 | Valid loss: 0.09270377457141876\n",
      "Epoch: 135 | Train loss: 0.07719548898083824 | Valid loss: 0.09314627945423126\n",
      "Epoch: 150 | Train loss: 0.03928217677665608 | Valid loss: 0.05002135783433914\n",
      "Epoch: 165 | Train loss: 0.03809052173580442 | Valid loss: 0.013144383206963539\n",
      "Epoch: 180 | Train loss: 0.014326259227735656 | Valid loss: 0.011573992669582367\n",
      "Epoch: 195 | Train loss: 0.009638127870857716 | Valid loss: 0.0049814083613455296\n",
      "Epoch: 210 | Train loss: 0.007039694913796016 | Valid loss: 0.004110332578420639\n",
      "Epoch: 225 | Train loss: 0.003177167382091284 | Valid loss: 0.0014518728712573647\n",
      "Epoch: 240 | Train loss: 0.0034101122790681465 | Valid loss: 0.0012201449135318398\n",
      "Epoch: 255 | Train loss: 0.0008107860630843788 | Valid loss: 0.0009113442501984537\n"
     ]
    }
   ],
   "source": [
    "print('CN/YSI...')\n",
    "train_loss, _ = model.fit(dataset=ds_train, epochs=256, valid_size=0.33, shuffle=True, patience=16, verbose=15, lr=0.001)\n",
    "print('CN...')\n",
    "train_loss_cn, _ = model_cn.fit(dataset=ds_train_cn, epochs=256, shuffle=True, valid_size=0.16, patience=32, verbose=15, lr=0.001)\n",
    "print('YSI...')\n",
    "train_loss_ysi, _ = model_ysi.fit(dataset=ds_train_ysi, epochs=256, shuffle=True, valid_size=0.33, patience=16, verbose=15, lr=0.001)"
   ]
  },
  {
   "cell_type": "code",
   "execution_count": 13,
   "metadata": {},
   "outputs": [
    {
     "data": {
      "image/png": "[encoded data removed]",
      "text/plain": [
       "<Figure size 432x288 with 1 Axes>"
      ]
     },
     "metadata": {
      "needs_background": "light"
     },
     "output_type": "display_data"
    }
   ],
   "source": [
    "plt.clf()\n",
    "plt.xlabel('Epoch')\n",
    "plt.ylabel('Training Loss (MSE)')\n",
    "plt.plot([i for i in range(len(train_loss))], train_loss, label='CN/YSI')\n",
    "plt.plot([i for i in range(len(train_loss_cn))], train_loss_cn, label='CN')\n",
    "plt.plot([i for i in range(len(train_loss_ysi))], train_loss_ysi, label='YSI')\n",
    "plt.show()"
   ]
  },
  {
   "cell_type": "code",
   "execution_count": 14,
   "metadata": {},
   "outputs": [],
   "source": [
    "preds_train = model(ds_train.desc_vals).detach().numpy()\n",
    "preds_test = model(ds_test.desc_vals).detach().numpy()\n",
    "\n",
    "preds_train_cn = model_cn(ds_train_cn.desc_vals).detach().numpy()\n",
    "preds_test_cn = model_cn(ds_test.desc_vals).detach().numpy()\n",
    "\n",
    "preds_train_ysi = model_ysi(ds_train_ysi.desc_vals).detach().numpy()\n",
    "preds_test_ysi = model_ysi(ds_test_ysi.desc_vals).detach().numpy()"
   ]
  },
  {
   "cell_type": "code",
   "execution_count": 15,
   "metadata": {},
   "outputs": [
    {
     "name": "stdout",
     "output_type": "stream",
     "text": [
      "### MEDIAN ABSOLUTE ERROR ###\n",
      "CN/YSI, CN:\n",
      "0.9072168350219734\n",
      "4.87663917541504\n",
      "CN/YSI, YSI:\n",
      "0.21399059295654155\n",
      "1.467775917053224\n",
      "CN:\n",
      "0.7167177200317383\n",
      "5.867180633544923\n",
      "YSI:\n",
      "0.018407249450685725\n",
      "1.324349975585939\n",
      "### R2 CORRELATION COEFFICIENT ###\n",
      "CN/YSI, CN:\n",
      "0.9971204784520542\n",
      "0.8151537036560376\n",
      "CN/YSI, YSI:\n",
      "0.9994281103605035\n",
      "0.9479205945893704\n",
      "CN:\n",
      "0.9948542089464562\n",
      "0.7660941576710136\n",
      "YSI:\n",
      "0.9999971451618411\n",
      "0.9594931224999963\n"
     ]
    }
   ],
   "source": [
    "from sklearn.metrics import median_absolute_error, r2_score\n",
    "\n",
    "print('### MEDIAN ABSOLUTE ERROR ###')\n",
    "print('CN/YSI, CN:')\n",
    "print(median_absolute_error([t[0] for t in targets_train], [p[0] for p in preds_train]))\n",
    "print(median_absolute_error([t[0] for t in targets_test], [p[0] for p in preds_test]))\n",
    "\n",
    "print('CN/YSI, YSI:')\n",
    "print(median_absolute_error([t[1] for t in targets_train], [p[1] for p in preds_train]))\n",
    "print(median_absolute_error([t[1] for t in targets_test], [p[1] for p in preds_test]))\n",
    "\n",
    "print('CN:')\n",
    "print(median_absolute_error(cn_train, [p[0] for p in preds_train_cn]))\n",
    "print(median_absolute_error(cn_test, [p[0] for p in preds_test_cn]))\n",
    "\n",
    "print('YSI:')\n",
    "print(median_absolute_error(ysi_train, [p[0] for p in preds_train_ysi]))\n",
    "print(median_absolute_error(ysi_test, [p[0] for p in preds_test_ysi]))\n",
    "\n",
    "print('### R2 CORRELATION COEFFICIENT ###')\n",
    "print('CN/YSI, CN:')\n",
    "print(r2_score([t[0] for t in targets_train], [p[0] for p in preds_train]))\n",
    "print(r2_score([t[0] for t in targets_test], [p[0] for p in preds_test]))\n",
    "\n",
    "print('CN/YSI, YSI:')\n",
    "print(r2_score([t[1] for t in targets_train], [p[1] for p in preds_train]))\n",
    "print(r2_score([t[1] for t in targets_test], [p[1] for p in preds_test]))\n",
    "\n",
    "print('CN:')\n",
    "print(r2_score(cn_train, [p[0] for p in preds_train_cn]))\n",
    "print(r2_score(cn_test, [p[0] for p in preds_test_cn]))\n",
    "\n",
    "print('YSI:')\n",
    "print(r2_score(ysi_train, [p[0] for p in preds_train_ysi]))\n",
    "print(r2_score(ysi_test, [p[0] for p in preds_test_ysi]))"
   ]
  },
  {
   "cell_type": "code",
   "execution_count": 16,
   "metadata": {},
   "outputs": [
    {
     "name": "stdout",
     "output_type": "stream",
     "text": [
      "CN/YSI, CN:\n"
     ]
    },
    {
     "data": {
      "image/png": "[encoded data removed]",
      "text/plain": [
       "<Figure size 432x288 with 1 Axes>"
      ]
     },
     "metadata": {
      "needs_background": "light"
     },
     "output_type": "display_data"
    }
   ],
   "source": [
    "print('CN/YSI, CN:')\n",
    "plt.clf()\n",
    "plt.xlabel('Experimental CN')\n",
    "plt.ylabel('Predicted CN')\n",
    "plt.scatter(cn_train, [p[0] for p in preds_train], color=(0, 114/235, 178/235), alpha=0.5, label='Training Set')\n",
    "plt.scatter(cn_test, [p[0] for p in preds_test], color=(213/235, 94/235, 0), alpha=0.75, label='Test Set')\n",
    "plt.show()"
   ]
  },
  {
   "cell_type": "code",
   "execution_count": 17,
   "metadata": {},
   "outputs": [
    {
     "name": "stdout",
     "output_type": "stream",
     "text": [
      "CN/YSI, YSI:\n"
     ]
    },
    {
     "data": {
      "image/png": "[encoded data removed]",
      "text/plain": [
       "<Figure size 432x288 with 1 Axes>"
      ]
     },
     "metadata": {
      "needs_background": "light"
     },
     "output_type": "display_data"
    }
   ],
   "source": [
    "print('CN/YSI, YSI:')\n",
    "plt.clf()\n",
    "plt.xlabel('Experimental YSI')\n",
    "plt.ylabel('Predicted YSI')\n",
    "plt.scatter(ysi_train, [p[1] for p in preds_train], color=(0, 114/235, 178/235), alpha=0.5, label='Training Set')\n",
    "plt.scatter(ysi_test, [p[1] for p in preds_test], color=(213/235, 94/235, 0), alpha=0.75, label='Test Set')\n",
    "plt.show()"
   ]
  },
  {
   "cell_type": "code",
   "execution_count": 18,
   "metadata": {},
   "outputs": [
    {
     "name": "stdout",
     "output_type": "stream",
     "text": [
      "CN:\n"
     ]
    },
    {
     "data": {
      "image/png": "[encoded data removed]",
      "text/plain": [
       "<Figure size 432x288 with 1 Axes>"
      ]
     },
     "metadata": {
      "needs_background": "light"
     },
     "output_type": "display_data"
    }
   ],
   "source": [
    "print('CN:')\n",
    "plt.clf()\n",
    "plt.xlabel('Experimental CN')\n",
    "plt.ylabel('Predicted CN')\n",
    "plt.scatter(cn_train, preds_train_cn, color=(0, 114/235, 178/235), alpha=0.5, label='Training Set')\n",
    "plt.scatter(cn_test, preds_test_cn, color=(213/235, 94/235, 0), alpha=0.75, label='Test Set')\n",
    "plt.show()"
   ]
  },
  {
   "cell_type": "code",
   "execution_count": 19,
   "metadata": {},
   "outputs": [
    {
     "name": "stdout",
     "output_type": "stream",
     "text": [
      "YSI:\n"
     ]
    },
    {
     "data": {
      "image/png": "[encoded data removed]",
      "text/plain": [
       "<Figure size 432x288 with 1 Axes>"
      ]
     },
     "metadata": {
      "needs_background": "light"
     },
     "output_type": "display_data"
    }
   ],
   "source": [
    "print('YSI:')\n",
    "plt.clf()\n",
    "plt.xlabel('Experimental YSI')\n",
    "plt.ylabel('Predicted YSI')\n",
    "plt.scatter(ysi_train, preds_train_ysi, color=(0, 114/235, 178/235), alpha=0.5, label='Training Set')\n",
    "plt.scatter(ysi_test, preds_test_ysi, color=(213/235, 94/235, 0), alpha=0.75, label='Test Set')\n",
    "plt.show()"
   ]
  },
  {
   "cell_type": "code",
   "execution_count": 20,
   "metadata": {},
   "outputs": [
    {
     "name": "stdout",
     "output_type": "stream",
     "text": [
      "Iteration 1\n",
      "Iteration 2\n",
      "Iteration 3\n",
      "Iteration 4\n",
      "Iteration 5\n",
      "Iteration 6\n",
      "Iteration 7\n",
      "Iteration 8\n",
      "Iteration 9\n",
      "Iteration 10\n",
      "Iteration 11\n",
      "Iteration 12\n",
      "Iteration 13\n",
      "Iteration 14\n",
      "Iteration 15\n",
      "Iteration 16\n",
      "Iteration 17\n",
      "Iteration 18\n",
      "Iteration 19\n",
      "Iteration 20\n",
      "Iteration 21\n",
      "Iteration 22\n",
      "Iteration 23\n",
      "Iteration 24\n",
      "Iteration 25\n",
      "Iteration 26\n",
      "Iteration 27\n",
      "Iteration 28\n",
      "Iteration 29\n",
      "Iteration 30\n",
      "Iteration 31\n",
      "Iteration 32\n",
      "Iteration 33\n",
      "Iteration 34\n",
      "Iteration 35\n",
      "Iteration 36\n",
      "Iteration 37\n",
      "Iteration 38\n",
      "Iteration 39\n",
      "Iteration 40\n",
      "Iteration 41\n",
      "Iteration 42\n",
      "Iteration 43\n",
      "Iteration 44\n",
      "Iteration 45\n",
      "Iteration 46\n",
      "Iteration 47\n",
      "Iteration 48\n",
      "Iteration 49\n",
      "Iteration 50\n",
      "Iteration 51\n",
      "Iteration 52\n",
      "Iteration 53\n",
      "Iteration 54\n",
      "Iteration 55\n",
      "Iteration 56\n",
      "Iteration 57\n",
      "Iteration 58\n",
      "Iteration 59\n",
      "Iteration 60\n",
      "Iteration 61\n",
      "Iteration 62\n",
      "Iteration 63\n",
      "Iteration 64\n",
      "Iteration 65\n",
      "Iteration 66\n",
      "Iteration 67\n",
      "Iteration 68\n",
      "Iteration 69\n",
      "Iteration 70\n",
      "Iteration 71\n",
      "Iteration 72\n",
      "Iteration 73\n",
      "Iteration 74\n",
      "Iteration 75\n",
      "Iteration 76\n",
      "Iteration 77\n",
      "Iteration 78\n",
      "Iteration 79\n",
      "Iteration 80\n",
      "Iteration 81\n",
      "Iteration 82\n",
      "Iteration 83\n",
      "Iteration 84\n",
      "Iteration 85\n",
      "Iteration 86\n",
      "Iteration 87\n",
      "Iteration 88\n",
      "Iteration 89\n",
      "Iteration 90\n",
      "Iteration 91\n",
      "Iteration 92\n",
      "Iteration 93\n",
      "Iteration 94\n",
      "Iteration 95\n",
      "Iteration 96\n",
      "Iteration 97\n",
      "Iteration 98\n",
      "Iteration 99\n",
      "Iteration 100\n"
     ]
    }
   ],
   "source": [
    "test_maes_mcn = []\n",
    "test_maes_mysi = []\n",
    "test_maes_cn = []\n",
    "test_maes_ysi = []\n",
    "\n",
    "for i in range(100):\n",
    "\n",
    "    print(f'Iteration {i + 1}')\n",
    "\n",
    "    dv_train, dv_test, tar_train, tar_test = train_test_split(DESC_VALS, TARG_VALS, test_size=0.2, random_state=i)\n",
    "\n",
    "    ds_train = QSPRDatasetFromValues(dv_train, tar_train)\n",
    "    ds_test = QSPRDatasetFromValues(dv_test, tar_test)\n",
    "\n",
    "    ds_train_cn = QSPRDatasetFromValues(dv_train, [[t[0]] for t in tar_train])\n",
    "    ds_test_cn = QSPRDatasetFromValues(dv_test, [[t[0]] for t in tar_test])\n",
    "\n",
    "    ds_train_ysi = QSPRDatasetFromValues(dv_train, [[t[1]] for t in tar_train])\n",
    "    ds_test_ysi = QSPRDatasetFromValues(dv_test, [[t[1]] for t in tar_test])\n",
    "\n",
    "    pca = PCA()\n",
    "    pca.fit(ds_train.desc_vals.detach().numpy())\n",
    "\n",
    "    ds_train.desc_vals = torch.tensor(pca.transform(ds_train.desc_vals.detach().numpy())).type(torch.float32)\n",
    "    ds_test.desc_vals = torch.tensor(pca.transform(ds_test.desc_vals.detach().numpy())).type(torch.float32)\n",
    "\n",
    "    ds_train_cn.desc_vals = ds_train.desc_vals\n",
    "    ds_test_cn.desc_vals = ds_test.desc_vals\n",
    "    ds_train_ysi.desc_vals = ds_train.desc_vals\n",
    "    ds_test_ysi.desc_vals = ds_test.desc_vals\n",
    "\n",
    "    ds_train.target_vals = ds_train.target_vals.type(torch.float32)\n",
    "    ds_test.target_vals = ds_test.target_vals.type(torch.float32)\n",
    "    ds_train_cn.target_vals = ds_train_cn.target_vals.type(torch.float32)\n",
    "    ds_test_cn.target_vals = ds_test_cn.target_vals.type(torch.float32)\n",
    "    ds_train_ysi.target_vals = ds_train_ysi.target_vals.type(torch.float32)\n",
    "    ds_test_ysi.target_vals = ds_test_ysi.target_vals.type(torch.float32)\n",
    "\n",
    "    model = ECNet(ds_train.desc_vals.shape[1], ds_train.target_vals.shape[1], 512, 3)\n",
    "    model_cn = ECNet(ds_train_cn.desc_vals.shape[1], ds_train_cn.target_vals.shape[1], 512, 3)\n",
    "    model_ysi = ECNet(ds_train_ysi.desc_vals.shape[1], ds_train_ysi.target_vals.shape[1], 512, 3)\n",
    "\n",
    "    _, _ = model.fit(dataset=ds_train, epochs=256, valid_size=0.33, shuffle=True, patience=16, verbose=0, lr=0.001)\n",
    "\n",
    "    pred_test = model(ds_test.desc_vals).detach().numpy()\n",
    "    test_maes_mcn.append(median_absolute_error([t[0] for t in tar_test], [p[0] for p in pred_test]))\n",
    "    test_maes_mysi.append(median_absolute_error([t[1] for t in tar_test], [p[1] for p in pred_test]))\n",
    "\n",
    "    _, _ = model_cn.fit(dataset=ds_train_cn, epochs=256, valid_size=0.33, shuffle=True, patience=16, verbose=0, lr=0.001)\n",
    "\n",
    "    pred_test = model_cn(ds_test.desc_vals).detach().numpy()\n",
    "    test_maes_cn.append(median_absolute_error(ds_test_cn.target_vals.detach().numpy(), pred_test))\n",
    "\n",
    "    _, _ = model_ysi.fit(dataset=ds_train_ysi, epochs=256, valid_size=0.33, shuffle=True, patience=16, verbose=0, lr=0.001)\n",
    "\n",
    "    pred_test = model_ysi(ds_test.desc_vals).detach().numpy()\n",
    "    test_maes_ysi.append(median_absolute_error(ds_test_ysi.target_vals.detach().numpy(), pred_test))"
   ]
  },
  {
   "cell_type": "code",
   "execution_count": 22,
   "metadata": {},
   "outputs": [
    {
     "name": "stdout",
     "output_type": "stream",
     "text": [
      "CN/YSI, CN: 5.094241803646088 +/- 1.1747833768058176\n",
      "CN/YSI, YSI: 2.483336194038391 +/- 0.8804392252686305\n",
      "CN: 5.2699198722839355 +/- 1.2351881265640259\n",
      "YSI: 2.309030532836914 +/- 0.9803870320320129\n"
     ]
    }
   ],
   "source": [
    "print(f'CN/YSI, CN: {np.mean(test_maes_mcn)} +/- {np.std(test_maes_mcn)}')\n",
    "print(f'CN/YSI, YSI: {np.mean(test_maes_mysi)} +/- {np.std(test_maes_mysi)}')\n",
    "print(f'CN: {np.mean(test_maes_cn)} +/- {np.std(test_maes_cn)}')\n",
    "print(f'YSI: {np.mean(test_maes_ysi)} +/- {np.std(test_maes_ysi)}')"
   ]
  },
  {
   "cell_type": "code",
   "execution_count": null,
   "metadata": {},
   "outputs": [],
   "source": []
  }
 ],
 "metadata": {
  "interpreter": {
   "hash": "252b69efb517be662a91ca74889611414461adefdc1b62e7a9ebf1bc6024e96f"
  },
  "kernelspec": {
   "display_name": "Python 3.8.12 ('ecnet')",
   "language": "python",
   "name": "python3"
  },
  "language_info": {
   "codemirror_mode": {
    "name": "ipython",
    "version": 3
   },
   "file_extension": ".py",
   "mimetype": "text/x-python",
   "name": "python",
   "nbconvert_exporter": "python",
   "pygments_lexer": "ipython3",
   "version": "3.8.12"
  },
  "orig_nbformat": 4
 },
 "nbformat": 4,
 "nbformat_minor": 2
}
