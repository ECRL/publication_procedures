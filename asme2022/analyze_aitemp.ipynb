{
 "cells": [
  {
   "cell_type": "code",
   "execution_count": 1,
   "metadata": {},
   "outputs": [],
   "source": [
    "from csv import DictReader\n",
    "\n",
    "with open('_data/properties_master.csv', 'r') as csv_file:\n",
    "    reader = DictReader(csv_file)\n",
    "    rows = [r for r in reader]\n",
    "csv_file.close()"
   ]
  },
  {
   "cell_type": "code",
   "execution_count": 2,
   "metadata": {},
   "outputs": [
    {
     "name": "stdout",
     "output_type": "stream",
     "text": [
      "79\n"
     ]
    }
   ],
   "source": [
    "PROPERTIES = [\n",
    "    'properties.autoignition_temp.value'\n",
    "]\n",
    "\n",
    "samples = []\n",
    "for row in rows:\n",
    "    _n_present = 0\n",
    "    for prop in PROPERTIES:\n",
    "        if row[prop] != '-':\n",
    "            _n_present += 1\n",
    "            continue\n",
    "        else:\n",
    "            break\n",
    "    if _n_present >= len(PROPERTIES):\n",
    "        samples.append(row)\n",
    "\n",
    "print(len(samples))\n",
    "\n",
    "ai_temp = [float(s[PROPERTIES[0]]) for s in samples]\n",
    "smiles = [s['canonical_smiles'] for s in samples]"
   ]
  },
  {
   "cell_type": "code",
   "execution_count": 3,
   "metadata": {},
   "outputs": [],
   "source": [
    "from ecnet.datasets import QSPRDataset\n",
    "\n",
    "ds = QSPRDataset(smiles, ai_temp, backend='alvadesc')"
   ]
  },
  {
   "cell_type": "code",
   "execution_count": 4,
   "metadata": {},
   "outputs": [],
   "source": [
    "from sklearn.ensemble import RandomForestRegressor\n",
    "\n",
    "rfr = RandomForestRegressor()\n",
    "rfr.fit(ds.desc_vals.detach().numpy(), ai_temp)\n",
    "feat_imp = list(rfr.feature_importances_)"
   ]
  },
  {
   "cell_type": "code",
   "execution_count": 8,
   "metadata": {},
   "outputs": [
    {
     "name": "stdout",
     "output_type": "stream",
     "text": [
      "SssCH2\n"
     ]
    }
   ],
   "source": [
    "top_desc = feat_imp.index(max(feat_imp))\n",
    "top_desc_name = ds.desc_names[top_desc]\n",
    "top_desc_vals = [sample[top_desc] for sample in ds.desc_vals]\n",
    "\n",
    "print(top_desc_name)"
   ]
  },
  {
   "cell_type": "code",
   "execution_count": 9,
   "metadata": {},
   "outputs": [
    {
     "data": {
      "image/png": "[encoded data removed]",
      "text/plain": [
       "<Figure size 432x288 with 1 Axes>"
      ]
     },
     "metadata": {
      "needs_background": "light"
     },
     "output_type": "display_data"
    }
   ],
   "source": [
    "from matplotlib import pyplot as plt\n",
    "\n",
    "plt.clf()\n",
    "plt.rcParams['font.family'] = 'Times New Roman'\n",
    "plt.xlabel(f'{top_desc_name} Value')\n",
    "plt.ylabel('Autoignition Temperature (C)')\n",
    "plt.scatter(top_desc_vals, ai_temp)\n",
    "plt.show()"
   ]
  },
  {
   "cell_type": "code",
   "execution_count": 11,
   "metadata": {},
   "outputs": [
    {
     "name": "stdout",
     "output_type": "stream",
     "text": [
      "[2975  868 1266 1312 1276]\n"
     ]
    }
   ],
   "source": [
    "import numpy as np\n",
    "\n",
    "np_feat_imp = np.array(feat_imp)\n",
    "\n",
    "five_most_important_idx = np_feat_imp.argsort()[-5:][::-1]\n",
    "print(five_most_important_idx)"
   ]
  },
  {
   "cell_type": "code",
   "execution_count": 12,
   "metadata": {},
   "outputs": [
    {
     "name": "stdout",
     "output_type": "stream",
     "text": [
      "SssCH2\n",
      "AVS_B(s)\n",
      "Eta_epsi_A\n",
      "SpMaxA_EA(bo)\n",
      "Eta_L_A\n"
     ]
    }
   ],
   "source": [
    "for idx in five_most_important_idx:\n",
    "    print(ds.desc_names[idx])"
   ]
  },
  {
   "cell_type": "code",
   "execution_count": null,
   "metadata": {},
   "outputs": [],
   "source": []
  }
 ],
 "metadata": {
  "interpreter": {
   "hash": "252b69efb517be662a91ca74889611414461adefdc1b62e7a9ebf1bc6024e96f"
  },
  "kernelspec": {
   "display_name": "Python 3.8.12 ('ecnet')",
   "language": "python",
   "name": "python3"
  },
  "language_info": {
   "codemirror_mode": {
    "name": "ipython",
    "version": 3
   },
   "file_extension": ".py",
   "mimetype": "text/x-python",
   "name": "python",
   "nbconvert_exporter": "python",
   "pygments_lexer": "ipython3",
   "version": "3.8.12"
  },
  "orig_nbformat": 4
 },
 "nbformat": 4,
 "nbformat_minor": 2
}
