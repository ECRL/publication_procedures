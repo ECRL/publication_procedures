{
 "cells": [
  {
   "cell_type": "code",
   "execution_count": 1,
   "metadata": {},
   "outputs": [],
   "source": [
    "from csv import DictReader\n",
    "\n",
    "with open('_data/properties_master.csv', 'r') as csv_file:\n",
    "    reader = DictReader(csv_file)\n",
    "    rows = [r for r in reader]\n",
    "csv_file.close()"
   ]
  },
  {
   "cell_type": "code",
   "execution_count": 2,
   "metadata": {},
   "outputs": [
    {
     "name": "stdout",
     "output_type": "stream",
     "text": [
      "150\n"
     ]
    }
   ],
   "source": [
    "properties_to_use = [\n",
    "    'properties.cetane_number.value',\n",
    "    'properties.ysi_unified.value'\n",
    "]\n",
    "\n",
    "samples = []\n",
    "for row in rows:\n",
    "    use = True\n",
    "    for prop in properties_to_use:\n",
    "        if row[prop] == '-':\n",
    "            use = False\n",
    "            break\n",
    "    if use:\n",
    "        samples.append(row)\n",
    "\n",
    "print(len(samples))"
   ]
  },
  {
   "cell_type": "code",
   "execution_count": 3,
   "metadata": {},
   "outputs": [],
   "source": [
    "import numpy as np\n",
    "\n",
    "data_cn = np.array([float(s['properties.cetane_number.value']) for s in samples]).reshape(-1, 1)\n",
    "\n",
    "data_ysi = np.array([float(s['properties.ysi_unified.value']) for s in samples]).reshape(-1, 1)"
   ]
  },
  {
   "cell_type": "code",
   "execution_count": 4,
   "metadata": {},
   "outputs": [
    {
     "data": {
      "image/png": "[encoded data removed]",
      "text/plain": [
       "<Figure size 432x288 with 1 Axes>"
      ]
     },
     "metadata": {
      "needs_background": "light"
     },
     "output_type": "display_data"
    }
   ],
   "source": [
    "from matplotlib import pyplot as plt\n",
    "\n",
    "plt.clf()\n",
    "plt.rcParams['font.family'] = 'Times New Roman'\n",
    "plt.xlabel('CN')\n",
    "plt.ylabel('YSI')\n",
    "plt.scatter(data_cn, data_ysi, color='blue', alpha=0.5)\n",
    "plt.show()"
   ]
  },
  {
   "cell_type": "code",
   "execution_count": 5,
   "metadata": {},
   "outputs": [],
   "source": [
    "from sklearn.model_selection import train_test_split\n",
    "from ecnet.datasets import QSPRDataset\n",
    "\n",
    "smiles = [s['canonical_smiles'] for s in samples]\n",
    "smiles_train, smiles_test, cn_train, cn_test, ysi_train, ysi_test = train_test_split(smiles, data_cn, data_ysi, test_size=0.25, random_state=0)\n",
    "\n",
    "ds_cn_train = QSPRDataset(smiles_train, cn_train, backend='alvadesc')\n",
    "ds_cn_test = QSPRDataset(smiles_test, cn_test, backend='alvadesc')\n",
    "\n",
    "ds_ysi_train = QSPRDataset(smiles_train, ysi_train, backend='alvadesc')\n",
    "ds_ysi_test = QSPRDataset(smiles_test, ysi_test, backend='alvadesc')"
   ]
  },
  {
   "cell_type": "code",
   "execution_count": 6,
   "metadata": {},
   "outputs": [
    {
     "name": "stdout",
     "output_type": "stream",
     "text": [
      "torch.Size([112, 112]) torch.Size([38, 112])\n",
      "torch.Size([112, 112]) torch.Size([38, 112])\n",
      "torch.FloatTensor\n"
     ]
    }
   ],
   "source": [
    "from sklearn.decomposition import PCA\n",
    "import torch\n",
    "\n",
    "pca_cn = PCA()\n",
    "pca_ysi = PCA()\n",
    "\n",
    "pca_cn.fit(ds_cn_train.desc_vals.detach().numpy())\n",
    "pca_ysi.fit(ds_ysi_train.desc_vals.detach().numpy())\n",
    "\n",
    "ds_cn_train.desc_vals = torch.tensor(pca_cn.transform(ds_cn_train.desc_vals.detach().numpy())).type(torch.float32)\n",
    "ds_cn_train.target_vals = ds_cn_train.target_vals.type(torch.float32)\n",
    "ds_cn_test.desc_vals = torch.tensor(pca_cn.transform(ds_cn_test.desc_vals.detach().numpy())).type(torch.float32)\n",
    "ds_cn_test.target_vals = ds_cn_test.target_vals.type(torch.float32)\n",
    "\n",
    "ds_ysi_train.desc_vals = torch.tensor(pca_ysi.transform(ds_ysi_train.desc_vals.detach().numpy())).type(torch.float32)\n",
    "ds_ysi_train.target_vals = ds_ysi_train.target_vals.type(torch.float32)\n",
    "ds_ysi_test.desc_vals = torch.tensor(pca_ysi.transform(ds_ysi_test.desc_vals.detach().numpy())).type(torch.float32)\n",
    "ds_ysi_test.target_vals = ds_ysi_test.target_vals.type(torch.float32)\n",
    "\n",
    "print(ds_cn_train.desc_vals.shape, ds_cn_test.desc_vals.shape)\n",
    "print(ds_ysi_train.desc_vals.shape, ds_ysi_test.desc_vals.shape)\n",
    "print(ds_cn_train.desc_vals.type())"
   ]
  },
  {
   "cell_type": "code",
   "execution_count": 7,
   "metadata": {},
   "outputs": [
    {
     "name": "stdout",
     "output_type": "stream",
     "text": [
      "Cetane number...\n",
      "Epoch: 0 | Train loss: 4069.17453125 | Valid loss: 9223372036854775807\n",
      "Epoch: 10 | Train loss: 3381.603738606771 | Valid loss: 697.3478393554688\n",
      "Epoch: 20 | Train loss: 292.24329528808596 | Valid loss: 211.78187561035156\n",
      "Epoch: 30 | Train loss: 226.18806864420574 | Valid loss: 74.68150329589844\n",
      "Epoch: 40 | Train loss: 121.80044448852539 | Valid loss: 51.589996337890625\n",
      "Epoch: 50 | Train loss: 84.56910250345867 | Valid loss: 37.71813201904297\n",
      "Epoch: 60 | Train loss: 57.032198677062986 | Valid loss: 23.946529388427734\n",
      "Epoch: 70 | Train loss: 32.12268679300944 | Valid loss: 15.456110954284668\n",
      "Epoch: 80 | Train loss: 20.889398345947267 | Valid loss: 9.07455825805664\n",
      "Epoch: 90 | Train loss: 131.63869293212892 | Valid loss: 50.69898223876953\n",
      "Epoch: 100 | Train loss: 63.82416559855143 | Valid loss: 31.185880661010742\n",
      "Epoch: 110 | Train loss: 27.844875030517578 | Valid loss: 8.505217552185059\n",
      "Epoch: 120 | Train loss: 4.987980651855469 | Valid loss: 3.6260581016540527\n",
      "Epoch: 130 | Train loss: 2.2652637736002603 | Valid loss: 2.370868682861328\n",
      "Epoch: 140 | Train loss: 1.6448340431849162 | Valid loss: 1.9112746715545654\n",
      "Epoch: 150 | Train loss: 1.4535384432474772 | Valid loss: 1.784088134765625\n",
      "Epoch: 160 | Train loss: 1.0438946517308554 | Valid loss: 1.6907485723495483\n",
      "Epoch: 170 | Train loss: 0.7714531191190084 | Valid loss: 0.9262367486953735\n",
      "Epoch: 180 | Train loss: 0.5416376380125681 | Valid loss: 0.6655867099761963\n",
      "Epoch: 190 | Train loss: 1.4202894401550292 | Valid loss: 0.6717404127120972\n",
      "Epoch: 200 | Train loss: 0.6055057732264201 | Valid loss: 0.6661102175712585\n",
      "Epoch: 210 | Train loss: 0.39857492367426556 | Valid loss: 0.4184980094432831\n",
      "Epoch: 220 | Train loss: 0.24237539499998093 | Valid loss: 0.32707926630973816\n",
      "Epoch: 230 | Train loss: 0.37557164748509725 | Valid loss: 0.2966119945049286\n",
      "Epoch: 240 | Train loss: 0.14185988376537959 | Valid loss: 0.23720811307430267\n",
      "Epoch: 250 | Train loss: 0.1899452010790507 | Valid loss: 0.17703044414520264\n",
      "Epoch: 260 | Train loss: 0.10651374352475007 | Valid loss: 0.08990344405174255\n",
      "Epoch: 270 | Train loss: 0.15338533918062847 | Valid loss: 0.14774824678897858\n",
      "Epoch: 280 | Train loss: 0.2669697933644056 | Valid loss: 0.17295607924461365\n",
      "Epoch: 290 | Train loss: 0.14375021358331044 | Valid loss: 0.10478037595748901\n",
      "Epoch: 300 | Train loss: 0.1242096644639969 | Valid loss: 0.10780531167984009\n",
      "Epoch: 310 | Train loss: 0.12041223367055257 | Valid loss: 0.06437304615974426\n",
      "Epoch: 320 | Train loss: 0.06283473537613948 | Valid loss: 0.13872051239013672\n",
      "Epoch: 330 | Train loss: 0.10031726008901994 | Valid loss: 0.14935562014579773\n",
      "Epoch: 340 | Train loss: 0.16314957663416862 | Valid loss: 0.11967352032661438\n",
      "Yield sooting index...\n",
      "Epoch: 0 | Train loss: 38771.343697916665 | Valid loss: 9223372036854775807\n",
      "Epoch: 10 | Train loss: 6831.70859375 | Valid loss: 2266.43896484375\n",
      "Epoch: 20 | Train loss: 1136.182856241862 | Valid loss: 496.4557189941406\n",
      "Epoch: 30 | Train loss: 243.53478230794272 | Valid loss: 176.63172912597656\n",
      "Epoch: 40 | Train loss: 142.93814448038736 | Valid loss: 84.17273712158203\n",
      "Epoch: 50 | Train loss: 59.19115849812825 | Valid loss: 27.514453887939453\n",
      "Epoch: 60 | Train loss: 31.007574666341146 | Valid loss: 11.533665657043457\n",
      "Epoch: 70 | Train loss: 45.31125788370768 | Valid loss: 15.983499526977539\n",
      "Epoch: 80 | Train loss: 14.159050801595052 | Valid loss: 10.852705001831055\n",
      "Epoch: 90 | Train loss: 598.2712320963542 | Valid loss: 64.7675552368164\n",
      "Epoch: 100 | Train loss: 74.63098164876303 | Valid loss: 88.79679107666016\n",
      "Epoch: 110 | Train loss: 107.73971013387045 | Valid loss: 35.857093811035156\n"
     ]
    }
   ],
   "source": [
    "from ecnet import ECNet\n",
    "\n",
    "print('Cetane number...')\n",
    "model_cn = ECNet(ds_cn_train.desc_vals.shape[1], ds_cn_train.target_vals.shape[1], 1024, 1)\n",
    "train_loss_cn, valid_loss_cn = model_cn.fit(dataset=ds_cn_train, epochs=500, valid_size=0.33, shuffle=True, patience=32, verbose=10, lr=0.001)\n",
    "\n",
    "print('Yield sooting index...')\n",
    "model_ysi = ECNet(ds_ysi_train.desc_vals.shape[1], ds_ysi_train.target_vals.shape[1], 1024, 1)\n",
    "train_loss_ysi, valid_loss_ysi = model_ysi.fit(dataset=ds_ysi_train, epochs=500, valid_size=0.33, shuffle=True, patience=32, verbose=10, lr=0.001)"
   ]
  },
  {
   "cell_type": "code",
   "execution_count": 8,
   "metadata": {},
   "outputs": [
    {
     "name": "stdout",
     "output_type": "stream",
     "text": [
      "CN train: 0.9998881965364335 | 0.04967927932739258\n",
      "CN test: 0.4615887567648592 | 5.001071929931641\n",
      "YSI train: 0.9993500282180909 | 1.5123357772827148\n",
      "YSI test: 0.913359737968048 | 6.176633834838867\n"
     ]
    }
   ],
   "source": [
    "from sklearn.metrics import r2_score, median_absolute_error\n",
    "\n",
    "pred_train_cn = model_cn(ds_cn_train.desc_vals).detach().numpy()\n",
    "pred_test_cn = model_cn(ds_cn_test.desc_vals).detach().numpy()\n",
    "\n",
    "pred_train_ysi = model_ysi(ds_ysi_train.desc_vals).detach().numpy()\n",
    "pred_test_ysi = model_ysi(ds_ysi_test.desc_vals).detach().numpy()\n",
    "\n",
    "mae_train_cn = median_absolute_error(ds_cn_train.target_vals.detach().numpy(), pred_train_cn)\n",
    "mae_test_cn = median_absolute_error(ds_cn_test.target_vals.detach().numpy(), pred_test_cn)\n",
    "r2_train_cn = r2_score(ds_cn_train.target_vals.detach().numpy(), pred_train_cn)\n",
    "r2_test_cn = r2_score(ds_cn_test.target_vals.detach().numpy(), pred_test_cn)\n",
    "\n",
    "mae_train_ysi = median_absolute_error(ds_ysi_train.target_vals.detach().numpy(), pred_train_ysi)\n",
    "mae_test_ysi = median_absolute_error(ds_ysi_test.target_vals.detach().numpy(), pred_test_ysi)\n",
    "r2_train_ysi = r2_score(ds_ysi_train.target_vals.detach().numpy(), pred_train_ysi)\n",
    "r2_test_ysi = r2_score(ds_ysi_test.target_vals.detach().numpy(), pred_test_ysi)\n",
    "\n",
    "print(f'CN train: {r2_train_cn} | {mae_train_cn}')\n",
    "print(f'CN test: {r2_test_cn} | {mae_test_cn}')\n",
    "print(f'YSI train: {r2_train_ysi} | {mae_train_ysi}')\n",
    "print(f'YSI test: {r2_test_ysi} | {mae_test_ysi}')"
   ]
  },
  {
   "cell_type": "code",
   "execution_count": 9,
   "metadata": {},
   "outputs": [
    {
     "data": {
      "image/png": "[encoded data removed]",
      "text/plain": [
       "<Figure size 432x288 with 1 Axes>"
      ]
     },
     "metadata": {
      "needs_background": "light"
     },
     "output_type": "display_data"
    }
   ],
   "source": [
    "from matplotlib import pyplot as plt\n",
    "\n",
    "plt.clf()\n",
    "plt.rcParams['font.family'] = 'Times New Roman'\n",
    "plt.xlabel('Experimental CN')\n",
    "plt.ylabel('Predicted CN')\n",
    "plt.scatter(ds_cn_train.target_vals.detach().numpy(), pred_train_cn, color='blue', label='Training Set')\n",
    "plt.scatter(ds_cn_test.target_vals.detach().numpy(), pred_test_cn, color='red', label='Testing Set')\n",
    "plt.legend(loc='upper left')\n",
    "plt.show()"
   ]
  },
  {
   "cell_type": "code",
   "execution_count": 10,
   "metadata": {},
   "outputs": [
    {
     "data": {
      "image/png": "[encoded data removed]",
      "text/plain": [
       "<Figure size 432x288 with 1 Axes>"
      ]
     },
     "metadata": {
      "needs_background": "light"
     },
     "output_type": "display_data"
    }
   ],
   "source": [
    "plt.clf()\n",
    "plt.rcParams['font.family'] = 'Times New Roman'\n",
    "plt.xlabel('Experimental YSI')\n",
    "plt.ylabel('Predicted YSI')\n",
    "plt.scatter(ds_ysi_train.target_vals.detach().numpy(), pred_train_ysi, color='blue', label='Training Set')\n",
    "plt.scatter(ds_ysi_test.target_vals.detach().numpy(), pred_test_ysi, color='red', label='Testing Set')\n",
    "plt.legend(loc='upper left')\n",
    "plt.show()"
   ]
  },
  {
   "cell_type": "code",
   "execution_count": 11,
   "metadata": {},
   "outputs": [],
   "source": [
    "data_multiprop = np.append(data_cn, data_ysi, axis=1)\n",
    "smiles_train, smiles_test, mp_train, mp_test = train_test_split(smiles, data_multiprop, test_size=0.25, random_state=0)\n",
    "ds_mp_train = QSPRDataset(smiles_train, mp_train, backend='alvadesc')\n",
    "ds_mp_test = QSPRDataset(smiles_test, mp_test, backend='alvadesc')\n",
    "\n",
    "pca_mp = PCA()\n",
    "pca_mp.fit(ds_mp_train.desc_vals.detach().numpy())\n",
    "\n",
    "ds_mp_train.desc_vals = torch.tensor(pca_mp.transform(ds_mp_train.desc_vals.detach().numpy())).type(torch.float32)\n",
    "ds_mp_train.target_vals = ds_mp_train.target_vals.type(torch.float32)\n",
    "ds_mp_test.desc_vals = torch.tensor(pca_mp.transform(ds_mp_test.desc_vals.detach().numpy())).type(torch.float32)\n",
    "ds_mp_test.target_vals = ds_mp_test.target_vals.type(torch.float32)"
   ]
  },
  {
   "cell_type": "code",
   "execution_count": 12,
   "metadata": {},
   "outputs": [
    {
     "name": "stdout",
     "output_type": "stream",
     "text": [
      "Epoch: 0 | Train loss: 16841.424453125 | Valid loss: 9223372036854775807\n",
      "Epoch: 10 | Train loss: 3285.5755403645835 | Valid loss: 2935.97265625\n",
      "Epoch: 20 | Train loss: 714.0129256184896 | Valid loss: 608.9262084960938\n",
      "Epoch: 30 | Train loss: 268.1159895833333 | Valid loss: 194.84849548339844\n",
      "Epoch: 40 | Train loss: 114.1606640625 | Valid loss: 77.55829620361328\n",
      "Epoch: 50 | Train loss: 69.51402842203775 | Valid loss: 51.74507141113281\n",
      "Epoch: 60 | Train loss: 58.35225280761719 | Valid loss: 55.723697662353516\n",
      "Epoch: 70 | Train loss: 60.05789316813151 | Valid loss: 27.13003158569336\n",
      "Epoch: 80 | Train loss: 46.77968994140625 | Valid loss: 24.203022003173828\n",
      "Epoch: 90 | Train loss: 16.547424405415853 | Valid loss: 10.312897682189941\n",
      "Epoch: 100 | Train loss: 222.3138026936849 | Valid loss: 284.9881896972656\n",
      "Epoch: 110 | Train loss: 22.006978149414063 | Valid loss: 7.988559246063232\n",
      "Epoch: 120 | Train loss: 15.412451934814452 | Valid loss: 10.147396087646484\n",
      "Epoch: 130 | Train loss: 32.19475607554118 | Valid loss: 47.59539794921875\n",
      "Epoch: 140 | Train loss: 9.532912651697794 | Valid loss: 5.465193271636963\n",
      "Epoch: 150 | Train loss: 5.390166219075521 | Valid loss: 2.098978281021118\n",
      "Epoch: 160 | Train loss: 5.061423177719116 | Valid loss: 2.0820655822753906\n",
      "Epoch: 170 | Train loss: 2.636815102895101 | Valid loss: 1.310953140258789\n",
      "Epoch: 180 | Train loss: 4.502639311154684 | Valid loss: 2.6964240074157715\n",
      "Epoch: 190 | Train loss: 1.367884505589803 | Valid loss: 0.7694752812385559\n",
      "Epoch: 200 | Train loss: 6.219563277562459 | Valid loss: 5.687902927398682\n",
      "Epoch: 210 | Train loss: 446.2307568359375 | Valid loss: 296.88232421875\n",
      "Epoch: 220 | Train loss: 41.61638854980469 | Valid loss: 55.62391662597656\n"
     ]
    }
   ],
   "source": [
    "model_mp = ECNet(ds_mp_train.desc_vals.shape[1], ds_mp_train.target_vals.shape[1], 1024, 1)\n",
    "train_loss_mp, valid_loss_mp = model_mp.fit(dataset=ds_mp_train, epochs=500, valid_size=0.33, shuffle=True, patience=32, verbose=10, lr=0.001)"
   ]
  },
  {
   "cell_type": "code",
   "execution_count": 13,
   "metadata": {},
   "outputs": [
    {
     "name": "stdout",
     "output_type": "stream",
     "text": [
      "CN test: 0.4701549453985533 | 4.914755344390869\n",
      "YSI test: 0.9288175905931382 | 5.688833236694336\n"
     ]
    }
   ],
   "source": [
    "pred_mp_train = model_mp(ds_mp_train.desc_vals).detach().numpy()\n",
    "pred_mp_test = model_mp(ds_mp_test.desc_vals).detach().numpy()\n",
    "pred_mpcn_train = [p[0] for p in pred_mp_train]\n",
    "pred_mpysi_train = [p[1] for p in pred_mp_train]\n",
    "pred_mpcn_test = [p[0] for p in pred_mp_test]\n",
    "pred_mpysi_test = [p[1] for p in pred_mp_test]\n",
    "\n",
    "exp_mp_train = ds_mp_train.target_vals.detach().numpy()\n",
    "exp_mp_test = ds_mp_test.target_vals.detach().numpy()\n",
    "exp_cn_train = [e[0] for e in exp_mp_train]\n",
    "exp_ysi_train = [e[1] for e in exp_mp_train]\n",
    "exp_cn_test = [e[0] for e in exp_mp_test]\n",
    "exp_ysi_test = [e[1] for e in exp_mp_test]\n",
    "\n",
    "r2_test_cn = r2_score(exp_cn_test, pred_mpcn_test)\n",
    "r2_test_ysi = r2_score(exp_ysi_test, pred_mpysi_test)\n",
    "mae_test_cn = median_absolute_error(exp_cn_test, pred_mpcn_test)\n",
    "mae_test_ysi = median_absolute_error(exp_ysi_test, pred_mpysi_test)\n",
    "\n",
    "print(f'CN test: {r2_test_cn} | {mae_test_cn}')\n",
    "print(f'YSI test: {r2_test_ysi} | {mae_test_ysi}')"
   ]
  },
  {
   "cell_type": "code",
   "execution_count": 14,
   "metadata": {},
   "outputs": [
    {
     "data": {
      "image/png": "[encoded data removed]",
      "text/plain": [
       "<Figure size 432x288 with 1 Axes>"
      ]
     },
     "metadata": {
      "needs_background": "light"
     },
     "output_type": "display_data"
    }
   ],
   "source": [
    "plt.clf()\n",
    "plt.rcParams['font.family'] = 'Times New Roman'\n",
    "plt.xlabel('Experimental CN')\n",
    "plt.ylabel('Predicted CN')\n",
    "plt.scatter(exp_cn_train, pred_mpcn_train, color='blue', label='Training Set')\n",
    "plt.scatter(exp_cn_test, pred_mpcn_test, color='red', label='Test Set')\n",
    "plt.legend(loc='upper left')\n",
    "plt.show()"
   ]
  },
  {
   "cell_type": "code",
   "execution_count": 15,
   "metadata": {},
   "outputs": [
    {
     "data": {
      "image/png": "[encoded data removed]",
      "text/plain": [
       "<Figure size 432x288 with 1 Axes>"
      ]
     },
     "metadata": {
      "needs_background": "light"
     },
     "output_type": "display_data"
    }
   ],
   "source": [
    "plt.clf()\n",
    "plt.rcParams['font.family'] = 'Times New Roman'\n",
    "plt.xlabel('Experimental YSI')\n",
    "plt.ylabel('Predicted YSI')\n",
    "plt.scatter(exp_ysi_train, pred_mpysi_train, color='blue', label='Training Set')\n",
    "plt.scatter(exp_ysi_test, pred_mpysi_test, color='red', label='Testing Set')\n",
    "plt.legend(loc='upper left')\n",
    "plt.show()"
   ]
  },
  {
   "cell_type": "code",
   "execution_count": null,
   "metadata": {},
   "outputs": [],
   "source": []
  }
 ],
 "metadata": {
  "interpreter": {
   "hash": "252b69efb517be662a91ca74889611414461adefdc1b62e7a9ebf1bc6024e96f"
  },
  "kernelspec": {
   "display_name": "Python 3.8.12 ('ecnet')",
   "language": "python",
   "name": "python3"
  },
  "language_info": {
   "codemirror_mode": {
    "name": "ipython",
    "version": 3
   },
   "file_extension": ".py",
   "mimetype": "text/x-python",
   "name": "python",
   "nbconvert_exporter": "python",
   "pygments_lexer": "ipython3",
   "version": "3.8.12"
  },
  "orig_nbformat": 4
 },
 "nbformat": 4,
 "nbformat_minor": 2
}
