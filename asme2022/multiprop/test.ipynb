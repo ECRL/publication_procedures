{
 "cells": [
  {
   "cell_type": "code",
   "execution_count": 1,
   "metadata": {},
   "outputs": [],
   "source": [
    "from csv import DictReader\n",
    "\n",
    "with open('_data/properties_master.csv', 'r') as csv_file:\n",
    "    reader = DictReader(csv_file)\n",
    "    rows = [r for r in reader]\n",
    "csv_file.close()"
   ]
  },
  {
   "cell_type": "code",
   "execution_count": 2,
   "metadata": {},
   "outputs": [
    {
     "name": "stdout",
     "output_type": "stream",
     "text": [
      "150\n"
     ]
    }
   ],
   "source": [
    "properties_to_use = [\n",
    "    'properties.cetane_number.value',\n",
    "    'properties.ysi_unified.value'\n",
    "]\n",
    "\n",
    "samples = []\n",
    "for row in rows:\n",
    "    use = True\n",
    "    for prop in properties_to_use:\n",
    "        if row[prop] == '-':\n",
    "            use = False\n",
    "            break\n",
    "    if use:\n",
    "        samples.append(row)\n",
    "\n",
    "print(len(samples))"
   ]
  },
  {
   "cell_type": "code",
   "execution_count": 3,
   "metadata": {},
   "outputs": [],
   "source": [
    "import numpy as np\n",
    "\n",
    "data_cn = np.array([float(s['properties.cetane_number.value']) for s in samples]).reshape(-1, 1)\n",
    "\n",
    "data_ysi = np.array([float(s['properties.ysi_unified.value']) for s in samples]).reshape(-1, 1)"
   ]
  },
  {
   "cell_type": "code",
   "execution_count": 4,
   "metadata": {},
   "outputs": [
    {
     "data": {
      "image/png": "[encoded data removed]",
      "text/plain": [
       "<Figure size 432x288 with 1 Axes>"
      ]
     },
     "metadata": {
      "needs_background": "light"
     },
     "output_type": "display_data"
    }
   ],
   "source": [
    "from matplotlib import pyplot as plt\n",
    "\n",
    "plt.clf()\n",
    "plt.rcParams['font.family'] = 'Times New Roman'\n",
    "plt.xlabel('CN')\n",
    "plt.ylabel('YSI')\n",
    "plt.scatter(data_cn, data_ysi, color='blue', alpha=0.5)\n",
    "plt.show()"
   ]
  },
  {
   "cell_type": "code",
   "execution_count": 5,
   "metadata": {},
   "outputs": [],
   "source": [
    "from sklearn.model_selection import train_test_split\n",
    "from ecnet.datasets import QSPRDataset\n",
    "\n",
    "smiles = [s['canonical_smiles'] for s in samples]\n",
    "smiles_train, smiles_test, cn_train, cn_test, ysi_train, ysi_test = train_test_split(smiles, data_cn, data_ysi, test_size=0.25, random_state=42)\n",
    "\n",
    "ds_cn_train = QSPRDataset(smiles_train, cn_train, backend='alvadesc')\n",
    "ds_cn_test = QSPRDataset(smiles_test, cn_test, backend='alvadesc')\n",
    "\n",
    "ds_ysi_train = QSPRDataset(smiles_train, ysi_train, backend='alvadesc')\n",
    "ds_ysi_test = QSPRDataset(smiles_test, ysi_test, backend='alvadesc')"
   ]
  },
  {
   "cell_type": "code",
   "execution_count": 6,
   "metadata": {},
   "outputs": [
    {
     "name": "stdout",
     "output_type": "stream",
     "text": [
      "torch.Size([112, 112]) torch.Size([38, 112])\n",
      "torch.Size([112, 112]) torch.Size([38, 112])\n",
      "torch.FloatTensor\n"
     ]
    }
   ],
   "source": [
    "from sklearn.decomposition import PCA\n",
    "import torch\n",
    "\n",
    "pca_cn = PCA()\n",
    "pca_ysi = PCA()\n",
    "\n",
    "pca_cn.fit(ds_cn_train.desc_vals.detach().numpy())\n",
    "pca_ysi.fit(ds_ysi_train.desc_vals.detach().numpy())\n",
    "\n",
    "ds_cn_train.desc_vals = torch.tensor(pca_cn.transform(ds_cn_train.desc_vals.detach().numpy())).type(torch.float32)\n",
    "ds_cn_train.target_vals = ds_cn_train.target_vals.type(torch.float32)\n",
    "ds_cn_test.desc_vals = torch.tensor(pca_cn.transform(ds_cn_test.desc_vals.detach().numpy())).type(torch.float32)\n",
    "ds_cn_test.target_vals = ds_cn_test.target_vals.type(torch.float32)\n",
    "\n",
    "ds_ysi_train.desc_vals = torch.tensor(pca_ysi.transform(ds_ysi_train.desc_vals.detach().numpy())).type(torch.float32)\n",
    "ds_ysi_train.target_vals = ds_ysi_train.target_vals.type(torch.float32)\n",
    "ds_ysi_test.desc_vals = torch.tensor(pca_ysi.transform(ds_ysi_test.desc_vals.detach().numpy())).type(torch.float32)\n",
    "ds_ysi_test.target_vals = ds_ysi_test.target_vals.type(torch.float32)\n",
    "\n",
    "print(ds_cn_train.desc_vals.shape, ds_cn_test.desc_vals.shape)\n",
    "print(ds_ysi_train.desc_vals.shape, ds_ysi_test.desc_vals.shape)\n",
    "print(ds_cn_train.desc_vals.type())"
   ]
  },
  {
   "cell_type": "code",
   "execution_count": 7,
   "metadata": {},
   "outputs": [
    {
     "name": "stdout",
     "output_type": "stream",
     "text": [
      "Cetane number...\n",
      "Epoch: 0 | Train loss: 13917.697521391368 | Valid loss: 9223372036854775807\n",
      "Epoch: 10 | Train loss: 687.4206310453869 | Valid loss: 2174.428955078125\n",
      "Epoch: 20 | Train loss: 287.4075746082124 | Valid loss: 1232.448974609375\n",
      "Epoch: 30 | Train loss: 148.18676685151598 | Valid loss: 413.7607116699219\n",
      "Epoch: 40 | Train loss: 84.08352951776413 | Valid loss: 291.92254638671875\n",
      "Epoch: 50 | Train loss: 46.356954847063335 | Valid loss: 286.0257263183594\n",
      "Epoch: 60 | Train loss: 23.27905291602725 | Valid loss: 223.695556640625\n",
      "Epoch: 70 | Train loss: 11.624214717320033 | Valid loss: 211.17884826660156\n",
      "Epoch: 80 | Train loss: 6.252362557819912 | Valid loss: 194.19834899902344\n",
      "Epoch: 90 | Train loss: 3.580937771570115 | Valid loss: 171.2144012451172\n",
      "Epoch: 100 | Train loss: 2.4571126302083335 | Valid loss: 162.0472869873047\n",
      "Epoch: 110 | Train loss: 1.521861473719279 | Valid loss: 150.72291564941406\n",
      "Epoch: 120 | Train loss: 1.2826240687143236 | Valid loss: 138.4322967529297\n",
      "Epoch: 130 | Train loss: 0.6481007053738549 | Valid loss: 149.2779541015625\n",
      "Epoch: 140 | Train loss: 0.5271367033322653 | Valid loss: 148.50230407714844\n",
      "Epoch: 150 | Train loss: 0.35991481088456656 | Valid loss: 139.60581970214844\n",
      "Epoch: 160 | Train loss: 0.32505876819292706 | Valid loss: 145.28140258789062\n",
      "Epoch: 170 | Train loss: 0.18067546401705062 | Valid loss: 138.56784057617188\n",
      "Epoch: 180 | Train loss: 0.38321156090214137 | Valid loss: 157.20458984375\n",
      "Epoch: 190 | Train loss: 0.451200443364325 | Valid loss: 125.30863952636719\n",
      "Epoch: 200 | Train loss: 0.24698138378915332 | Valid loss: 148.84962463378906\n",
      "Epoch: 210 | Train loss: 0.07147013094453585 | Valid loss: 134.2754364013672\n",
      "Yield sooting index...\n",
      "Epoch: 0 | Train loss: 39710.482142857145 | Valid loss: 9223372036854775807\n",
      "Epoch: 10 | Train loss: 1502.7501278831846 | Valid loss: 14698.1669921875\n",
      "Epoch: 20 | Train loss: 287.36205618722096 | Valid loss: 2773.93798828125\n",
      "Epoch: 30 | Train loss: 75.26492927187965 | Valid loss: 1089.133056640625\n",
      "Epoch: 40 | Train loss: 42.225291842506046 | Valid loss: 1184.0057373046875\n",
      "Epoch: 50 | Train loss: 184.90885126023065 | Valid loss: 1325.722900390625\n",
      "Epoch: 60 | Train loss: 301.6598899478004 | Valid loss: 2698.041015625\n"
     ]
    }
   ],
   "source": [
    "from ecnet import ECNet\n",
    "\n",
    "print('Cetane number...')\n",
    "model_cn = ECNet(ds_cn_train.desc_vals.shape[1], ds_cn_train.target_vals.shape[1], 1024, 1)\n",
    "train_loss_cn, valid_loss_cn = model_cn.fit(dataset=ds_cn_train, epochs=500, valid_size=0.25, random_state=42, patience=32, verbose=10, lr=0.001)\n",
    "\n",
    "print('Yield sooting index...')\n",
    "model_ysi = ECNet(ds_ysi_train.desc_vals.shape[1], ds_ysi_train.target_vals.shape[1], 1024, 1)\n",
    "train_loss_ysi, valid_loss_ysi = model_ysi.fit(dataset=ds_ysi_train, epochs=500, valid_size=0.25, random_state=42, patience=32, verbose=10, lr=0.001)"
   ]
  },
  {
   "cell_type": "code",
   "execution_count": 8,
   "metadata": {},
   "outputs": [
    {
     "name": "stdout",
     "output_type": "stream",
     "text": [
      "CN train: 0.9497353766436205 | 0.15843486785888672\n",
      "CN test: 0.43211420616641927 | 5.108871936798096\n",
      "YSI train: 0.9880729291294797 | 2.8419952392578125\n",
      "YSI test: 0.9219774171759071 | 7.295771598815918\n"
     ]
    }
   ],
   "source": [
    "from sklearn.metrics import r2_score, median_absolute_error\n",
    "\n",
    "pred_train_cn = model_cn(ds_cn_train.desc_vals).detach().numpy()\n",
    "pred_test_cn = model_cn(ds_cn_test.desc_vals).detach().numpy()\n",
    "\n",
    "pred_train_ysi = model_ysi(ds_ysi_train.desc_vals).detach().numpy()\n",
    "pred_test_ysi = model_ysi(ds_ysi_test.desc_vals).detach().numpy()\n",
    "\n",
    "mae_train_cn = median_absolute_error(ds_cn_train.target_vals.detach().numpy(), pred_train_cn)\n",
    "mae_test_cn = median_absolute_error(ds_cn_test.target_vals.detach().numpy(), pred_test_cn)\n",
    "r2_train_cn = r2_score(ds_cn_train.target_vals.detach().numpy(), pred_train_cn)\n",
    "r2_test_cn = r2_score(ds_cn_test.target_vals.detach().numpy(), pred_test_cn)\n",
    "\n",
    "mae_train_ysi = median_absolute_error(ds_ysi_train.target_vals.detach().numpy(), pred_train_ysi)\n",
    "mae_test_ysi = median_absolute_error(ds_ysi_test.target_vals.detach().numpy(), pred_test_ysi)\n",
    "r2_train_ysi = r2_score(ds_ysi_train.target_vals.detach().numpy(), pred_train_ysi)\n",
    "r2_test_ysi = r2_score(ds_ysi_test.target_vals.detach().numpy(), pred_test_ysi)\n",
    "\n",
    "print(f'CN train: {r2_train_cn} | {mae_train_cn}')\n",
    "print(f'CN test: {r2_test_cn} | {mae_test_cn}')\n",
    "print(f'YSI train: {r2_train_ysi} | {mae_train_ysi}')\n",
    "print(f'YSI test: {r2_test_ysi} | {mae_test_ysi}')"
   ]
  },
  {
   "cell_type": "code",
   "execution_count": null,
   "metadata": {},
   "outputs": [],
   "source": [
    "from matplotlib import pyplot as plt\n",
    "\n",
    "plt.clf()\n",
    "plt.rcParams['font.family'] = 'Times New Roman'\n",
    "plt.xlabel('Experimental CN')\n",
    "plt.ylabel('Predicted CN')\n",
    "plt.scatter()"
   ]
  }
 ],
 "metadata": {
  "interpreter": {
   "hash": "252b69efb517be662a91ca74889611414461adefdc1b62e7a9ebf1bc6024e96f"
  },
  "kernelspec": {
   "display_name": "Python 3.8.12 ('ecnet')",
   "language": "python",
   "name": "python3"
  },
  "language_info": {
   "codemirror_mode": {
    "name": "ipython",
    "version": 3
   },
   "file_extension": ".py",
   "mimetype": "text/x-python",
   "name": "python",
   "nbconvert_exporter": "python",
   "pygments_lexer": "ipython3",
   "version": "3.8.12"
  },
  "orig_nbformat": 4
 },
 "nbformat": 4,
 "nbformat_minor": 2
}
