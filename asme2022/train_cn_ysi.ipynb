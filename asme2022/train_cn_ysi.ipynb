{
 "cells": [
  {
   "cell_type": "code",
   "execution_count": 1,
   "metadata": {},
   "outputs": [
    {
     "name": "stdout",
     "output_type": "stream",
     "text": [
      "132 132 132\n"
     ]
    }
   ],
   "source": [
    "from ecnet.datasets import load_ysi, load_cn\n",
    "\n",
    "smiles_ysi, ysi = load_ysi()\n",
    "smiles_cn, cn = load_cn()\n",
    "\n",
    "data_ysi = []\n",
    "data_cn = []\n",
    "smiles = []\n",
    "\n",
    "for idx_ysi, smi_ysi in enumerate(smiles_ysi):\n",
    "    for idx, smi in enumerate(smiles_cn):\n",
    "        if smi_ysi == smi:\n",
    "            data_ysi.append(ysi[idx_ysi])\n",
    "            data_cn.append(cn[idx])\n",
    "            smiles.append(smi_ysi)\n",
    "            break\n",
    "\n",
    "print(len(data_ysi), len(data_cn), len(smiles))"
   ]
  },
  {
   "cell_type": "code",
   "execution_count": 2,
   "metadata": {},
   "outputs": [
    {
     "name": "stdout",
     "output_type": "stream",
     "text": [
      "[-0.74680261] [3.87871805]\n",
      "[-1.38752046] [3.31798372]\n"
     ]
    }
   ],
   "source": [
    "from sklearn.preprocessing import StandardScaler\n",
    "\n",
    "scaler_ysi = StandardScaler()\n",
    "scaler_cn = StandardScaler()\n",
    "scaler_ysi.fit(data_ysi)\n",
    "scaler_cn.fit(data_cn)\n",
    "data_ysi = scaler_ysi.transform(data_ysi)\n",
    "data_cn = scaler_cn.transform(data_cn)\n",
    "\n",
    "print(min(data_ysi), max(data_ysi))\n",
    "print(min(data_cn), max(data_cn))"
   ]
  },
  {
   "cell_type": "code",
   "execution_count": 3,
   "metadata": {},
   "outputs": [
    {
     "name": "stdout",
     "output_type": "stream",
     "text": [
      "99 33\n"
     ]
    }
   ],
   "source": [
    "from sklearn.model_selection import train_test_split\n",
    "\n",
    "smiles_train, smiles_test, ysi_train, ysi_test, cn_train, cn_test = train_test_split(smiles, data_ysi, data_cn, test_size=0.25, random_state=0)\n",
    "\n",
    "print(len(smiles_train), len(smiles_test))"
   ]
  },
  {
   "cell_type": "code",
   "execution_count": 4,
   "metadata": {},
   "outputs": [],
   "source": [
    "################\n",
    "### YSI ONLY ###\n",
    "################\n",
    "\n",
    "from ecnet.datasets import QSPRDataset\n",
    "\n",
    "ds_train = QSPRDataset(smiles_train, ysi_train, backend='alvadesc')\n",
    "ds_test = QSPRDataset(smiles_test, ysi_test, backend='alvadesc')"
   ]
  },
  {
   "cell_type": "code",
   "execution_count": 5,
   "metadata": {},
   "outputs": [
    {
     "name": "stdout",
     "output_type": "stream",
     "text": [
      "torch.Size([99, 99]) torch.Size([33, 99])\n"
     ]
    },
    {
     "name": "stderr",
     "output_type": "stream",
     "text": [
      "/var/folders/p2/sy4mm_hj0bv50k91q64hd9rh0000gn/T/ipykernel_52272/3723054795.py:9: UserWarning: To copy construct from a tensor, it is recommended to use sourceTensor.clone().detach() or sourceTensor.clone().detach().requires_grad_(True), rather than torch.tensor(sourceTensor).\n",
      "  ds_train.target_vals = torch.tensor(ds_train.target_vals).type(torch.float32)\n",
      "/var/folders/p2/sy4mm_hj0bv50k91q64hd9rh0000gn/T/ipykernel_52272/3723054795.py:10: UserWarning: To copy construct from a tensor, it is recommended to use sourceTensor.clone().detach() or sourceTensor.clone().detach().requires_grad_(True), rather than torch.tensor(sourceTensor).\n",
      "  ds_test.target_vals = torch.tensor(ds_test.target_vals).type(torch.float32)\n"
     ]
    }
   ],
   "source": [
    "from sklearn.decomposition import PCA\n",
    "import torch\n",
    "\n",
    "pca = PCA(len(ds_train))\n",
    "pca.fit(ds_train.desc_vals.detach().numpy())\n",
    "ds_train.desc_vals = torch.tensor(pca.transform(ds_train.desc_vals.detach().numpy())).type(torch.float32)\n",
    "ds_test.desc_vals = torch.tensor(pca.transform(ds_test.desc_vals.detach().numpy())).type(torch.float32)\n",
    "\n",
    "ds_train.target_vals = torch.tensor(ds_train.target_vals).type(torch.float32)\n",
    "ds_test.target_vals = torch.tensor(ds_test.target_vals).type(torch.float32)\n",
    "\n",
    "print(ds_train.desc_vals.shape, ds_test.desc_vals.shape)"
   ]
  },
  {
   "cell_type": "code",
   "execution_count": 6,
   "metadata": {},
   "outputs": [
    {
     "name": "stdout",
     "output_type": "stream",
     "text": [
      "Epoch: 0 | Train loss: 1506.986581513376 | Valid loss: 9223372036854775807\n",
      "Epoch: 25 | Train loss: 0.5095242664895274 | Valid loss: 0.2424735128879547\n",
      "Epoch: 50 | Train loss: 0.045437196220243066 | Valid loss: 0.018323637545108795\n",
      "Epoch: 75 | Train loss: 0.02383075392043049 | Valid loss: 0.015511736273765564\n",
      "Epoch: 100 | Train loss: 0.16713494687538707 | Valid loss: 0.11963104456663132\n",
      "Epoch: 125 | Train loss: 0.013909264665209886 | Valid loss: 0.008163334801793098\n",
      "Epoch: 150 | Train loss: 0.014802108547001175 | Valid loss: 0.006211805623024702\n",
      "Epoch: 175 | Train loss: 0.0415551585046518 | Valid loss: 0.036196283996105194\n",
      "Epoch: 200 | Train loss: 0.003669634179183931 | Valid loss: 0.00380337773822248\n",
      "Epoch: 225 | Train loss: 0.0035138413535826135 | Valid loss: 0.001871789456345141\n",
      "Epoch: 250 | Train loss: 0.0033201708416031165 | Valid loss: 0.0018897508271038532\n",
      "Epoch: 275 | Train loss: 0.006942276038788612 | Valid loss: 0.0033531992230564356\n",
      "Epoch: 300 | Train loss: 0.006260535764423284 | Valid loss: 0.0034161508083343506\n",
      "Epoch: 325 | Train loss: 0.0794332148030993 | Valid loss: 0.038780637085437775\n",
      "Epoch: 350 | Train loss: 0.007919954869783285 | Valid loss: 0.003795366734266281\n"
     ]
    },
    {
     "data": {
      "image/png": "[encoded data removed]",
      "text/plain": [
       "<Figure size 432x288 with 1 Axes>"
      ]
     },
     "metadata": {
      "needs_background": "light"
     },
     "output_type": "display_data"
    }
   ],
   "source": [
    "from ecnet import ECNet\n",
    "from sklearn.metrics import median_absolute_error, r2_score\n",
    "from matplotlib import pyplot as plt\n",
    "from matplotlib.offsetbox import AnchoredText\n",
    "\n",
    "model_ysi = ECNet(ds_train.desc_vals.shape[1], ds_train.target_vals.shape[1], 512, 2)\n",
    "model_ysi.fit(dataset=ds_train, epochs=512, valid_size=0.33, shuffle=True, patience=64, verbose=25, lr=0.001)\n",
    "\n",
    "pred_train = model_ysi(ds_train.desc_vals).detach().numpy()\n",
    "pred_test = model_ysi(ds_test.desc_vals).detach().numpy()\n",
    "\n",
    "mae_train = median_absolute_error(ysi_train, pred_train)\n",
    "mae_test = median_absolute_error(ysi_test, pred_test)\n",
    "\n",
    "r2_train = r2_score(ysi_train, pred_train)\n",
    "r2_test = r2_score(ysi_test, pred_test)\n",
    "\n",
    "min_val = min(min(pred_train), min(ysi_train)) - 0.05 * min(min(pred_train), min(ysi_train))\n",
    "max_val = max(max(pred_train), max(ysi_train)) + 0.05 * max(max(pred_train), max(ysi_train))\n",
    "\n",
    "plt.clf()\n",
    "plt.rcParams['font.family'] = 'Times New Roman'\n",
    "plt.xlabel('Scaled Experimental YSI')\n",
    "plt.ylabel('Scaled Predicted YSI')\n",
    "plt.plot([min_val, max_val], [min_val, max_val], 'k--', alpha=0.3)\n",
    "plt.plot([min_val, max_val], [min_val + mae_test, max_val + mae_test], 'k--', alpha=0.3)\n",
    "plt.plot([min_val, max_val], [min_val - mae_test, max_val - mae_test], 'k--', alpha=0.3)\n",
    "plt.scatter(ysi_train, pred_train, label='Training Set', color=(0, 114/235, 178/235), alpha=0.5)\n",
    "plt.scatter(ysi_test, pred_test, label='Test Set', color=(213/235, 94/235, 0), alpha=0.5)\n",
    "string = 'Training MAE: {:.3f}\\nTraining $R^2$: {:.3f}\\nTest MAE: {:.3f}\\nTest $R^2$: {:.3f}'.format(\n",
    "    mae_train, r2_train, mae_test, r2_test\n",
    ")\n",
    "text_box = AnchoredText(string, frameon=True, loc=4, pad=0.5)\n",
    "plt.setp(text_box.patch, facecolor='white', edgecolor='white', alpha=0.0)\n",
    "plt.gca().add_artist(text_box)\n",
    "plt.show()\n"
   ]
  },
  {
   "cell_type": "code",
   "execution_count": 7,
   "metadata": {},
   "outputs": [],
   "source": [
    "###############\n",
    "### CN ONLY ###\n",
    "###############\n",
    "\n",
    "ds_train = QSPRDataset(smiles_train, cn_train, backend='alvadesc')\n",
    "ds_test = QSPRDataset(smiles_test, cn_test, backend='alvadesc')"
   ]
  },
  {
   "cell_type": "code",
   "execution_count": 8,
   "metadata": {},
   "outputs": [
    {
     "name": "stdout",
     "output_type": "stream",
     "text": [
      "torch.Size([99, 99]) torch.Size([33, 99])\n"
     ]
    },
    {
     "name": "stderr",
     "output_type": "stream",
     "text": [
      "/var/folders/p2/sy4mm_hj0bv50k91q64hd9rh0000gn/T/ipykernel_52272/2641696615.py:6: UserWarning: To copy construct from a tensor, it is recommended to use sourceTensor.clone().detach() or sourceTensor.clone().detach().requires_grad_(True), rather than torch.tensor(sourceTensor).\n",
      "  ds_train.target_vals = torch.tensor(ds_train.target_vals).type(torch.float32)\n",
      "/var/folders/p2/sy4mm_hj0bv50k91q64hd9rh0000gn/T/ipykernel_52272/2641696615.py:7: UserWarning: To copy construct from a tensor, it is recommended to use sourceTensor.clone().detach() or sourceTensor.clone().detach().requires_grad_(True), rather than torch.tensor(sourceTensor).\n",
      "  ds_test.target_vals = torch.tensor(ds_test.target_vals).type(torch.float32)\n"
     ]
    }
   ],
   "source": [
    "pca = PCA(len(ds_train))\n",
    "pca.fit(ds_train.desc_vals.detach().numpy())\n",
    "ds_train.desc_vals = torch.tensor(pca.transform(ds_train.desc_vals.detach().numpy())).type(torch.float32)\n",
    "ds_test.desc_vals = torch.tensor(pca.transform(ds_test.desc_vals.detach().numpy())).type(torch.float32)\n",
    "\n",
    "ds_train.target_vals = torch.tensor(ds_train.target_vals).type(torch.float32)\n",
    "ds_test.target_vals = torch.tensor(ds_test.target_vals).type(torch.float32)\n",
    "\n",
    "print(ds_train.desc_vals.shape, ds_test.desc_vals.shape)"
   ]
  },
  {
   "cell_type": "code",
   "execution_count": 9,
   "metadata": {},
   "outputs": [
    {
     "name": "stdout",
     "output_type": "stream",
     "text": [
      "Epoch: 0 | Train loss: 709.1256237608013 | Valid loss: 9223372036854775807\n",
      "Epoch: 25 | Train loss: 0.30902630666440184 | Valid loss: 0.5736789703369141\n",
      "Epoch: 50 | Train loss: 0.3533788975892645 | Valid loss: 0.35602691769599915\n",
      "Epoch: 75 | Train loss: 0.10380177041797926 | Valid loss: 0.160490021109581\n",
      "Epoch: 100 | Train loss: 0.23094439100135455 | Valid loss: 0.11430440843105316\n",
      "Epoch: 125 | Train loss: 0.03707004033706405 | Valid loss: 0.03774839639663696\n",
      "Epoch: 150 | Train loss: 0.05208117232629747 | Valid loss: 0.04897504299879074\n",
      "Epoch: 175 | Train loss: 0.042324114901324116 | Valid loss: 0.056163132190704346\n",
      "Epoch: 200 | Train loss: 0.08063398477988261 | Valid loss: 0.10601399838924408\n",
      "Epoch: 225 | Train loss: 0.08915114189651584 | Valid loss: 0.05371484160423279\n",
      "Epoch: 250 | Train loss: 0.02140760822503856 | Valid loss: 0.02443024516105652\n"
     ]
    },
    {
     "data": {
      "image/png": "[encoded data removed]",
      "text/plain": [
       "<Figure size 432x288 with 1 Axes>"
      ]
     },
     "metadata": {
      "needs_background": "light"
     },
     "output_type": "display_data"
    }
   ],
   "source": [
    "model_cn = ECNet(ds_train.desc_vals.shape[1], ds_train.target_vals.shape[1], 512, 2)\n",
    "model_cn.fit(dataset=ds_train, epochs=512, valid_size=0.33, shuffle=True, patience=64, verbose=25, lr=0.001)\n",
    "\n",
    "pred_train = model_cn(ds_train.desc_vals).detach().numpy()\n",
    "pred_test = model_cn(ds_test.desc_vals).detach().numpy()\n",
    "\n",
    "mae_train = median_absolute_error(cn_train, pred_train)\n",
    "mae_test = median_absolute_error(cn_test, pred_test)\n",
    "\n",
    "r2_train = r2_score(cn_train, pred_train)\n",
    "r2_test = r2_score(cn_test, pred_test)\n",
    "\n",
    "min_val = min(min(pred_train), min(cn_train)) - 0.05 * min(min(pred_train), min(cn_train))\n",
    "max_val = max(max(pred_train), max(cn_train)) + 0.05 * max(max(pred_train), max(cn_train))\n",
    "\n",
    "plt.clf()\n",
    "plt.rcParams['font.family'] = 'Times New Roman'\n",
    "plt.xlabel('Scaled Experimental CN')\n",
    "plt.ylabel('Scaled Predicted CN')\n",
    "plt.plot([min_val, max_val], [min_val, max_val], 'k--', alpha=0.3)\n",
    "plt.plot([min_val, max_val], [min_val + mae_test, max_val + mae_test], 'k--', alpha=0.3)\n",
    "plt.plot([min_val, max_val], [min_val - mae_test, max_val - mae_test], 'k--', alpha=0.3)\n",
    "plt.scatter(cn_train, pred_train, label='Training Set', color=(0, 114/235, 178/235), alpha=0.5)\n",
    "plt.scatter(cn_test, pred_test, label='Test Set', color=(213/235, 94/235, 0), alpha=0.5)\n",
    "string = 'Training MAE: {:.3f}\\nTraining $R^2$: {:.3f}\\nTest MAE: {:.3f}\\nTest $R^2$: {:.3f}'.format(\n",
    "    mae_train, r2_train, mae_test, r2_test\n",
    ")\n",
    "text_box = AnchoredText(string, frameon=True, loc=4, pad=0.5)\n",
    "plt.setp(text_box.patch, facecolor='white', edgecolor='white', alpha=0.0)\n",
    "plt.gca().add_artist(text_box)\n",
    "plt.show()"
   ]
  },
  {
   "cell_type": "code",
   "execution_count": 10,
   "metadata": {},
   "outputs": [
    {
     "name": "stdout",
     "output_type": "stream",
     "text": [
      "torch.Size([99, 5305]) torch.Size([33, 5305])\n",
      "torch.Size([99, 2]) torch.Size([33, 2])\n"
     ]
    }
   ],
   "source": [
    "##################\n",
    "### YSI and CN ###\n",
    "##################\n",
    "\n",
    "import numpy as np\n",
    "\n",
    "targets_train = np.concatenate((np.array(ysi_train), np.array(cn_train)), axis=1)\n",
    "targets_test = np.concatenate((np.array(ysi_test), np.array(cn_test)), axis=1)\n",
    "\n",
    "ds_train = QSPRDataset(smiles_train, targets_train, backend='alvadesc')\n",
    "ds_test = QSPRDataset(smiles_test, targets_test, backend='alvadesc')\n",
    "\n",
    "print(ds_train.desc_vals.shape, ds_test.desc_vals.shape)\n",
    "print(ds_train.target_vals.shape, ds_test.target_vals.shape)"
   ]
  },
  {
   "cell_type": "code",
   "execution_count": 11,
   "metadata": {},
   "outputs": [
    {
     "name": "stdout",
     "output_type": "stream",
     "text": [
      "torch.Size([99, 99]) torch.Size([33, 99])\n"
     ]
    },
    {
     "name": "stderr",
     "output_type": "stream",
     "text": [
      "/var/folders/p2/sy4mm_hj0bv50k91q64hd9rh0000gn/T/ipykernel_52272/2641696615.py:6: UserWarning: To copy construct from a tensor, it is recommended to use sourceTensor.clone().detach() or sourceTensor.clone().detach().requires_grad_(True), rather than torch.tensor(sourceTensor).\n",
      "  ds_train.target_vals = torch.tensor(ds_train.target_vals).type(torch.float32)\n",
      "/var/folders/p2/sy4mm_hj0bv50k91q64hd9rh0000gn/T/ipykernel_52272/2641696615.py:7: UserWarning: To copy construct from a tensor, it is recommended to use sourceTensor.clone().detach() or sourceTensor.clone().detach().requires_grad_(True), rather than torch.tensor(sourceTensor).\n",
      "  ds_test.target_vals = torch.tensor(ds_test.target_vals).type(torch.float32)\n"
     ]
    }
   ],
   "source": [
    "pca = PCA(len(ds_train))\n",
    "pca.fit(ds_train.desc_vals.detach().numpy())\n",
    "ds_train.desc_vals = torch.tensor(pca.transform(ds_train.desc_vals.detach().numpy())).type(torch.float32)\n",
    "ds_test.desc_vals = torch.tensor(pca.transform(ds_test.desc_vals.detach().numpy())).type(torch.float32)\n",
    "\n",
    "ds_train.target_vals = torch.tensor(ds_train.target_vals).type(torch.float32)\n",
    "ds_test.target_vals = torch.tensor(ds_test.target_vals).type(torch.float32)\n",
    "\n",
    "print(ds_train.desc_vals.shape, ds_test.desc_vals.shape)"
   ]
  },
  {
   "cell_type": "code",
   "execution_count": 12,
   "metadata": {},
   "outputs": [
    {
     "name": "stdout",
     "output_type": "stream",
     "text": [
      "Epoch: 0 | Train loss: 2121.6553617535214 | Valid loss: 9223372036854775807\n",
      "Epoch: 25 | Train loss: 0.7897654605860059 | Valid loss: 1.3132814168930054\n",
      "Epoch: 50 | Train loss: 0.2135818230383324 | Valid loss: 0.3149559795856476\n",
      "Epoch: 75 | Train loss: 71.3913287935835 | Valid loss: 139.57318115234375\n",
      "Epoch: 100 | Train loss: 0.10559662002505678 | Valid loss: 0.1418691724538803\n",
      "Epoch: 125 | Train loss: 0.15661376477642494 | Valid loss: 0.1645989716053009\n",
      "Epoch: 150 | Train loss: 0.035117012759049736 | Valid loss: 0.06102500483393669\n",
      "Epoch: 175 | Train loss: 0.0268455096379374 | Valid loss: 0.03186164051294327\n",
      "Epoch: 200 | Train loss: 0.02979172808541493 | Valid loss: 0.027324549853801727\n",
      "Epoch: 225 | Train loss: 0.5601217348241445 | Valid loss: 0.5468035340309143\n",
      "Epoch: 250 | Train loss: 0.03352720637551763 | Valid loss: 0.05264158174395561\n",
      "Epoch: 275 | Train loss: 0.029492095366797665 | Valid loss: 0.03703315183520317\n",
      "Epoch: 300 | Train loss: 0.019872397043262467 | Valid loss: 0.0344485305249691\n",
      "Epoch: 325 | Train loss: 0.017564948309551586 | Valid loss: 0.016293194144964218\n",
      "Epoch: 350 | Train loss: 0.0033927690802198467 | Valid loss: 0.004461425356566906\n",
      "Epoch: 375 | Train loss: 0.008007601258048619 | Valid loss: 0.007738633546978235\n",
      "Epoch: 400 | Train loss: 0.0026828024790368295 | Valid loss: 0.0032773218117654324\n",
      "Epoch: 425 | Train loss: 0.006144684174972953 | Valid loss: 0.005021563731133938\n",
      "Epoch: 450 | Train loss: 0.0063866423566430585 | Valid loss: 0.006623781751841307\n",
      "Epoch: 475 | Train loss: 0.0018642090021096396 | Valid loss: 0.0014986916212365031\n",
      "Epoch: 500 | Train loss: 0.001652648728905302 | Valid loss: 0.0015877344412729144\n"
     ]
    },
    {
     "data": {
      "image/png": "[encoded data removed]",
      "text/plain": [
       "<Figure size 432x288 with 1 Axes>"
      ]
     },
     "metadata": {
      "needs_background": "light"
     },
     "output_type": "display_data"
    },
    {
     "name": "stderr",
     "output_type": "stream",
     "text": [
      "/Users/tjkessler/anaconda3/envs/ecnet/lib/python3.8/site-packages/numpy/core/shape_base.py:65: VisibleDeprecationWarning: Creating an ndarray from ragged nested sequences (which is a list-or-tuple of lists-or-tuples-or ndarrays with different lengths or shapes) is deprecated. If you meant to do this, you must specify 'dtype=object' when creating the ndarray.\n",
      "  ary = asanyarray(ary)\n"
     ]
    },
    {
     "data": {
      "image/png": "[encoded data removed]",
      "text/plain": [
       "<Figure size 432x288 with 1 Axes>"
      ]
     },
     "metadata": {
      "needs_background": "light"
     },
     "output_type": "display_data"
    }
   ],
   "source": [
    "model_multi = ECNet(ds_train.desc_vals.shape[1], ds_train.target_vals.shape[1], 512, 2)\n",
    "model_multi.fit(dataset=ds_train, epochs=512, valid_size=0.33, shuffle=True, patience=64, verbose=25, lr=0.001)\n",
    "\n",
    "pred_train = model_multi(ds_train.desc_vals).detach().numpy()\n",
    "pred_test = model_multi(ds_test.desc_vals).detach().numpy()\n",
    "\n",
    "pred_train_ysi = [p[0] for p in pred_train]\n",
    "pred_train_cn = [p[1] for p in pred_train]\n",
    "pred_test_ysi = [p[0] for p in pred_test]\n",
    "pred_test_cn = [p[1] for p in pred_test]\n",
    "\n",
    "mae_train_ysi = median_absolute_error(ysi_train, pred_train_ysi)\n",
    "mae_train_cn = median_absolute_error(cn_train, pred_train_cn)\n",
    "mae_test_ysi = median_absolute_error(ysi_test, pred_test_ysi)\n",
    "mae_test_cn = median_absolute_error(cn_test, pred_test_cn)\n",
    "\n",
    "r2_train_ysi = r2_score(ysi_train, pred_train_ysi)\n",
    "r2_train_cn = r2_score(cn_train, pred_train_cn)\n",
    "r2_test_ysi = r2_score(ysi_test, pred_test_ysi)\n",
    "r2_test_cn = r2_score(cn_test, pred_test_cn)\n",
    "\n",
    "min_val = min(min(pred_train_ysi), min(ysi_train)) - 0.05 * min(min(pred_train_ysi), min(ysi_train))\n",
    "max_val = max(max(pred_train_ysi), max(ysi_train)) + 0.05 * max(max(pred_train_ysi), max(ysi_train))\n",
    "\n",
    "plt.clf()\n",
    "plt.rcParams['font.family'] = 'Times New Roman'\n",
    "plt.xlabel('Scaled Experimental YSI')\n",
    "plt.ylabel('Scaled Predicted YSI')\n",
    "plt.plot([min_val, max_val], [min_val, max_val], 'k--', alpha=0.3)\n",
    "plt.plot([min_val, max_val], [min_val + mae_test_ysi, max_val + mae_test_ysi], 'k--', alpha=0.3)\n",
    "plt.plot([min_val, max_val], [min_val - mae_test_ysi, max_val - mae_test_ysi], 'k--', alpha=0.3)\n",
    "plt.scatter(ysi_train, pred_train_ysi, label='Training Set', color=(0, 114/235, 178/235), alpha=0.5)\n",
    "plt.scatter(ysi_test, pred_test_ysi, label='Test Set', color=(213/235, 94/235, 0), alpha=0.5)\n",
    "string = 'Training MAE: {:.3f}\\nTraining $R^2$: {:.3f}\\nTest MAE: {:.3f}\\nTest $R^2$: {:.3f}'.format(\n",
    "    mae_train_ysi, r2_train_ysi, mae_test_ysi, r2_test_ysi\n",
    ")\n",
    "text_box = AnchoredText(string, frameon=True, loc=4, pad=0.5)\n",
    "plt.setp(text_box.patch, facecolor='white', edgecolor='white', alpha=0.0)\n",
    "plt.gca().add_artist(text_box)\n",
    "plt.show()\n",
    "\n",
    "min_val = min(min(pred_train_cn), min(cn_train)) - 0.05 * min(min(pred_train_cn), min(cn_train))\n",
    "max_val = max(max(pred_train_cn), max(cn_train)) + 0.05 * max(max(pred_train_cn), max(cn_train))\n",
    "\n",
    "plt.clf()\n",
    "plt.rcParams['font.family'] = 'Times New Roman'\n",
    "plt.xlabel('Scaled Experimental CN')\n",
    "plt.ylabel('Scaled Predicted CN')\n",
    "plt.plot([min_val, max_val], [min_val, max_val], 'k--', alpha=0.3)\n",
    "plt.plot([min_val, max_val], [min_val + mae_test_cn, max_val + mae_test_cn], 'k--', alpha=0.3)\n",
    "plt.plot([min_val, max_val], [min_val - mae_test_cn, max_val - mae_test_cn], 'k--', alpha=0.3)\n",
    "plt.scatter(cn_train, pred_train_cn, label='Training Set', color=(0, 114/235, 178/235), alpha=0.5)\n",
    "plt.scatter(cn_test, pred_test_cn, label='Test Set', color=(213/235, 94/235, 0), alpha=0.5)\n",
    "string = 'Training MAE: {:.3f}\\nTraining $R^2$: {:.3f}\\nTest MAE: {:.3f}\\nTest $R^2$: {:.3f}'.format(\n",
    "    mae_train_cn, r2_train_cn, mae_test_cn, r2_test_cn\n",
    ")\n",
    "text_box = AnchoredText(string, frameon=True, loc=4, pad=0.5)\n",
    "plt.setp(text_box.patch, facecolor='white', edgecolor='white', alpha=0.0)\n",
    "plt.gca().add_artist(text_box)\n",
    "plt.show()"
   ]
  },
  {
   "cell_type": "code",
   "execution_count": 13,
   "metadata": {},
   "outputs": [
    {
     "name": "stderr",
     "output_type": "stream",
     "text": [
      "/var/folders/p2/sy4mm_hj0bv50k91q64hd9rh0000gn/T/ipykernel_52272/2801915058.py:13: UserWarning: To copy construct from a tensor, it is recommended to use sourceTensor.clone().detach() or sourceTensor.clone().detach().requires_grad_(True), rather than torch.tensor(sourceTensor).\n",
      "  ds_train.target_vals = torch.tensor(ds_train.target_vals).type(torch.float32)\n",
      "/var/folders/p2/sy4mm_hj0bv50k91q64hd9rh0000gn/T/ipykernel_52272/2801915058.py:14: UserWarning: To copy construct from a tensor, it is recommended to use sourceTensor.clone().detach() or sourceTensor.clone().detach().requires_grad_(True), rather than torch.tensor(sourceTensor).\n",
      "  ds_test.target_vals = torch.tensor(ds_test.target_vals).type(torch.float32)\n"
     ]
    },
    {
     "name": "stdout",
     "output_type": "stream",
     "text": [
      "Training set MAE: 0.049 +/- 0.040\n",
      "Training set R2: 0.943 +/- 0.092\n",
      "Test set MAE: 0.083 +/- 0.037\n",
      "Test set R2: 0.763 +/- 0.291\n"
     ]
    }
   ],
   "source": [
    "###########################\n",
    "### 25 trials, JUST YSI ###\n",
    "###########################\n",
    "\n",
    "ds_train = QSPRDataset(smiles_train, ysi_train, backend='alvadesc')\n",
    "ds_test = QSPRDataset(smiles_test, ysi_test, backend='alvadesc')\n",
    "\n",
    "pca = PCA(len(ds_train))\n",
    "pca.fit(ds_train.desc_vals.detach().numpy())\n",
    "ds_train.desc_vals = torch.tensor(pca.transform(ds_train.desc_vals.detach().numpy())).type(torch.float32)\n",
    "ds_test.desc_vals = torch.tensor(pca.transform(ds_test.desc_vals.detach().numpy())).type(torch.float32)\n",
    "\n",
    "ds_train.target_vals = torch.tensor(ds_train.target_vals).type(torch.float32)\n",
    "ds_test.target_vals = torch.tensor(ds_test.target_vals).type(torch.float32)\n",
    "\n",
    "maes_train = []\n",
    "maes_test = []\n",
    "r2s_train = []\n",
    "r2s_test = []\n",
    "\n",
    "for _ in range(25):\n",
    "\n",
    "    model_ysi = ECNet(ds_train.desc_vals.shape[1], ds_train.target_vals.shape[1], 512, 2)\n",
    "    model_ysi.fit(dataset=ds_train, epochs=512, valid_size=0.33, shuffle=True, patience=64, verbose=0, lr=0.001)\n",
    "\n",
    "    pred_train = model_ysi(ds_train.desc_vals).detach().numpy()\n",
    "    pred_test = model_ysi(ds_test.desc_vals).detach().numpy()\n",
    "\n",
    "    maes_train.append(median_absolute_error(ysi_train, pred_train))\n",
    "    maes_test.append(median_absolute_error(ysi_test, pred_test))\n",
    "\n",
    "    r2s_train.append(r2_score(ysi_train, pred_train))\n",
    "    r2s_test.append(r2_score(ysi_test, pred_test))\n",
    "\n",
    "print('Training set MAE: {:.3f} +/- {:.3f}'.format(np.mean(maes_train), np.std(maes_train)))\n",
    "print('Training set R2: {:.3f} +/- {:.3f}'.format(np.mean(r2s_train), np.std(r2s_train)))\n",
    "print('Test set MAE: {:.3f} +/- {:.3f}'.format(np.mean(maes_test), np.std(maes_test)))\n",
    "print('Test set R2: {:.3f} +/- {:.3f}'.format(np.mean(r2s_test), np.std(r2s_test)))"
   ]
  },
  {
   "cell_type": "code",
   "execution_count": 14,
   "metadata": {},
   "outputs": [
    {
     "name": "stderr",
     "output_type": "stream",
     "text": [
      "/var/folders/p2/sy4mm_hj0bv50k91q64hd9rh0000gn/T/ipykernel_52272/3129248416.py:13: UserWarning: To copy construct from a tensor, it is recommended to use sourceTensor.clone().detach() or sourceTensor.clone().detach().requires_grad_(True), rather than torch.tensor(sourceTensor).\n",
      "  ds_train.target_vals = torch.tensor(ds_train.target_vals).type(torch.float32)\n",
      "/var/folders/p2/sy4mm_hj0bv50k91q64hd9rh0000gn/T/ipykernel_52272/3129248416.py:14: UserWarning: To copy construct from a tensor, it is recommended to use sourceTensor.clone().detach() or sourceTensor.clone().detach().requires_grad_(True), rather than torch.tensor(sourceTensor).\n",
      "  ds_test.target_vals = torch.tensor(ds_test.target_vals).type(torch.float32)\n"
     ]
    },
    {
     "name": "stdout",
     "output_type": "stream",
     "text": [
      "Training set MAE: 0.084 +/- 0.056\n",
      "Training set R2: 0.967 +/- 0.043\n",
      "Test set MAE: 0.229 +/- 0.033\n",
      "Test set R2: 0.794 +/- 0.081\n"
     ]
    }
   ],
   "source": [
    "##########################\n",
    "### 25 trials, JUST CN ###\n",
    "##########################\n",
    "\n",
    "ds_train = QSPRDataset(smiles_train, cn_train, backend='alvadesc')\n",
    "ds_test = QSPRDataset(smiles_test, cn_test, backend='alvadesc')\n",
    "\n",
    "pca = PCA(len(ds_train))\n",
    "pca.fit(ds_train.desc_vals.detach().numpy())\n",
    "ds_train.desc_vals = torch.tensor(pca.transform(ds_train.desc_vals.detach().numpy())).type(torch.float32)\n",
    "ds_test.desc_vals = torch.tensor(pca.transform(ds_test.desc_vals.detach().numpy())).type(torch.float32)\n",
    "\n",
    "ds_train.target_vals = torch.tensor(ds_train.target_vals).type(torch.float32)\n",
    "ds_test.target_vals = torch.tensor(ds_test.target_vals).type(torch.float32)\n",
    "\n",
    "maes_train = []\n",
    "maes_test = []\n",
    "r2s_train = []\n",
    "r2s_test = []\n",
    "\n",
    "for _ in range(25):\n",
    "\n",
    "    model_lhv = ECNet(ds_train.desc_vals.shape[1], ds_train.target_vals.shape[1], 512, 2)\n",
    "    model_lhv.fit(dataset=ds_train, epochs=512, valid_size=0.33, shuffle=True, patience=64, verbose=0, lr=0.001)\n",
    "\n",
    "    pred_train = model_lhv(ds_train.desc_vals).detach().numpy()\n",
    "    pred_test = model_lhv(ds_test.desc_vals).detach().numpy()\n",
    "\n",
    "    maes_train.append(median_absolute_error(cn_train, pred_train))\n",
    "    maes_test.append(median_absolute_error(cn_test, pred_test))\n",
    "\n",
    "    r2s_train.append(r2_score(cn_train, pred_train))\n",
    "    r2s_test.append(r2_score(cn_test, pred_test))\n",
    "\n",
    "print('Training set MAE: {:.3f} +/- {:.3f}'.format(np.mean(maes_train), np.std(maes_train)))\n",
    "print('Training set R2: {:.3f} +/- {:.3f}'.format(np.mean(r2s_train), np.std(r2s_train)))\n",
    "print('Test set MAE: {:.3f} +/- {:.3f}'.format(np.mean(maes_test), np.std(maes_test)))\n",
    "print('Test set R2: {:.3f} +/- {:.3f}'.format(np.mean(r2s_test), np.std(r2s_test)))"
   ]
  },
  {
   "cell_type": "code",
   "execution_count": 15,
   "metadata": {},
   "outputs": [
    {
     "name": "stderr",
     "output_type": "stream",
     "text": [
      "/var/folders/p2/sy4mm_hj0bv50k91q64hd9rh0000gn/T/ipykernel_52272/1772582639.py:16: UserWarning: To copy construct from a tensor, it is recommended to use sourceTensor.clone().detach() or sourceTensor.clone().detach().requires_grad_(True), rather than torch.tensor(sourceTensor).\n",
      "  ds_train.target_vals = torch.tensor(ds_train.target_vals).type(torch.float32)\n",
      "/var/folders/p2/sy4mm_hj0bv50k91q64hd9rh0000gn/T/ipykernel_52272/1772582639.py:17: UserWarning: To copy construct from a tensor, it is recommended to use sourceTensor.clone().detach() or sourceTensor.clone().detach().requires_grad_(True), rather than torch.tensor(sourceTensor).\n",
      "  ds_test.target_vals = torch.tensor(ds_test.target_vals).type(torch.float32)\n"
     ]
    },
    {
     "name": "stdout",
     "output_type": "stream",
     "text": [
      "YSI:\n",
      "Training set MAE: 0.054 +/- 0.050\n",
      "Training set R2: 0.957 +/- 0.073\n",
      "Test set MAE: 0.090 +/- 0.052\n",
      "Test set R2: 0.732 +/- 0.321\n",
      "\n",
      "LHV:\n",
      "Training set MAE: 0.078 +/- 0.050\n",
      "Training set R2: 0.921 +/- 0.120\n",
      "Test set MAE: 0.233 +/- 0.057\n",
      "Test set R2: 0.708 +/- 0.202\n"
     ]
    }
   ],
   "source": [
    "#############################\n",
    "### 25 trials, YSI and CN ###\n",
    "#############################\n",
    "\n",
    "targets_train = np.concatenate((np.array(ysi_train), np.array(cn_train)), axis=1)\n",
    "targets_test = np.concatenate((np.array(ysi_test), np.array(cn_test)), axis=1)\n",
    "\n",
    "ds_train = QSPRDataset(smiles_train, targets_train, backend='alvadesc')\n",
    "ds_test = QSPRDataset(smiles_test, ysi_test, backend='alvadesc')\n",
    "\n",
    "pca = PCA(len(ds_train))\n",
    "pca.fit(ds_train.desc_vals.detach().numpy())\n",
    "ds_train.desc_vals = torch.tensor(pca.transform(ds_train.desc_vals.detach().numpy())).type(torch.float32)\n",
    "ds_test.desc_vals = torch.tensor(pca.transform(ds_test.desc_vals.detach().numpy())).type(torch.float32)\n",
    "\n",
    "ds_train.target_vals = torch.tensor(ds_train.target_vals).type(torch.float32)\n",
    "ds_test.target_vals = torch.tensor(ds_test.target_vals).type(torch.float32)\n",
    "\n",
    "maes_train_ysi = []\n",
    "maes_train_cn = []\n",
    "maes_test_ysi = []\n",
    "maes_test_cn = []\n",
    "r2s_train_ysi = []\n",
    "r2s_train_cn = []\n",
    "r2s_test_ysi = []\n",
    "r2s_test_cn = []\n",
    "\n",
    "for _ in range(25):\n",
    "\n",
    "    model_multi = ECNet(ds_train.desc_vals.shape[1], ds_train.target_vals.shape[1], 512, 2)\n",
    "    model_multi.fit(dataset=ds_train, epochs=512, valid_size=0.33, shuffle=True, patience=64, verbose=0, lr=0.001)\n",
    "\n",
    "    pred_train = model_multi(ds_train.desc_vals).detach().numpy()\n",
    "    pred_test = model_multi(ds_test.desc_vals).detach().numpy()\n",
    "    pred_train_ysi = [p[0] for p in pred_train]\n",
    "    pred_train_cn = [p[1] for p in pred_train]\n",
    "    pred_test_ysi = [p[0] for p in pred_test]\n",
    "    pred_test_cn = [p[1] for p in pred_test]\n",
    "\n",
    "    maes_train_ysi.append(median_absolute_error(ysi_train, pred_train_ysi))\n",
    "    maes_train_cn.append(median_absolute_error(cn_train, pred_train_cn))\n",
    "    maes_test_ysi.append(median_absolute_error(ysi_test, pred_test_ysi))\n",
    "    maes_test_cn.append(median_absolute_error(cn_test, pred_test_cn))\n",
    "\n",
    "    r2s_train_ysi.append(r2_score(ysi_train, pred_train_ysi))\n",
    "    r2s_train_cn.append(r2_score(cn_train, pred_train_cn))\n",
    "    r2s_test_ysi.append(r2_score(ysi_test, pred_test_ysi))\n",
    "    r2s_test_cn.append(r2_score(cn_test, pred_test_cn))\n",
    "\n",
    "print('YSI:')\n",
    "print('Training set MAE: {:.3f} +/- {:.3f}'.format(np.mean(maes_train_ysi), np.std(maes_train_ysi)))\n",
    "print('Training set R2: {:.3f} +/- {:.3f}'.format(np.mean(r2s_train_ysi), np.std(r2s_train_ysi)))\n",
    "print('Test set MAE: {:.3f} +/- {:.3f}'.format(np.mean(maes_test_ysi), np.std(maes_test_ysi)))\n",
    "print('Test set R2: {:.3f} +/- {:.3f}'.format(np.mean(r2s_test_ysi), np.std(r2s_test_ysi)))\n",
    "print('\\nCN:')\n",
    "print('Training set MAE: {:.3f} +/- {:.3f}'.format(np.mean(maes_train_cn), np.std(maes_train_cn)))\n",
    "print('Training set R2: {:.3f} +/- {:.3f}'.format(np.mean(r2s_train_cn), np.std(r2s_train_cn)))\n",
    "print('Test set MAE: {:.3f} +/- {:.3f}'.format(np.mean(maes_test_cn), np.std(maes_test_cn)))\n",
    "print('Test set R2: {:.3f} +/- {:.3f}'.format(np.mean(r2s_test_cn), np.std(r2s_test_cn)))"
   ]
  }
 ],
 "metadata": {
  "interpreter": {
   "hash": "252b69efb517be662a91ca74889611414461adefdc1b62e7a9ebf1bc6024e96f"
  },
  "kernelspec": {
   "display_name": "Python 3.8.12 ('ecnet')",
   "language": "python",
   "name": "python3"
  },
  "language_info": {
   "codemirror_mode": {
    "name": "ipython",
    "version": 3
   },
   "file_extension": ".py",
   "mimetype": "text/x-python",
   "name": "python",
   "nbconvert_exporter": "python",
   "pygments_lexer": "ipython3",
   "version": "3.8.12"
  },
  "orig_nbformat": 4
 },
 "nbformat": 4,
 "nbformat_minor": 2
}
