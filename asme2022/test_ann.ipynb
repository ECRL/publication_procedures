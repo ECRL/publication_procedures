{
 "cells": [
  {
   "cell_type": "code",
   "execution_count": 1,
   "metadata": {},
   "outputs": [
    {
     "name": "stdout",
     "output_type": "stream",
     "text": [
      "78\n",
      "78 1\n"
     ]
    }
   ],
   "source": [
    "from csv import DictReader\n",
    "\n",
    "with open('_data/properties_master.csv', 'r') as csv_file:\n",
    "    reader = DictReader(csv_file)\n",
    "    rows = [r for r in reader]\n",
    "csv_file.close()\n",
    "\n",
    "PROPERTIES = [\n",
    "    'properties.autoignition_temp.value'\n",
    "]\n",
    "\n",
    "samples = []\n",
    "for row in rows:\n",
    "    _n_present = 0\n",
    "    for prop in PROPERTIES:\n",
    "        if row[prop] != '-':\n",
    "\n",
    "            # Special case for CLEAR outlier\n",
    "            if prop == 'properties.autoignition_temp.value':\n",
    "                if float(row[prop]) > 800:\n",
    "                    break\n",
    "\n",
    "            _n_present += 1\n",
    "            continue\n",
    "        else:\n",
    "            break\n",
    "    if _n_present >= len(PROPERTIES):\n",
    "        samples.append(row)\n",
    "\n",
    "target_vals = []\n",
    "for s in samples:\n",
    "    target_vals.append([float(s[p]) for p in PROPERTIES])\n",
    "smiles = [s['canonical_smiles'] for s in samples]\n",
    "\n",
    "print(len(smiles))\n",
    "print(len(target_vals), len(target_vals[0]))"
   ]
  },
  {
   "cell_type": "code",
   "execution_count": 2,
   "metadata": {},
   "outputs": [
    {
     "name": "stdout",
     "output_type": "stream",
     "text": [
      "I/O shapes prior to PC calculation:\n",
      "torch.Size([66, 5305]) torch.Size([66, 1])\n",
      "torch.Size([12, 5305]) torch.Size([12, 1]) \n",
      "\n",
      "I/O shapes after PC calculation:\n",
      "torch.Size([66, 66]) torch.Size([66, 1])\n",
      "torch.Size([12, 66]) torch.Size([12, 1])\n"
     ]
    }
   ],
   "source": [
    "from sklearn.model_selection import train_test_split\n",
    "from sklearn.decomposition import PCA\n",
    "from ecnet.datasets import QSPRDataset\n",
    "import torch\n",
    "\n",
    "smi_train, smi_test, tar_train, tar_test = train_test_split(smiles, target_vals, test_size=0.15, random_state=42)\n",
    "\n",
    "ds_train = QSPRDataset(smi_train, tar_train, backend='alvadesc')\n",
    "ds_test = QSPRDataset(smi_test, tar_test, backend='alvadesc')\n",
    "\n",
    "print('I/O shapes prior to PC calculation:')\n",
    "print(ds_train.desc_vals.shape, ds_train.target_vals.shape)\n",
    "print(ds_test.desc_vals.shape, ds_test.target_vals.shape, '\\n')\n",
    "\n",
    "pca = PCA(n_components=ds_train.desc_vals.shape[0], svd_solver='full', random_state=0)\n",
    "pca.fit(ds_train.desc_vals)\n",
    "\n",
    "ds_train.desc_vals = torch.tensor(pca.transform(ds_train.desc_vals)).type(torch.float32)\n",
    "ds_test.desc_vals = torch.tensor(pca.transform(ds_test.desc_vals)).type(torch.float32)\n",
    "\n",
    "print('I/O shapes after PC calculation:')\n",
    "print(ds_train.desc_vals.shape, ds_train.target_vals.shape)\n",
    "print(ds_test.desc_vals.shape, ds_test.target_vals.shape)"
   ]
  },
  {
   "cell_type": "code",
   "execution_count": 3,
   "metadata": {},
   "outputs": [
    {
     "name": "stdout",
     "output_type": "stream",
     "text": [
      "Epoch: 0 | Train loss: 111549.48647335172 | Valid loss: 9223372036854775807\n",
      "Epoch: 10 | Train loss: 2215.451974760159 | Valid loss: 598.5186767578125\n",
      "Epoch: 20 | Train loss: 289.37405152253007 | Valid loss: 111.00809478759766\n",
      "Epoch: 30 | Train loss: 71.42772832765642 | Valid loss: 103.63423919677734\n",
      "Epoch: 40 | Train loss: 745.6080746091902 | Valid loss: 230.5049591064453\n",
      "Epoch: 50 | Train loss: 1175.3311664547239 | Valid loss: 383.5366516113281\n",
      "Epoch: 60 | Train loss: 601.147713875265 | Valid loss: 218.95333862304688\n",
      "Epoch: 70 | Train loss: 246.94311381024974 | Valid loss: 111.58143615722656\n"
     ]
    }
   ],
   "source": [
    "from ecnet import ECNet\n",
    "\n",
    "model = ECNet(ds_train.desc_vals.shape[1], ds_train.target_vals.shape[1], 512, 1)\n",
    "train_loss, _ = model.fit(dataset=ds_train, valid_size=0.15, shuffle=True, patience=32, batch_size=1, epochs=500, verbose=10, lr=0.001)"
   ]
  },
  {
   "cell_type": "code",
   "execution_count": 4,
   "metadata": {},
   "outputs": [
    {
     "data": {
      "image/png": "[encoded data removed]",
      "text/plain": [
       "<Figure size 432x288 with 1 Axes>"
      ]
     },
     "metadata": {
      "needs_background": "light"
     },
     "output_type": "display_data"
    }
   ],
   "source": [
    "from matplotlib import pyplot as plt\n",
    "\n",
    "epoch = [i for i in range(len(train_loss))]\n",
    "\n",
    "plt.clf()\n",
    "plt.rcParams['font.family'] = 'Times New Roman'\n",
    "plt.plot(epoch, train_loss, color='blue')\n",
    "plt.xlabel('Epoch')\n",
    "plt.ylabel('Training Loss (MSE)')\n",
    "plt.show()"
   ]
  },
  {
   "cell_type": "code",
   "execution_count": 5,
   "metadata": {},
   "outputs": [
    {
     "name": "stdout",
     "output_type": "stream",
     "text": [
      "Autoignition Temperature:\n",
      "Train: 8.379 | 0.971\n",
      "Test: 26.735 | 0.740\n"
     ]
    }
   ],
   "source": [
    "from sklearn.metrics import r2_score, median_absolute_error\n",
    "\n",
    "pred_train = model(ds_train.desc_vals).detach().numpy()\n",
    "pred_test = model(ds_test.desc_vals).detach().numpy()\n",
    "\n",
    "pred_ai_train = [p[0] for p in pred_train]\n",
    "pred_ai_test = [p[0] for p in pred_test]\n",
    "\n",
    "tar_ai_train = [t[0] for t in tar_train]\n",
    "tar_ai_test = [t[0] for t in tar_test]\n",
    "\n",
    "print('Autoignition Temperature:')\n",
    "print('Train: {:.3f} | {:.3f}'.format(\n",
    "    median_absolute_error(tar_ai_train, pred_ai_train),\n",
    "    r2_score(tar_ai_train, pred_ai_train)\n",
    "))\n",
    "print('Test: {:.3f} | {:.3f}'.format(\n",
    "    median_absolute_error(tar_ai_test, pred_ai_test),\n",
    "    r2_score(tar_ai_test, pred_ai_test)\n",
    "))"
   ]
  },
  {
   "cell_type": "code",
   "execution_count": 6,
   "metadata": {},
   "outputs": [
    {
     "data": {
      "image/png": "[encoded data removed]",
      "text/plain": [
       "<Figure size 432x288 with 1 Axes>"
      ]
     },
     "metadata": {
      "needs_background": "light"
     },
     "output_type": "display_data"
    }
   ],
   "source": [
    "plt.clf()\n",
    "plt.rcParams['font.family'] = 'Times New Roman'\n",
    "plt.xlabel('Experimental Autoignition Temperature (C)')\n",
    "plt.ylabel('Predicted Autoignition Temperature (C)')\n",
    "plt.scatter(tar_ai_train, pred_ai_train, color='blue', label='Training Set')\n",
    "plt.scatter(tar_ai_test, pred_ai_test, color='red', label='Testing Set')\n",
    "plt.legend(loc='upper left')\n",
    "plt.show()"
   ]
  }
 ],
 "metadata": {
  "interpreter": {
   "hash": "252b69efb517be662a91ca74889611414461adefdc1b62e7a9ebf1bc6024e96f"
  },
  "kernelspec": {
   "display_name": "Python 3.8.12 ('ecnet')",
   "language": "python",
   "name": "python3"
  },
  "language_info": {
   "codemirror_mode": {
    "name": "ipython",
    "version": 3
   },
   "file_extension": ".py",
   "mimetype": "text/x-python",
   "name": "python",
   "nbconvert_exporter": "python",
   "pygments_lexer": "ipython3",
   "version": "3.8.12"
  },
  "orig_nbformat": 4
 },
 "nbformat": 4,
 "nbformat_minor": 2
}
