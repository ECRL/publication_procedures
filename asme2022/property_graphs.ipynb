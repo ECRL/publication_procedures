{
 "cells": [
  {
   "cell_type": "code",
   "execution_count": 1,
   "metadata": {},
   "outputs": [
    {
     "name": "stdout",
     "output_type": "stream",
     "text": [
      "117 117\n"
     ]
    }
   ],
   "source": [
    "##################\n",
    "### CN AND YSI ###\n",
    "##################\n",
    "\n",
    "from ecnet.datasets import load_cn, load_ysi\n",
    "\n",
    "smiles_cn, cn = load_cn()\n",
    "smiles_ysi, ysi = load_ysi()\n",
    "\n",
    "data_cn = []\n",
    "data_ysi = []\n",
    "\n",
    "for idx_cn, smi_cn in enumerate(smiles_cn):\n",
    "    for idx, smi in enumerate(smiles_ysi):\n",
    "        if smi_cn == smi:\n",
    "            if ysi[idx][0] < 90:\n",
    "                data_cn.append(cn[idx_cn])\n",
    "                data_ysi.append(ysi[idx])\n",
    "                break\n",
    "\n",
    "print(len(data_cn), len(data_ysi))"
   ]
  },
  {
   "cell_type": "code",
   "execution_count": 2,
   "metadata": {},
   "outputs": [
    {
     "data": {
      "image/png": "[encoded data removed]",
      "text/plain": [
       "<Figure size 432x288 with 1 Axes>"
      ]
     },
     "metadata": {
      "needs_background": "light"
     },
     "output_type": "display_data"
    }
   ],
   "source": [
    "from matplotlib import pyplot as plt\n",
    "\n",
    "plt.clf()\n",
    "plt.rcParams['font.family'] = 'Times New Roman'\n",
    "plt.xlabel('CN')\n",
    "plt.ylabel('YSI')\n",
    "plt.scatter(data_cn, data_ysi, alpha=0.5, color=(0, 114/235, 178/235))\n",
    "plt.show()"
   ]
  },
  {
   "cell_type": "code",
   "execution_count": 3,
   "metadata": {},
   "outputs": [
    {
     "name": "stdout",
     "output_type": "stream",
     "text": [
      "77 77\n"
     ]
    }
   ],
   "source": [
    "##################\n",
    "### CN AND LHV ###\n",
    "##################\n",
    "\n",
    "from ecnet.datasets import load_lhv\n",
    "\n",
    "smiles_cn, cn = load_cn()\n",
    "smiles_lhv, lhv = load_lhv()\n",
    "\n",
    "data_cn = []\n",
    "data_lhv = []\n",
    "\n",
    "for idx_cn, smi_cn in enumerate(smiles_cn):\n",
    "    for idx, smi in enumerate(smiles_lhv):\n",
    "        if smi_cn == smi:\n",
    "            data_cn.append(cn[idx_cn])\n",
    "            data_lhv.append(lhv[idx])\n",
    "            break\n",
    "\n",
    "print(len(data_cn), len(data_lhv))"
   ]
  },
  {
   "cell_type": "code",
   "execution_count": 4,
   "metadata": {},
   "outputs": [
    {
     "data": {
      "image/png": "[encoded data removed]",
      "text/plain": [
       "<Figure size 432x288 with 1 Axes>"
      ]
     },
     "metadata": {
      "needs_background": "light"
     },
     "output_type": "display_data"
    }
   ],
   "source": [
    "plt.clf()\n",
    "plt.rcParams['font.family'] = 'Times New Roman'\n",
    "plt.xlabel('CN')\n",
    "plt.ylabel('LHV (MJ/kg)')\n",
    "plt.scatter(data_cn, data_lhv, alpha=0.5, color=(0, 158/235, 115/235))\n",
    "plt.show()"
   ]
  },
  {
   "cell_type": "code",
   "execution_count": 5,
   "metadata": {},
   "outputs": [
    {
     "name": "stdout",
     "output_type": "stream",
     "text": [
      "114 114\n"
     ]
    }
   ],
   "source": [
    "###################\n",
    "### YSI AND LHV ###\n",
    "###################\n",
    "\n",
    "from ecnet.datasets import load_ysi\n",
    "\n",
    "smiles_ysi, ysi = load_ysi()\n",
    "smiles_lhv, lhv = load_lhv()\n",
    "\n",
    "data_ysi = []\n",
    "data_lhv = []\n",
    "\n",
    "for idx_ysi, smi_ysi in enumerate(smiles_ysi):\n",
    "    for idx, smi in enumerate(smiles_lhv):\n",
    "        if smi_ysi == smi:\n",
    "            if ysi[idx][0] < 300:\n",
    "                data_ysi.append(ysi[idx_ysi])\n",
    "                data_lhv.append(lhv[idx])\n",
    "                break\n",
    "\n",
    "print(len(data_ysi), len(data_lhv))"
   ]
  },
  {
   "cell_type": "code",
   "execution_count": 6,
   "metadata": {},
   "outputs": [
    {
     "data": {
      "image/png": "[encoded data removed]",
      "text/plain": [
       "<Figure size 432x288 with 1 Axes>"
      ]
     },
     "metadata": {
      "needs_background": "light"
     },
     "output_type": "display_data"
    }
   ],
   "source": [
    "plt.clf()\n",
    "plt.rcParams['font.family'] = 'Times New Roman'\n",
    "plt.xlabel('YSI')\n",
    "plt.ylabel('LHV (MJ/kg)')\n",
    "plt.scatter(data_ysi, data_lhv, alpha=0.5, color=(213/235, 94/235, 0))\n",
    "plt.show()"
   ]
  },
  {
   "cell_type": "code",
   "execution_count": 7,
   "metadata": {},
   "outputs": [
    {
     "name": "stdout",
     "output_type": "stream",
     "text": [
      "119 119\n"
     ]
    }
   ],
   "source": [
    "###################\n",
    "### YSI AND LHV ###\n",
    "###################\n",
    "\n",
    "from ecnet.datasets import load_ysi\n",
    "\n",
    "smiles_ysi, ysi = load_ysi()\n",
    "smiles_lhv, lhv = load_lhv()\n",
    "\n",
    "data_ysi = []\n",
    "data_lhv = []\n",
    "\n",
    "for idx_ysi, smi_ysi in enumerate(smiles_ysi):\n",
    "    for idx, smi in enumerate(smiles_lhv):\n",
    "        if smi_ysi == smi:\n",
    "            if ysi[idx_ysi][0] < 90:\n",
    "                data_ysi.append(ysi[idx_ysi])\n",
    "                data_lhv.append(lhv[idx])\n",
    "                break\n",
    "\n",
    "print(len(data_ysi), len(data_lhv))"
   ]
  },
  {
   "cell_type": "code",
   "execution_count": 8,
   "metadata": {},
   "outputs": [
    {
     "data": {
      "image/png": "[encoded data removed]",
      "text/plain": [
       "<Figure size 432x288 with 1 Axes>"
      ]
     },
     "metadata": {
      "needs_background": "light"
     },
     "output_type": "display_data"
    }
   ],
   "source": [
    "plt.clf()\n",
    "plt.rcParams['font.family'] = 'Times New Roman'\n",
    "plt.xlabel('YSI')\n",
    "plt.ylabel('LHV (MJ/kg)')\n",
    "plt.scatter(data_ysi, data_lhv, alpha=0.5, color=(213/235, 94/235, 0))\n",
    "plt.show()"
   ]
  },
  {
   "cell_type": "code",
   "execution_count": null,
   "metadata": {},
   "outputs": [],
   "source": []
  }
 ],
 "metadata": {
  "interpreter": {
   "hash": "252b69efb517be662a91ca74889611414461adefdc1b62e7a9ebf1bc6024e96f"
  },
  "kernelspec": {
   "display_name": "Python 3.8.12 ('ecnet')",
   "language": "python",
   "name": "python3"
  },
  "language_info": {
   "codemirror_mode": {
    "name": "ipython",
    "version": 3
   },
   "file_extension": ".py",
   "mimetype": "text/x-python",
   "name": "python",
   "nbconvert_exporter": "python",
   "pygments_lexer": "ipython3",
   "version": "3.8.12"
  },
  "orig_nbformat": 4
 },
 "nbformat": 4,
 "nbformat_minor": 2
}
