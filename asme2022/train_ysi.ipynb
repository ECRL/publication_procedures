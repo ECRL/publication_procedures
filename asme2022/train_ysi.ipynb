{
 "cells": [
  {
   "cell_type": "code",
   "execution_count": 1,
   "metadata": {},
   "outputs": [],
   "source": [
    "from csv import DictReader\n",
    "\n",
    "with open('_data/properties_master.csv', 'r') as csv_file:\n",
    "    reader = DictReader(csv_file)\n",
    "    rows = [r for r in reader]\n",
    "csv_file.close()"
   ]
  },
  {
   "cell_type": "code",
   "execution_count": 2,
   "metadata": {},
   "outputs": [
    {
     "name": "stdout",
     "output_type": "stream",
     "text": [
      "145\n"
     ]
    }
   ],
   "source": [
    "properties_to_use = [\n",
    "    'properties.cetane_number.value',\n",
    "    'properties.ysi_unified.value'\n",
    "]\n",
    "\n",
    "samples = []\n",
    "for row in rows:\n",
    "    use = True\n",
    "    for prop in properties_to_use:\n",
    "        if row[prop] == '-':\n",
    "            use = False\n",
    "            break\n",
    "    if use:\n",
    "        if float(row['properties.cetane_number.value']) > 100:\n",
    "            continue\n",
    "        samples.append(row)\n",
    "\n",
    "print(len(samples))"
   ]
  },
  {
   "cell_type": "code",
   "execution_count": 3,
   "metadata": {},
   "outputs": [
    {
     "name": "stdout",
     "output_type": "stream",
     "text": [
      "(145, 1)\n"
     ]
    }
   ],
   "source": [
    "import numpy as np\n",
    "from sklearn.preprocessing import RobustScaler\n",
    "\n",
    "data_ysi = np.array([float(s['properties.ysi_unified.value']) for s in samples]).reshape(-1, 1)\n",
    "\n",
    "scaler_ysi = RobustScaler()\n",
    "scaler_ysi.fit(data_ysi)\n",
    "data_ysi = scaler_ysi.transform(data_ysi)\n",
    "\n",
    "print(data_ysi.shape)"
   ]
  },
  {
   "cell_type": "code",
   "execution_count": 4,
   "metadata": {},
   "outputs": [],
   "source": [
    "from sklearn.model_selection import train_test_split\n",
    "from ecnet.datasets import QSPRDataset\n",
    "\n",
    "smiles = [s['canonical_smiles'] for s in samples]\n",
    "smiles_train, smiles_test, targets_train, targets_test = train_test_split(smiles, data_ysi, test_size=0.25, random_state=24)\n",
    "\n",
    "ds_train = QSPRDataset(smiles_train, targets_train, backend='alvadesc')\n",
    "ds_test = QSPRDataset(smiles_test, targets_test, backend='alvadesc')"
   ]
  },
  {
   "cell_type": "code",
   "execution_count": 5,
   "metadata": {},
   "outputs": [],
   "source": [
    "from sklearn.decomposition import PCA\n",
    "import torch\n",
    "\n",
    "pca = PCA()\n",
    "pca.fit(ds_train.desc_vals.detach().numpy())\n",
    "\n",
    "ds_train.desc_vals = torch.tensor(pca.transform(ds_train.desc_vals.detach().numpy())).type(torch.float32)\n",
    "ds_train.target_vals = ds_train.target_vals.type(torch.float32)\n",
    "\n",
    "ds_test.desc_vals = torch.tensor(pca.transform(ds_test.desc_vals.detach().numpy())).type(torch.float32)\n",
    "ds_test.target_vals = ds_test.target_vals.type(torch.float32)"
   ]
  },
  {
   "cell_type": "code",
   "execution_count": 6,
   "metadata": {},
   "outputs": [],
   "source": [
    "from ecnet import ECNet\n",
    "from sklearn.metrics import median_absolute_error, r2_score\n",
    "\n",
    "train_maes = []\n",
    "train_r2s = []\n",
    "test_maes = []\n",
    "test_r2s = []\n",
    "\n",
    "exp_train = [t[0] for t in targets_train]\n",
    "exp_test = [t[0] for t in targets_test]\n",
    "\n",
    "for _ in range(25):\n",
    "\n",
    "    _model = ECNet(ds_train.desc_vals.shape[1], ds_train.target_vals.shape[1], 512, 3)\n",
    "    _, _ = _model.fit(dataset=ds_train, epochs=512, valid_size=0.25, shuffle=True, patience=16, verbose=0, lr=0.001)\n",
    "\n",
    "    _pred_train = _model(ds_train.desc_vals).detach().numpy()\n",
    "    _pred_test = _model(ds_test.desc_vals).detach().numpy()\n",
    "\n",
    "    train_maes.append(median_absolute_error(exp_train, _pred_train))\n",
    "    train_r2s.append(r2_score(exp_train, _pred_train))\n",
    "    test_maes.append(median_absolute_error(exp_test, _pred_test))\n",
    "    test_r2s.append(r2_score(exp_test, _pred_test))"
   ]
  },
  {
   "cell_type": "code",
   "execution_count": 7,
   "metadata": {},
   "outputs": [
    {
     "name": "stdout",
     "output_type": "stream",
     "text": [
      "Training Set MAE: 0.05844796308211678 +/- 0.046417023116422346\n",
      "Training Set R2: 0.9887461961219138 +/- 0.018564115434261303\n",
      "Test Set MAE: 0.0861392372952749 +/- 0.03902857737461946\n",
      "Test Set R2: 0.921109555364297 +/- 0.023060104593689314\n"
     ]
    }
   ],
   "source": [
    "import numpy as np\n",
    "\n",
    "print(f'Training Set MAE: {np.mean(train_maes)} +/- {np.std(train_maes)}')\n",
    "print(f'Training Set R2: {np.mean(train_r2s)} +/- {np.std(train_r2s)}')\n",
    "print(f'Test Set MAE: {np.mean(test_maes)} +/- {np.std(test_maes)}')\n",
    "print(f'Test Set R2: {np.mean(test_r2s)} +/- {np.std(test_r2s)}')"
   ]
  },
  {
   "cell_type": "code",
   "execution_count": 8,
   "metadata": {},
   "outputs": [
    {
     "data": {
      "image/png": "[encoded data removed]",
      "text/plain": [
       "<Figure size 432x288 with 1 Axes>"
      ]
     },
     "metadata": {
      "needs_background": "light"
     },
     "output_type": "display_data"
    }
   ],
   "source": [
    "from matplotlib import pyplot as plt\n",
    "\n",
    "plt.clf()\n",
    "plt.rcParams['font.family'] = 'Times New Roman'\n",
    "plt.xlabel('Scaled Experimental YSI')\n",
    "plt.ylabel('Scaled Predicted YSI')\n",
    "plt.scatter(exp_train, _pred_train, color='blue', alpha=0.5, label='Training Set')\n",
    "plt.scatter(exp_test, _pred_test, color='red', alpha=0.5, label='Test Set')\n",
    "plt.legend(loc='upper left')\n",
    "plt.show()"
   ]
  },
  {
   "cell_type": "code",
   "execution_count": null,
   "metadata": {},
   "outputs": [],
   "source": []
  }
 ],
 "metadata": {
  "interpreter": {
   "hash": "252b69efb517be662a91ca74889611414461adefdc1b62e7a9ebf1bc6024e96f"
  },
  "kernelspec": {
   "display_name": "Python 3.8.12 ('ecnet')",
   "language": "python",
   "name": "python3"
  },
  "language_info": {
   "codemirror_mode": {
    "name": "ipython",
    "version": 3
   },
   "file_extension": ".py",
   "mimetype": "text/x-python",
   "name": "python",
   "nbconvert_exporter": "python",
   "pygments_lexer": "ipython3",
   "version": "3.8.12"
  },
  "orig_nbformat": 4
 },
 "nbformat": 4,
 "nbformat_minor": 2
}
