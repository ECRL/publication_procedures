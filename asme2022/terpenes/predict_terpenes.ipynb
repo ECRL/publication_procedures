{
 "cells": [
  {
   "cell_type": "code",
   "execution_count": 1,
   "metadata": {},
   "outputs": [],
   "source": [
    "from csv import DictReader\n",
    "\n",
    "with open('terpenes.csv', 'r') as csv_file:\n",
    "    reader = DictReader(csv_file)\n",
    "    rows = [r for r in reader]\n",
    "csv_file.close()\n",
    "\n",
    "exp_ysi = [float(r['Exp. YSI']) for r in rows]\n",
    "smiles = [r['SMILES'] for r in rows]"
   ]
  },
  {
   "cell_type": "code",
   "execution_count": 2,
   "metadata": {},
   "outputs": [],
   "source": [
    "from ecnet.datasets import QSPRDataset, load_ysi, load_cn, load_lhv\n",
    "\n",
    "terpenes = QSPRDataset(smiles, exp_ysi, backend='alvadesc')\n",
    "\n",
    "_ysi_smiles, _ysi = load_ysi()\n",
    "ysi_smiles, ysi = [], []\n",
    "for i in range(len(_ysi_smiles)):\n",
    "    if _ysi[i][0] < 300:\n",
    "        ysi_smiles.append(_ysi_smiles[i])\n",
    "        ysi.append(_ysi[i])\n",
    "cn_smiles, cn = load_cn()\n",
    "lhv_smiles, lhv = load_lhv()"
   ]
  },
  {
   "cell_type": "code",
   "execution_count": 3,
   "metadata": {},
   "outputs": [],
   "source": [
    "from sklearn.model_selection import train_test_split\n",
    "\n",
    "ysi_smiles_train, _, ysi_train, _ = train_test_split(ysi_smiles, ysi, test_size=0.2, random_state=24)\n",
    "cn_smiles_train, _, cn_train, _ = train_test_split(cn_smiles, cn, test_size=0.2, random_state=24)\n",
    "lhv_smiles_train, _, lhv_train, _ = train_test_split(lhv_smiles, lhv, test_size=0.2, random_state=24)\n",
    "ds_ysi = QSPRDataset(ysi_smiles_train, ysi_train, backend='alvadesc')\n",
    "ds_cn = QSPRDataset(cn_smiles_train, cn_train, backend='alvadesc')\n",
    "ds_lhv = QSPRDataset(lhv_smiles_train, lhv_train, backend='alvadesc')"
   ]
  },
  {
   "cell_type": "code",
   "execution_count": 4,
   "metadata": {},
   "outputs": [],
   "source": [
    "from sklearn.decomposition import PCA\n",
    "import torch\n",
    "\n",
    "pca_ysi = PCA(n_components=len(ds_ysi))\n",
    "pca_ysi.fit(ds_ysi.desc_vals.detach().numpy())\n",
    "terpenes_ysi = torch.tensor(pca_ysi.transform(terpenes.desc_vals.detach().numpy())).type(torch.float32)\n",
    "\n",
    "pca_cn = PCA(n_components=len(ds_cn))\n",
    "pca_cn.fit(ds_cn.desc_vals.detach().numpy())\n",
    "terpenes_cn = torch.tensor(pca_cn.transform(terpenes.desc_vals.detach().numpy())).type(torch.float32)\n",
    "\n",
    "pca_lhv = PCA(n_components=len(ds_lhv))\n",
    "pca_lhv.fit(ds_lhv.desc_vals.detach().numpy())\n",
    "terpenes_lhv = torch.tensor(pca_lhv.transform(terpenes.desc_vals.detach().numpy())).type(torch.float32)"
   ]
  },
  {
   "cell_type": "code",
   "execution_count": 5,
   "metadata": {},
   "outputs": [],
   "source": [
    "from ecnet.model import load_model\n",
    "import numpy as np\n",
    "\n",
    "preds_ysi = []\n",
    "preds_cn = []\n",
    "preds_lhv = []\n",
    "for i in range(10):\n",
    "    model_ysi = load_model('models/ysi_{}.pt'.format(i))\n",
    "    model_cn = load_model('models/cn_{}.pt'.format(i))\n",
    "    model_lhv = load_model('models/lhv_{}.pt'.format(i))\n",
    "    preds_ysi.append(model_ysi(terpenes_ysi).detach().numpy())\n",
    "    preds_cn.append(model_cn(terpenes_cn).detach().numpy())\n",
    "    preds_lhv.append(model_lhv(terpenes_lhv).detach().numpy())\n",
    "preds_ysi = np.array(preds_ysi)\n",
    "preds_cn = np.array(preds_cn)\n",
    "preds_lhv = np.array(preds_lhv)\n",
    "\n",
    "pred_ysi = np.mean(preds_ysi, axis=0)\n",
    "pred_cn = np.mean(preds_cn, axis=0)\n",
    "pred_lhv = np.mean(preds_lhv, axis=0)\n",
    "\n",
    "std_ysi = np.std(preds_ysi, axis=0)\n",
    "std_cn = np.std(preds_cn, axis=0)\n",
    "std_lhv = np.std(preds_lhv, axis=0)"
   ]
  },
  {
   "cell_type": "code",
   "execution_count": 9,
   "metadata": {},
   "outputs": [],
   "source": [
    "from csv import DictWriter\n",
    "\n",
    "for i, row in enumerate(rows):\n",
    "    row['Pred. YSI'] = pred_ysi[i][0]\n",
    "    row['Stdev. YSI'] = std_ysi[i][0]\n",
    "    row['Pred. CN'] = pred_cn[i][0]\n",
    "    row['Stdev. CN'] = std_cn[i][0]\n",
    "    row['Pred. LHV'] = pred_lhv[i][0]\n",
    "    row['Stdev. LHV'] = std_lhv[i][0]\n",
    "\n",
    "headers = rows[0].keys()\n",
    "\n",
    "with open('terpene_predictions.csv', 'w', encoding='utf8') as csv_file:\n",
    "    writer = DictWriter(csv_file, headers, delimiter=',', lineterminator='\\n')\n",
    "    writer.writeheader()\n",
    "    writer.writerows(rows)\n",
    "csv_file.close()"
   ]
  },
  {
   "cell_type": "code",
   "execution_count": 10,
   "metadata": {},
   "outputs": [
    {
     "name": "stdout",
     "output_type": "stream",
     "text": [
      "23.248340606689453\n",
      "0.3123192592685614\n"
     ]
    }
   ],
   "source": [
    "from sklearn.metrics import median_absolute_error, r2_score\n",
    "\n",
    "print(median_absolute_error(exp_ysi, pred_ysi))\n",
    "print(r2_score(exp_ysi, pred_ysi))"
   ]
  },
  {
   "cell_type": "code",
   "execution_count": 11,
   "metadata": {},
   "outputs": [
    {
     "data": {
      "image/png": "[encoded data removed]",
      "text/plain": [
       "<Figure size 432x288 with 1 Axes>"
      ]
     },
     "metadata": {
      "needs_background": "light"
     },
     "output_type": "display_data"
    }
   ],
   "source": [
    "from matplotlib import pyplot as plt\n",
    "\n",
    "plt.clf()\n",
    "plt.rcParams['font.family'] = 'Times New Roman'\n",
    "plt.xlabel('Experimental YSI')\n",
    "plt.ylabel('Predicted YSI')\n",
    "plt.plot([0, 250], [0, 250], 'k--', alpha=0.5)\n",
    "plt.scatter(exp_ysi, pred_ysi, alpha=0.5, color=(0, 114/235, 178/235))\n",
    "plt.show()"
   ]
  },
  {
   "cell_type": "code",
   "execution_count": null,
   "metadata": {},
   "outputs": [],
   "source": []
  }
 ],
 "metadata": {
  "interpreter": {
   "hash": "252b69efb517be662a91ca74889611414461adefdc1b62e7a9ebf1bc6024e96f"
  },
  "kernelspec": {
   "display_name": "Python 3.8.12 ('ecnet')",
   "language": "python",
   "name": "python3"
  },
  "language_info": {
   "codemirror_mode": {
    "name": "ipython",
    "version": 3
   },
   "file_extension": ".py",
   "mimetype": "text/x-python",
   "name": "python",
   "nbconvert_exporter": "python",
   "pygments_lexer": "ipython3",
   "version": "3.8.12"
  },
  "orig_nbformat": 4
 },
 "nbformat": 4,
 "nbformat_minor": 2
}
