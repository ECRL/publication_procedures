{
 "cells": [
  {
   "cell_type": "code",
   "execution_count": 1,
   "metadata": {},
   "outputs": [
    {
     "name": "stdout",
     "output_type": "stream",
     "text": [
      "278\n"
     ]
    }
   ],
   "source": [
    "from csv import DictReader\n",
    "\n",
    "with open('octane_database.csv', 'r') as csv_file:\n",
    "    reader = DictReader(csv_file)\n",
    "    compounds = [r for r in reader]\n",
    "csv_file.close()\n",
    "print(len(compounds))"
   ]
  },
  {
   "cell_type": "code",
   "execution_count": 2,
   "metadata": {},
   "outputs": [],
   "source": [
    "smiles = [c['canonical_smiles'] for c in compounds]\n",
    "mon = [[float(c['properties.motor_octane_number.value'])] for c in compounds]\n",
    "ron = [[float(c['properties.research_octane_number.value'])] for c in compounds]\n",
    "os = [[ron[i][0] - mon[i][0]] for i in range(len(compounds))]"
   ]
  },
  {
   "cell_type": "code",
   "execution_count": 3,
   "metadata": {},
   "outputs": [],
   "source": [
    "from sklearn.model_selection import train_test_split\n",
    "\n",
    "mon_smiles_train, mon_smiles_test, mon_train, mon_test = train_test_split(smiles, mon, test_size=0.1, random_state=42)\n",
    "ron_smiles_train, ron_smiles_test, ron_train, ron_test = train_test_split(smiles, ron, test_size=0.1, random_state=42)\n",
    "os_smiles_train, os_smiles_test, os_train, os_test = train_test_split(smiles, os, test_size=0.1, random_state=42)"
   ]
  },
  {
   "cell_type": "code",
   "execution_count": 4,
   "metadata": {},
   "outputs": [],
   "source": [
    "from ecnet.datasets import QSPRDataset\n",
    "\n",
    "dataset_mon_train = QSPRDataset(mon_smiles_train, mon_train, backend='alvadesc')\n",
    "dataset_mon_test = QSPRDataset(mon_smiles_test, mon_test, backend='alvadesc')\n",
    "dataset_ron_train = QSPRDataset(ron_smiles_train, ron_train, backend='alvadesc')\n",
    "dataset_ron_test = QSPRDataset(ron_smiles_test, ron_test, backend='alvadesc')\n",
    "dataset_os_train = QSPRDataset(os_smiles_train, os_train, backend='alvadesc')\n",
    "dataset_os_test = QSPRDataset(os_smiles_test, os_test, backend='alvadesc')"
   ]
  },
  {
   "cell_type": "code",
   "execution_count": 5,
   "metadata": {},
   "outputs": [],
   "source": [
    "from ecnet.tasks import select_rfr\n",
    "\n",
    "desc_idx_mon, _ = select_rfr(dataset_mon_train, total_importance=0.9999, n_estimators=50, n_jobs=4)\n",
    "desc_idx_mon = desc_idx_mon[:250]\n",
    "\n",
    "desc_idx_ron, _ = select_rfr(dataset_ron_train, total_importance=0.9999, n_estimators=50, n_jobs=4)\n",
    "desc_idx_ron = desc_idx_ron[:250]\n",
    "\n",
    "desc_idx_os, _ = select_rfr(dataset_os_train, total_importance=0.9999, n_estimators=50, n_jobs=4)\n",
    "desc_idx_os = desc_idx_os[:250]"
   ]
  },
  {
   "cell_type": "code",
   "execution_count": 6,
   "metadata": {},
   "outputs": [],
   "source": [
    "dataset_mon_train.set_desc_index(desc_idx_mon)\n",
    "dataset_mon_test.set_desc_index(desc_idx_mon)\n",
    "dataset_ron_train.set_desc_index(desc_idx_ron)\n",
    "dataset_ron_test.set_desc_index(desc_idx_ron)\n",
    "dataset_os_train.set_desc_index(desc_idx_os)\n",
    "dataset_os_test.set_desc_index(desc_idx_os)"
   ]
  },
  {
   "cell_type": "code",
   "execution_count": 7,
   "metadata": {},
   "outputs": [
    {
     "name": "stdout",
     "output_type": "stream",
     "text": [
      "Iteration: 0 | Time: 0.0002639293670654297\n",
      "Iteration: 1 | Time: 7.011382102966309\n",
      "Iteration: 2 | Time: 14.143234014511108\n",
      "Iteration: 3 | Time: 19.59156894683838\n",
      "Iteration: 4 | Time: 26.27914595603943\n",
      "Iteration: 5 | Time: 31.936102867126465\n",
      "Iteration: 6 | Time: 37.00403881072998\n",
      "Iteration: 7 | Time: 42.47413086891174\n",
      "Iteration: 8 | Time: 47.13743591308594\n",
      "Iteration: 9 | Time: 53.642719984054565\n",
      "Iteration: 10 | Time: 59.93923473358154\n",
      "Iteration: 11 | Time: 65.8919837474823\n",
      "Iteration: 12 | Time: 70.65690088272095\n",
      "Iteration: 13 | Time: 77.23742270469666\n",
      "Iteration: 14 | Time: 81.90433096885681\n",
      "Iteration: 15 | Time: 87.9525408744812\n",
      "Iteration: 16 | Time: 93.50290584564209\n",
      "Iteration: 17 | Time: 97.93544292449951\n",
      "Iteration: 18 | Time: 104.24599981307983\n",
      "Iteration: 19 | Time: 110.32122898101807\n",
      "Iteration: 20 | Time: 114.83009791374207\n",
      "Iteration: 21 | Time: 118.68637895584106\n",
      "Iteration: 22 | Time: 124.6756579875946\n",
      "Iteration: 23 | Time: 131.24021196365356\n",
      "Iteration: 24 | Time: 136.8892159461975\n"
     ]
    }
   ],
   "source": [
    "from ecnet import ECNet\n",
    "from sklearn.metrics import mean_squared_error, r2_score\n",
    "from time import time\n",
    "\n",
    "mon_test_rmses = []\n",
    "mon_test_r2s = []\n",
    "ron_test_rmses = []\n",
    "ron_test_r2s = []\n",
    "os_test_rmses = []\n",
    "os_test_r2s = []\n",
    "dos_test_rmses = []\n",
    "dos_test_r2s = []\n",
    "\n",
    "t_start = time()\n",
    "\n",
    "for i in range(25):\n",
    "\n",
    "    print(f'Iteration: {i} | Time: {time() - t_start}')\n",
    "\n",
    "    model_mon = ECNet(dataset_mon_train.desc_vals.shape[1], dataset_mon_train.target_vals.shape[1], 128, 2)\n",
    "    model_ron = ECNet(dataset_ron_train.desc_vals.shape[1], dataset_ron_train.target_vals.shape[1], 128, 2)\n",
    "    model_os = ECNet(dataset_os_train.desc_vals.shape[1], dataset_os_train.target_vals.shape[1], 128, 2)\n",
    "\n",
    "    _, _ = model_mon.fit(\n",
    "        dataset=dataset_mon_train, valid_size=0.112, verbose=0,\n",
    "        patience=32, epochs=512, random_state=24, lr=0.001\n",
    "    )\n",
    "\n",
    "    _, _ = model_ron.fit(\n",
    "        dataset=dataset_ron_train, valid_size=0.112, verbose=0,\n",
    "        patience=32, epochs=512, random_state=24, lr=0.001\n",
    "    )\n",
    "\n",
    "    _, _, model_os.fit(\n",
    "        dataset=dataset_os_train, valid_size=0.112, verbose=0,\n",
    "        patience=32, epochs=512, random_state=24, lr=0.001\n",
    "    )\n",
    "\n",
    "    mon_test_exp = [t[0] for t in dataset_mon_test.target_vals]\n",
    "    mon_test_pred = model_mon(dataset_mon_test.desc_vals).detach().numpy()\n",
    "    mon_test_pred = [t[0] for t in mon_test_pred]\n",
    "\n",
    "    ron_test_exp = [t[0] for t in dataset_ron_test.target_vals]\n",
    "    ron_test_pred = model_ron(dataset_ron_test.desc_vals).detach().numpy()\n",
    "    ron_test_pred = [t[0] for t in ron_test_pred]\n",
    "\n",
    "    os_test_exp = [t[0] for t in dataset_os_test.target_vals]\n",
    "    os_test_pred = model_os(dataset_os_test.desc_vals).detach().numpy()\n",
    "    os_test_pred = [t[0] for t in os_test_pred]\n",
    "\n",
    "    dos_test_exp = [ron_test_exp[i] - mon_test_pred[i] for i in range(len(ron_test_exp))]\n",
    "    dos_test_pred = [ron_test_pred[i] - mon_test_pred[i] for i in range(len(ron_test_pred))]\n",
    "\n",
    "    mon_test_rmses.append(mean_squared_error(mon_test_exp, mon_test_pred, squared=False))\n",
    "    mon_test_r2s.append(r2_score(mon_test_exp, mon_test_pred))\n",
    "\n",
    "    ron_test_rmses.append(mean_squared_error(ron_test_exp, ron_test_pred, squared=False))\n",
    "    ron_test_r2s.append(r2_score(ron_test_exp, ron_test_pred))\n",
    "\n",
    "    os_test_rmses.append(mean_squared_error(os_test_exp, os_test_pred, squared=False))\n",
    "    os_test_r2s.append(r2_score(os_test_exp, os_test_pred))\n",
    "\n",
    "    dos_test_rmses.append(mean_squared_error(dos_test_exp, dos_test_pred, squared=False))\n",
    "    dos_test_r2s.append(r2_score(dos_test_exp, dos_test_pred))"
   ]
  },
  {
   "cell_type": "code",
   "execution_count": 8,
   "metadata": {},
   "outputs": [
    {
     "name": "stdout",
     "output_type": "stream",
     "text": [
      "MON:\n",
      "RMSE: 6.911223888397217 +/- 1.2432805299758911\n",
      "R2: 0.8055938139779407 +/- 0.07165915810777586\n",
      "\n",
      "RON:\n",
      "RMSE: 8.130664825439453 +/- 1.8213090896606445\n",
      "R2: 0.8312868293565578 +/- 0.07992622927006438\n",
      "\n",
      "OS:\n",
      "RMSE: 6.093848705291748 +/- 0.2827390730381012\n",
      "R2: 0.4601772817700496 +/- 0.05054157511958681\n",
      "\n",
      "dOS:\n",
      "RMSE: 8.130664825439453 +/- 1.8213090896606445\n",
      "R2: 0.3815052151537766 +/- 0.3360589998486104\n",
      "\n"
     ]
    }
   ],
   "source": [
    "import numpy as np\n",
    "\n",
    "print('MON:')\n",
    "print(f'RMSE: {np.mean(mon_test_rmses)} +/- {np.std(mon_test_rmses)}')\n",
    "print(f'R2: {np.mean(mon_test_r2s)} +/- {np.std(mon_test_r2s)}')\n",
    "print()\n",
    "\n",
    "print('RON:')\n",
    "print(f'RMSE: {np.mean(ron_test_rmses)} +/- {np.std(ron_test_rmses)}')\n",
    "print(f'R2: {np.mean(ron_test_r2s)} +/- {np.std(ron_test_r2s)}')\n",
    "print()\n",
    "\n",
    "print('OS:')\n",
    "print(f'RMSE: {np.mean(os_test_rmses)} +/- {np.std(os_test_rmses)}')\n",
    "print(f'R2: {np.mean(os_test_r2s)} +/- {np.std(os_test_r2s)}')\n",
    "print()\n",
    "\n",
    "print('dOS:')\n",
    "print(f'RMSE: {np.mean(dos_test_rmses)} +/- {np.std(dos_test_rmses)}')\n",
    "print(f'R2: {np.mean(dos_test_r2s)} +/- {np.std(dos_test_r2s)}')\n",
    "print()"
   ]
  },
  {
   "cell_type": "code",
   "execution_count": null,
   "metadata": {},
   "outputs": [],
   "source": []
  }
 ],
 "metadata": {
  "interpreter": {
   "hash": "ead3c86577feeba8b116590dddffe48caf8bde476dc8c2f01d399f7c56fe3aec"
  },
  "kernelspec": {
   "display_name": "Python 3.8.8 64-bit ('ecnet_pytorch': conda)",
   "language": "python",
   "name": "python3"
  },
  "language_info": {
   "codemirror_mode": {
    "name": "ipython",
    "version": 3
   },
   "file_extension": ".py",
   "mimetype": "text/x-python",
   "name": "python",
   "nbconvert_exporter": "python",
   "pygments_lexer": "ipython3",
   "version": "3.8.8"
  },
  "orig_nbformat": 4
 },
 "nbformat": 4,
 "nbformat_minor": 2
}
