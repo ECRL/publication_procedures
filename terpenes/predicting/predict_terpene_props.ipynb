{
 "cells": [
  {
   "cell_type": "code",
   "execution_count": 1,
   "metadata": {},
   "outputs": [
    {
     "name": "stdout",
     "output_type": "stream",
     "text": [
      "64\n"
     ]
    }
   ],
   "source": [
    "from csv import DictReader\n",
    "from ecnet.datasets import QSPRDataset\n",
    "\n",
    "with open(\"terpenes.csv\", \"r\") as csv_file:\n",
    "    reader = DictReader(csv_file)\n",
    "    terpenes = [r for r in reader]\n",
    "csv_file.close()\n",
    "\n",
    "smiles = [t[\"\\ufeffSMILES\"] for t in terpenes]\n",
    "print(len(smiles))\n",
    "\n",
    "dataset = QSPRDataset(smiles, [0 for _ in range(len(smiles))], backend=\"alvadesc\")"
   ]
  },
  {
   "cell_type": "code",
   "execution_count": 2,
   "metadata": {},
   "outputs": [],
   "source": [
    "from copy import deepcopy\n",
    "from ecnet.model import load_model\n",
    "import numpy\n",
    "import os\n",
    "import pickle\n",
    "import torch\n",
    "from typing import Tuple\n",
    "\n",
    "FP_MODEL_PATH = \"../training/models/fp/\"\n",
    "KV_MODEL_PATH = \"../training/models/kv/\"\n",
    "LHV_MODEL_PATH = \"../training/models/lhv/\"\n",
    "MON_MODEL_PATH = \"../training/models/mon/\"\n",
    "RON_MODEL_PATH = \"../training/models/ron/\"\n",
    "YSI_MODEL_PATH = \"../training/models/ysi/\"\n",
    "OS_MODEL_PATH = \"../training/models/os/\"\n",
    "\n",
    "def predict_for(model_folder: str) -> Tuple[numpy.ndarray]:\n",
    "\n",
    "    models = [load_model(f\"{model_folder}{f}\") for f in os.listdir(model_folder) if \"pca\" not in f]\n",
    "    with open(f\"{model_folder}/trf.pca\", \"rb\") as f:\n",
    "        pca = pickle.load(f)\n",
    "\n",
    "    ds = deepcopy(dataset)\n",
    "    ds.desc_vals = torch.as_tensor(pca.transform(ds.desc_vals.detach().numpy()))\n",
    "    preds = [m(ds.desc_vals).detach().numpy() for m in models]\n",
    "    return (numpy.mean(preds, axis=0), numpy.std(preds, axis=0))"
   ]
  },
  {
   "cell_type": "code",
   "execution_count": 3,
   "metadata": {},
   "outputs": [],
   "source": [
    "preds_fp, std_fp = predict_for(FP_MODEL_PATH)\n",
    "preds_kv, std_kv = predict_for(KV_MODEL_PATH)\n",
    "preds_lhv, std_lhv = predict_for(LHV_MODEL_PATH)\n",
    "preds_mon, std_mon = predict_for(MON_MODEL_PATH)\n",
    "preds_ron, std_ron = predict_for(RON_MODEL_PATH)\n",
    "preds_ysi, std_ysi = predict_for(YSI_MODEL_PATH)\n",
    "preds_os, std_os = predict_for(OS_MODEL_PATH)"
   ]
  },
  {
   "cell_type": "code",
   "execution_count": 4,
   "metadata": {},
   "outputs": [],
   "source": [
    "# calculate dOS (RON/MON prediction-derived OS)\n",
    "\n",
    "preds_dos = [preds_ron[i][0] - preds_mon[i][0] for i in range(len(preds_ron))]"
   ]
  },
  {
   "cell_type": "code",
   "execution_count": 5,
   "metadata": {},
   "outputs": [],
   "source": [
    "from csv import DictWriter\n",
    "\n",
    "rows = [{\n",
    "    \"SMILES\": smiles[i][0],\n",
    "    \"FP\": preds_fp[i][0],\n",
    "    \"FP std\": std_fp[i][0],\n",
    "    \"KV\": preds_kv[i][0],\n",
    "    \"KV std\": std_kv[i][0],\n",
    "    \"LHV\": preds_lhv[i][0],\n",
    "    \"LHV std\": std_lhv[i][0],\n",
    "    \"MON\": preds_mon[i][0],\n",
    "    \"MON std\": std_mon[i][0],\n",
    "    \"RON\": preds_ron[i][0],\n",
    "    \"RON std\": std_ron[i][0],\n",
    "    \"YSI\": preds_ysi[i][0],\n",
    "    \"YSI std\": std_ysi[i][0],\n",
    "    \"OS\": preds_os[i][0],\n",
    "    \"OS std\": std_os[i][0],\n",
    "    \"dOS\": preds_dos[i]\n",
    "} for i in range(len(smiles))]\n",
    "\n",
    "with open(\"terpene_predictions.csv\", \"w\", encoding=\"utf-8\") as csv_file:\n",
    "    writer = DictWriter(csv_file, list(rows[0].keys()), delimiter=\",\", lineterminator=\"\\n\")\n",
    "    writer.writeheader()\n",
    "    writer.writerows(rows)\n",
    "csv_file.close()"
   ]
  }
 ],
 "metadata": {
  "kernelspec": {
   "display_name": "ecnet",
   "language": "python",
   "name": "python3"
  },
  "language_info": {
   "codemirror_mode": {
    "name": "ipython",
    "version": 3
   },
   "file_extension": ".py",
   "mimetype": "text/x-python",
   "name": "python",
   "nbconvert_exporter": "python",
   "pygments_lexer": "ipython3",
   "version": "3.11.4"
  }
 },
 "nbformat": 4,
 "nbformat_minor": 2
}
