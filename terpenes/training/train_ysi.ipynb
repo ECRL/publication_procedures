{
 "cells": [
  {
   "cell_type": "code",
   "execution_count": 1,
   "metadata": {},
   "outputs": [
    {
     "name": "stdout",
     "output_type": "stream",
     "text": [
      "545\n"
     ]
    }
   ],
   "source": [
    "from csv import DictReader\n",
    "\n",
    "PROPERTY = \"properties.ysi_unified.value\"\n",
    "PROP_SHORTHAND = \"ysi\"\n",
    "\n",
    "with open(\"data/combustdb_master.csv\", \"r\") as csv_file:\n",
    "    reader = DictReader(csv_file)\n",
    "    rows = [r for r in reader]\n",
    "csv_file.close()\n",
    "\n",
    "compounds = [r for r in rows if r[PROPERTY] != \"-\"]\n",
    "print(len(compounds))"
   ]
  },
  {
   "cell_type": "code",
   "execution_count": 2,
   "metadata": {},
   "outputs": [
    {
     "name": "stdout",
     "output_type": "stream",
     "text": [
      "436 436\n",
      "109 109\n"
     ]
    }
   ],
   "source": [
    "from sklearn.model_selection import train_test_split\n",
    "\n",
    "smiles = [c[\"canonical_smiles\"] for c in compounds]\n",
    "prop = [[float(c[PROPERTY])] for c in compounds]\n",
    "\n",
    "smiles_train, smiles_test, prop_train, prop_test = train_test_split(smiles, prop, test_size=0.2, random_state=42)\n",
    "\n",
    "print(len(smiles_train), len(prop_train))\n",
    "print(len(smiles_test), len(prop_test))"
   ]
  },
  {
   "cell_type": "code",
   "execution_count": 3,
   "metadata": {},
   "outputs": [
    {
     "name": "stdout",
     "output_type": "stream",
     "text": [
      "Pre-PCA data dim:\n",
      "torch.Size([436, 5305]) torch.Size([109, 5305])\n",
      "Post-PCA data dim:\n",
      "torch.Size([436, 436]) torch.Size([109, 436])\n",
      "Target dim:\n",
      "torch.Size([436, 1]) torch.Size([109, 1])\n"
     ]
    }
   ],
   "source": [
    "from ecnet.datasets import QSPRDataset\n",
    "from sklearn.decomposition import PCA\n",
    "import pickle\n",
    "import torch\n",
    "\n",
    "ds_train = QSPRDataset(smiles_train, prop_train, backend=\"alvadesc\")\n",
    "ds_test = QSPRDataset(smiles_test, prop_test, backend=\"alvadesc\")\n",
    "ds_train.target_vals.type(torch.float32)\n",
    "ds_test.target_vals.type(torch.float32)\n",
    "\n",
    "print(\"Pre-PCA data dim:\")\n",
    "print(ds_train.desc_vals.shape, ds_test.desc_vals.shape)\n",
    "\n",
    "pca = PCA(n_components=len(ds_train))\n",
    "pca.fit(ds_train.desc_vals.detach().numpy())\n",
    "ds_train.desc_vals = torch.tensor(pca.transform(ds_train.desc_vals.detach().numpy())).type(torch.float32)\n",
    "ds_test.desc_vals = torch.tensor(pca.transform(ds_test.desc_vals.detach().numpy())).type(torch.float32)\n",
    "\n",
    "with open(f\"models/{PROP_SHORTHAND}/trf.pca\", \"wb\") as f:\n",
    "    pickle.dump(pca, f)\n",
    "\n",
    "print(\"Post-PCA data dim:\")\n",
    "print(ds_train.desc_vals.shape, ds_test.desc_vals.shape)\n",
    "\n",
    "print(\"Target dim:\")\n",
    "print(ds_train.target_vals.shape, ds_test.target_vals.shape)"
   ]
  },
  {
   "cell_type": "code",
   "execution_count": 4,
   "metadata": {},
   "outputs": [
    {
     "name": "stdout",
     "output_type": "stream",
     "text": [
      "Model: 0\n",
      "Model: 1\n",
      "Model: 2\n",
      "Model: 3\n",
      "Model: 4\n",
      "Model: 5\n",
      "Model: 6\n",
      "Model: 7\n",
      "Model: 8\n",
      "Model: 9\n"
     ]
    }
   ],
   "source": [
    "from ecnet import ECNet\n",
    "from sklearn.metrics import median_absolute_error, r2_score\n",
    "\n",
    "maes_train, maes_test = [], []\n",
    "r2s_train, r2s_test = [], []\n",
    "\n",
    "for i in range(10):\n",
    "    print(f\"Model: {i}\")\n",
    "    _model = ECNet(ds_train.desc_vals.shape[1], ds_train.target_vals.shape[1], 512, 2)\n",
    "    _model.fit(dataset=ds_train, valid_size=0.33, shuffle=True, patience=16, epochs=512, lr=0.001)\n",
    "    pred_train = _model(ds_train.desc_vals).detach().numpy()\n",
    "    pred_test = _model(ds_test.desc_vals).detach().numpy()\n",
    "    maes_train.append(median_absolute_error(prop_train, pred_train))\n",
    "    maes_test.append(median_absolute_error(prop_test, pred_test))\n",
    "    r2s_train.append(r2_score(prop_train, pred_train))\n",
    "    r2s_test.append(r2_score(prop_test, pred_test))\n",
    "    _model.save(f\"models/{PROP_SHORTHAND}/{PROP_SHORTHAND}_{i}.pt\")"
   ]
  },
  {
   "cell_type": "code",
   "execution_count": 5,
   "metadata": {},
   "outputs": [
    {
     "name": "stdout",
     "output_type": "stream",
     "text": [
      "Training MAE: 4.9857 +/- 2.1018\n",
      "Training R2: 0.9917 +/- 0.0081\n",
      "Test MAE: 5.7618 +/- 2.0001\n",
      "Test R2: 0.9745 +/- 0.0061\n"
     ]
    }
   ],
   "source": [
    "import numpy as np\n",
    "\n",
    "print('Training MAE: {:.4f} +/- {:.4f}'.format(np.mean(maes_train), np.std(maes_train)))\n",
    "print('Training R2: {:.4f} +/- {:.4f}'.format(np.mean(r2s_train), np.std(r2s_train)))\n",
    "print('Test MAE: {:.4f} +/- {:.4f}'.format(np.mean(maes_test), np.std(maes_test)))\n",
    "print('Test R2: {:.4f} +/- {:.4f}'.format(np.mean(r2s_test), np.std(r2s_test)))"
   ]
  }
 ],
 "metadata": {
  "kernelspec": {
   "display_name": "ecnet",
   "language": "python",
   "name": "python3"
  },
  "language_info": {
   "codemirror_mode": {
    "name": "ipython",
    "version": 3
   },
   "file_extension": ".py",
   "mimetype": "text/x-python",
   "name": "python",
   "nbconvert_exporter": "python",
   "pygments_lexer": "ipython3",
   "version": "3.11.4"
  }
 },
 "nbformat": 4,
 "nbformat_minor": 2
}
