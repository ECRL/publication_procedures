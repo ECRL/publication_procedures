{
 "cells": [
  {
   "cell_type": "code",
   "execution_count": 1,
   "id": "broke-radar",
   "metadata": {},
   "outputs": [],
   "source": [
    "from ecnet.datasets import load_ysi\n",
    "from ecnet.tasks.feature_selection import select_rfr\n",
    "from ecnet import ECNet\n",
    "from sklearn.model_selection import train_test_split\n",
    "from sklearn.metrics import median_absolute_error, r2_score\n",
    "import torch\n",
    "import numpy as np\n",
    "from matplotlib import pyplot as plt\n",
    "from copy import deepcopy"
   ]
  },
  {
   "cell_type": "code",
   "execution_count": 2,
   "id": "discrete-violence",
   "metadata": {},
   "outputs": [
    {
     "name": "stdout",
     "output_type": "stream",
     "text": [
      "torch.Size([558, 5305]) torch.Size([558, 1])\n"
     ]
    }
   ],
   "source": [
    "dataset = load_ysi(as_dataset=True, backend='alvadesc')\n",
    "print(dataset.desc_vals.shape, dataset.target_vals.shape)"
   ]
  },
  {
   "cell_type": "code",
   "execution_count": 3,
   "id": "cosmetic-bridal",
   "metadata": {},
   "outputs": [
    {
     "name": "stdout",
     "output_type": "stream",
     "text": [
      "torch.Size([446, 5305]) torch.Size([112, 5305])\n"
     ]
    }
   ],
   "source": [
    "index_train, index_test = train_test_split([i for i in range(len(dataset))],\n",
    "                                           test_size=0.2, random_state=42)\n",
    "dataset_train = deepcopy(dataset)\n",
    "dataset_train.set_index(index_train)\n",
    "dataset_test = deepcopy(dataset)\n",
    "dataset_test.set_index(index_test)\n",
    "print(dataset_train.desc_vals.shape, dataset_test.desc_vals.shape)"
   ]
  },
  {
   "cell_type": "code",
   "execution_count": 4,
   "id": "variable-stuart",
   "metadata": {},
   "outputs": [
    {
     "name": "stdout",
     "output_type": "stream",
     "text": [
      "torch.Size([446, 67]) torch.Size([112, 67])\n",
      "['nCar', 'SM6_B(p)', 'piPC04', 'SpMax1_Bh(p)', 'piPC03'] 67\n",
      "[0.11441609031415409, 0.09494630134826014, 0.09252700740369618, 0.07047878458379413, 0.06797662667591116]\n"
     ]
    }
   ],
   "source": [
    "desc_idx, desc_imp = select_rfr(dataset_train, total_importance=0.95,\n",
    "                                n_estimators=100, n_jobs=4)\n",
    "dataset_train.set_desc_index(desc_idx)\n",
    "dataset_test.set_desc_index(desc_idx)\n",
    "desc_names = [dataset.desc_names[i] for i in desc_idx]\n",
    "print(dataset_train.desc_vals.shape, dataset_test.desc_vals.shape)\n",
    "print(desc_names[:5], len(desc_names))\n",
    "print(desc_imp[:5])\n",
    "with open('_models/ysi_desc.txt', 'w') as txt_file:\n",
    "    txt_file.writelines([str(i) + '\\n' for i in desc_idx])\n",
    "txt_file.close()"
   ]
  },
  {
   "cell_type": "code",
   "execution_count": 5,
   "id": "living-richmond",
   "metadata": {},
   "outputs": [
    {
     "data": {
      "image/png": "[encoded data removed]",
      "text/plain": [
       "<Figure size 432x288 with 1 Axes>"
      ]
     },
     "metadata": {
      "needs_background": "light"
     },
     "output_type": "display_data"
    }
   ],
   "source": [
    "plt.clf()\n",
    "x_vals = [i for i in range(len(desc_imp))]\n",
    "y_vals = [0.0]\n",
    "for idx in range(len(desc_imp) - 1):\n",
    "    y_vals.append(sum(desc_imp[:idx + 1]))\n",
    "plt.xlabel('N Top Descriptors')\n",
    "plt.ylabel('Total Importance w.r.t. YSI')\n",
    "plt.plot(x_vals, y_vals, color='blue')\n",
    "plt.show()"
   ]
  },
  {
   "cell_type": "code",
   "execution_count": 6,
   "id": "standing-adult",
   "metadata": {},
   "outputs": [
    {
     "name": "stdout",
     "output_type": "stream",
     "text": [
      "Epoch: 0 | Train loss: 86761.72612359551 | Valid loss: 9223372036854775807\n",
      "Epoch: 10 | Train loss: 8826.985385851913 | Valid loss: 9176.3544921875\n",
      "Epoch: 20 | Train loss: 5242.595527563202 | Valid loss: 5804.34375\n",
      "Epoch: 30 | Train loss: 4445.563224192416 | Valid loss: 4702.64013671875\n",
      "Epoch: 40 | Train loss: 3966.8587715063204 | Valid loss: 4430.63525390625\n",
      "Epoch: 50 | Train loss: 3469.910133104646 | Valid loss: 3723.200439453125\n",
      "Epoch: 60 | Train loss: 3223.8624034410113 | Valid loss: 3508.1494140625\n",
      "Epoch: 70 | Train loss: 3009.9180675035113 | Valid loss: 3268.680908203125\n",
      "Epoch: 80 | Train loss: 2729.7390877370085 | Valid loss: 3145.306884765625\n",
      "Epoch: 90 | Train loss: 2608.765617627776 | Valid loss: 2927.304931640625\n",
      "Epoch: 100 | Train loss: 2374.3238153350485 | Valid loss: 2898.67578125\n",
      "Epoch: 110 | Train loss: 2409.824664212345 | Valid loss: 2809.505126953125\n",
      "Epoch: 120 | Train loss: 2407.424064036166 | Valid loss: 2467.56396484375\n",
      "Epoch: 130 | Train loss: 2065.954353932584 | Valid loss: 2474.21533203125\n",
      "Epoch: 140 | Train loss: 1930.9709445224719 | Valid loss: 2296.7080078125\n",
      "Epoch: 150 | Train loss: 1903.2562763342696 | Valid loss: 2194.05126953125\n",
      "Epoch: 160 | Train loss: 1857.2389944698034 | Valid loss: 2138.7705078125\n",
      "Epoch: 170 | Train loss: 1755.3905564211727 | Valid loss: 2114.5732421875\n",
      "Epoch: 180 | Train loss: 1731.7538620166565 | Valid loss: 1970.6287841796875\n",
      "Epoch: 190 | Train loss: 2126.157989159059 | Valid loss: 2024.8466796875\n",
      "Epoch: 200 | Train loss: 2497.4332256531447 | Valid loss: 2006.9532470703125\n",
      "Epoch: 210 | Train loss: 1515.3644100574966 | Valid loss: 1923.303955078125\n",
      "Epoch: 220 | Train loss: 1546.0350273218048 | Valid loss: 1921.80029296875\n",
      "Epoch: 230 | Train loss: 1480.6021120735768 | Valid loss: 1911.2069091796875\n",
      "Epoch: 240 | Train loss: 2122.7622029165204 | Valid loss: 1949.2901611328125\n",
      "Epoch: 250 | Train loss: 1398.0288247097744 | Valid loss: 1791.5498046875\n",
      "Epoch: 260 | Train loss: 1361.8632668484463 | Valid loss: 1794.6473388671875\n",
      "Epoch: 270 | Train loss: 1519.26509257113 | Valid loss: 1979.62939453125\n",
      "Epoch: 280 | Train loss: 1600.1630749648875 | Valid loss: 1949.8465576171875\n",
      "Epoch: 290 | Train loss: 1299.0028652234023 | Valid loss: 1687.86181640625\n"
     ]
    }
   ],
   "source": [
    "model = ECNet(dataset_train.desc_vals.shape[1], dataset_train.target_vals.shape[1],\n",
    "              64, 1)\n",
    "train_loss, valid_loss = model.fit(\n",
    "    dataset=dataset_train, valid_size=0.2, verbose=10,\n",
    "    patience=50, epochs=300, random_state=12, lr=0.001, lr_decay=1e-8\n",
    ")"
   ]
  },
  {
   "cell_type": "code",
   "execution_count": 7,
   "id": "indian-latex",
   "metadata": {},
   "outputs": [
    {
     "data": {
      "image/png": "[encoded data removed]",
      "text/plain": [
       "<Figure size 432x288 with 1 Axes>"
      ]
     },
     "metadata": {
      "needs_background": "light"
     },
     "output_type": "display_data"
    }
   ],
   "source": [
    "plt.clf()\n",
    "train_loss = train_loss[3:]\n",
    "valid_loss = valid_loss[3:]\n",
    "epoch = [i for i in range(3, len(train_loss) + 3)]\n",
    "plt.xlabel('Epochs')\n",
    "plt.ylabel('MSE Loss')\n",
    "plt.plot(epoch, train_loss, color='blue', label='Training Loss')\n",
    "plt.plot(epoch, valid_loss, color='red', label='Validation Loss')\n",
    "plt.legend(loc='upper right')\n",
    "plt.show()"
   ]
  },
  {
   "cell_type": "code",
   "execution_count": 8,
   "id": "preceding-placement",
   "metadata": {},
   "outputs": [
    {
     "name": "stdout",
     "output_type": "stream",
     "text": [
      "Training set: 6.100849628448486 | 0.9774101214461695\n",
      "Testing set: 8.631549835205078 | 0.9737137097431475\n"
     ]
    }
   ],
   "source": [
    "y_hat_train = model(dataset_train.desc_vals).detach().numpy()\n",
    "y_train = dataset_train.target_vals.numpy()\n",
    "y_hat_test = model(dataset_test.desc_vals).detach().numpy()\n",
    "y_test = dataset_test.target_vals.numpy()\n",
    "\n",
    "mae_train = median_absolute_error(y_hat_train, y_train)\n",
    "mae_test = median_absolute_error(y_hat_test, y_test)\n",
    "r2_train = r2_score(y_hat_train, y_train)\n",
    "r2_test = r2_score(y_hat_test, y_test)\n",
    "print(f'Training set: {mae_train} | {r2_train}')\n",
    "print(f'Testing set: {mae_test} | {r2_test}')"
   ]
  },
  {
   "cell_type": "code",
   "execution_count": 9,
   "id": "swiss-chrome",
   "metadata": {},
   "outputs": [
    {
     "data": {
      "image/png": "[encoded data removed]",
      "text/plain": [
       "<Figure size 432x288 with 1 Axes>"
      ]
     },
     "metadata": {
      "needs_background": "light"
     },
     "output_type": "display_data"
    }
   ],
   "source": [
    "min_val = min(min(y_hat_train), min(y_train)) - 0.05 * max(max(y_hat_train), max(y_train))\n",
    "max_val = max(max(y_hat_train), max(y_train)) + 0.05 * max(max(y_hat_train), max(y_train))\n",
    "plt.clf()\n",
    "plt.xlabel('Experimental YSI')\n",
    "plt.ylabel('Predicted YSI')\n",
    "plt.plot([min_val, max_val], [min_val, max_val], 'k--')\n",
    "plt.scatter(y_train, y_hat_train, color='blue', label='Training Set')\n",
    "plt.scatter(y_test, y_hat_test, color='red', label='Testing Set')\n",
    "plt.legend(loc='upper left')\n",
    "plt.show()"
   ]
  },
  {
   "cell_type": "code",
   "execution_count": 10,
   "id": "educated-poker",
   "metadata": {},
   "outputs": [],
   "source": [
    "model.save('_models/ysi.pt')"
   ]
  },
  {
   "cell_type": "code",
   "execution_count": null,
   "id": "introductory-scale",
   "metadata": {},
   "outputs": [],
   "source": []
  }
 ],
 "metadata": {
  "kernelspec": {
   "display_name": "Python 3",
   "language": "python",
   "name": "python3"
  },
  "language_info": {
   "codemirror_mode": {
    "name": "ipython",
    "version": 3
   },
   "file_extension": ".py",
   "mimetype": "text/x-python",
   "name": "python",
   "nbconvert_exporter": "python",
   "pygments_lexer": "ipython3",
   "version": "3.8.8"
  }
 },
 "nbformat": 4,
 "nbformat_minor": 5
}
