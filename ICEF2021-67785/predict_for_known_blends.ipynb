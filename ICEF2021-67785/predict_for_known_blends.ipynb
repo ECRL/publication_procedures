{
 "cells": [
  {
   "cell_type": "code",
   "execution_count": 1,
   "id": "whole-lightweight",
   "metadata": {},
   "outputs": [],
   "source": [
    "from ecnet.model import load_model\n",
    "\n",
    "cn_model = load_model('_models/cn.pt')\n",
    "ysi_model = load_model('_models/ysi.pt')\n",
    "kv_model = load_model('_models/kv.pt')\n",
    "lhv_model = load_model('_models/lhv.pt')\n",
    "\n",
    "with open('_models/cn_desc.txt', 'r') as txt_file:\n",
    "    desc_cn = txt_file.readlines()\n",
    "txt_file.close()\n",
    "desc_cn = [int(i) for i in desc_cn]\n",
    "with open('_models/ysi_desc.txt', 'r') as txt_file:\n",
    "    desc_ysi = txt_file.readlines()\n",
    "txt_file.close()\n",
    "desc_ysi = [int(i) for i in desc_ysi]\n",
    "with open('_models/kv_desc.txt', 'r') as txt_file:\n",
    "    desc_kv = txt_file.readlines()\n",
    "txt_file.close()\n",
    "desc_kv = [int(i) for i in desc_kv]\n",
    "with open('_models/lhv_desc.txt', 'r') as txt_file:\n",
    "    desc_lhv = txt_file.readlines()\n",
    "txt_file.close()\n",
    "desc_lhv = [int(i) for i in desc_lhv]"
   ]
  },
  {
   "cell_type": "code",
   "execution_count": 2,
   "id": "iraqi-melissa",
   "metadata": {},
   "outputs": [],
   "source": [
    "from csv import DictReader\n",
    "\n",
    "with open('_data/experimental_blends.csv', 'r') as csv_file:\n",
    "    reader = DictReader(csv_file)\n",
    "    rows = [r for r in reader]\n",
    "csv_file.close()\n",
    "\n",
    "blend_1 = [r for r in rows if r['Blend ID'] == '0']\n",
    "blend_1_exp_cn = float(blend_1[0]['CN'])\n",
    "blend_1_exp_ysi = float(blend_1[0]['YSI'])\n",
    "blend_1_exp_kv = float(blend_1[0]['KV (cSt)'])\n",
    "blend_1_exp_lhv = float(blend_1[0]['LHV'])\n",
    "blend_2 = [r for r in rows if r['Blend ID'] == '1']\n",
    "blend_2_exp_cn = float(blend_2[0]['CN'])\n",
    "blend_2_exp_ysi = float(blend_2[0]['YSI'])\n",
    "blend_2_exp_kv = float(blend_2[0]['KV (cSt)'])\n",
    "blend_2_exp_lhv = float(blend_2[0]['LHV'])\n",
    "\n",
    "blend_1_smiles = [r['SMILES'] for r in blend_1]\n",
    "blend_2_smiles = [r['SMILES'] for r in blend_2]\n",
    "\n",
    "blend_1_proportions = [float(r['Proportion']) for r in blend_1]\n",
    "blend_2_proportions = [float(r['Proportion']) for r in blend_2]"
   ]
  },
  {
   "cell_type": "code",
   "execution_count": 3,
   "id": "flexible-joshua",
   "metadata": {},
   "outputs": [],
   "source": [
    "from ecnet.datasets import QSPRDataset\n",
    "\n",
    "blend_1_ds = QSPRDataset(smiles=blend_1_smiles, target_vals=[0 for _ in range(len(blend_1_smiles))],\n",
    "                         backend='alvadesc')\n",
    "blend_2_ds = QSPRDataset(smiles=blend_2_smiles, target_vals=[0 for _ in range(len(blend_2_smiles))],\n",
    "                         backend='alvadesc')"
   ]
  },
  {
   "cell_type": "code",
   "execution_count": 4,
   "id": "greater-muslim",
   "metadata": {},
   "outputs": [],
   "source": [
    "from copy import deepcopy\n",
    "\n",
    "b1ds_cn = deepcopy(blend_1_ds)\n",
    "b1ds_cn.set_desc_index(desc_cn)\n",
    "b1ds_ysi = deepcopy(blend_1_ds)\n",
    "b1ds_ysi.set_desc_index(desc_ysi)\n",
    "b1ds_kv = deepcopy(blend_1_ds)\n",
    "b1ds_kv.set_desc_index(desc_kv)\n",
    "b1ds_lhv = deepcopy(blend_1_ds)\n",
    "b1ds_lhv.set_desc_index(desc_lhv)\n",
    "\n",
    "b2ds_cn = deepcopy(blend_2_ds)\n",
    "b2ds_cn.set_desc_index(desc_cn)\n",
    "b2ds_ysi = deepcopy(blend_2_ds)\n",
    "b2ds_ysi.set_desc_index(desc_ysi)\n",
    "b2ds_kv = deepcopy(blend_2_ds)\n",
    "b2ds_kv.set_desc_index(desc_kv)\n",
    "b2ds_lhv = deepcopy(blend_2_ds)\n",
    "b2ds_lhv.set_desc_index(desc_lhv)"
   ]
  },
  {
   "cell_type": "code",
   "execution_count": 5,
   "id": "unsigned-clear",
   "metadata": {},
   "outputs": [],
   "source": [
    "blend_1_cn_preds = cn_model(b1ds_cn.desc_vals).detach().numpy()\n",
    "blend_1_ysi_preds = ysi_model(b1ds_ysi.desc_vals).detach().numpy()\n",
    "blend_1_kv_preds = kv_model(b1ds_kv.desc_vals).detach().numpy()\n",
    "blend_1_lhv_preds = lhv_model(b1ds_lhv.desc_vals).detach().numpy()\n",
    "\n",
    "blend_2_cn_preds = cn_model(b2ds_cn.desc_vals).detach().numpy()\n",
    "blend_2_ysi_preds = ysi_model(b2ds_ysi.desc_vals).detach().numpy()\n",
    "blend_2_kv_preds = kv_model(b2ds_kv.desc_vals).detach().numpy()\n",
    "blend_2_lhv_preds = lhv_model(b2ds_lhv.desc_vals).detach().numpy()"
   ]
  },
  {
   "cell_type": "code",
   "execution_count": 6,
   "id": "touched-server",
   "metadata": {},
   "outputs": [],
   "source": [
    "from ecnet.blends.predict import cetane_number, yield_sooting_index, kinematic_viscosity, lower_heating_value\n",
    "\n",
    "b1_cn = cetane_number([cn[0] for cn in blend_1_cn_preds], blend_1_proportions)\n",
    "b1_ysi = yield_sooting_index([ysi[0] for ysi in blend_1_ysi_preds], blend_1_proportions)\n",
    "b1_kv = kinematic_viscosity([kv[0] for kv in blend_1_kv_preds], blend_1_proportions)\n",
    "b1_lhv = lower_heating_value([lhv[0] for lhv in blend_1_lhv_preds], blend_1_proportions)\n",
    "\n",
    "b2_cn = cetane_number([cn[0] for cn in blend_2_cn_preds], blend_2_proportions)\n",
    "b2_ysi = yield_sooting_index([ysi[0] for ysi in blend_2_ysi_preds], blend_2_proportions)\n",
    "b2_kv = kinematic_viscosity([kv[0] for kv in blend_2_kv_preds], blend_2_proportions)\n",
    "b2_lhv = lower_heating_value([lhv[0] for lhv in blend_2_lhv_preds], blend_2_proportions)"
   ]
  },
  {
   "cell_type": "code",
   "execution_count": 7,
   "id": "atomic-guide",
   "metadata": {},
   "outputs": [
    {
     "name": "stdout",
     "output_type": "stream",
     "text": [
      "Blend 1 CN: 52.0, 54.50701881408691\n",
      "Blend 1 YSI: 80.0, 164.30796508789064\n",
      "Blend 1 KV: 4.054, 5.436881067512961\n",
      "Blend 1 LHV: 33.0, 37.02131484985352\n",
      "Blend 2 CN: 73.0, 61.35341079711914\n",
      "Blend 2 YSI: 2.1, 11.281800718307496\n",
      "Blend 2 KV: 1.19, 1.252677482220497\n",
      "Blend 2 LHV: 19.3, 21.575223560333253\n"
     ]
    }
   ],
   "source": [
    "print(f'Blend 1 CN: {blend_1_exp_cn}, {b1_cn}')\n",
    "print(f'Blend 1 YSI: {blend_1_exp_ysi}, {b1_ysi}')\n",
    "print(f'Blend 1 KV: {blend_1_exp_kv}, {b1_kv}')\n",
    "print(f'Blend 1 LHV: {blend_1_exp_lhv}, {b1_lhv}')\n",
    "\n",
    "print(f'Blend 2 CN: {blend_2_exp_cn}, {b2_cn}')\n",
    "print(f'Blend 2 YSI: {blend_2_exp_ysi}, {b2_ysi}')\n",
    "print(f'Blend 2 KV: {blend_2_exp_kv}, {b2_kv}')\n",
    "print(f'Blend 2 LHV: {blend_2_exp_lhv}, {b2_lhv}')"
   ]
  },
  {
   "cell_type": "code",
   "execution_count": null,
   "id": "connected-visit",
   "metadata": {},
   "outputs": [],
   "source": []
  }
 ],
 "metadata": {
  "kernelspec": {
   "display_name": "Python 3",
   "language": "python",
   "name": "python3"
  },
  "language_info": {
   "codemirror_mode": {
    "name": "ipython",
    "version": 3
   },
   "file_extension": ".py",
   "mimetype": "text/x-python",
   "name": "python",
   "nbconvert_exporter": "python",
   "pygments_lexer": "ipython3",
   "version": "3.8.8"
  }
 },
 "nbformat": 4,
 "nbformat_minor": 5
}
