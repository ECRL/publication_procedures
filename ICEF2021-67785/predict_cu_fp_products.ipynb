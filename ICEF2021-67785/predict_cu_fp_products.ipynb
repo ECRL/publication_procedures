{
 "cells": [
  {
   "cell_type": "code",
   "execution_count": 1,
   "id": "genetic-funeral",
   "metadata": {},
   "outputs": [],
   "source": [
    "from ecnet.model import load_model\n",
    "\n",
    "cn_model = load_model('_models/cn.pt')\n",
    "ysi_model = load_model('_models/ysi.pt')\n",
    "kv_model = load_model('_models/kv.pt')\n",
    "cp_model = load_model('_models/cp.pt')\n",
    "lhv_model = load_model('_models/lhv.pt')\n",
    "\n",
    "with open('_models/cn_desc.txt', 'r') as txt_file:\n",
    "    desc_cn = txt_file.readlines()\n",
    "txt_file.close()\n",
    "desc_cn = [int(i) for i in desc_cn]\n",
    "with open('_models/ysi_desc.txt', 'r') as txt_file:\n",
    "    desc_ysi = txt_file.readlines()\n",
    "txt_file.close()\n",
    "desc_ysi = [int(i) for i in desc_ysi]\n",
    "with open('_models/kv_desc.txt', 'r') as txt_file:\n",
    "    desc_kv = txt_file.readlines()\n",
    "txt_file.close()\n",
    "desc_kv = [int(i) for i in desc_kv]\n",
    "with open('_models/cp_desc.txt', 'r') as txt_file:\n",
    "    desc_cp = txt_file.readlines()\n",
    "txt_file.close()\n",
    "desc_cp = [int(i) for i in desc_cp]\n",
    "with open('_models/lhv_desc.txt', 'r') as txt_file:\n",
    "    desc_lhv = txt_file.readlines()\n",
    "txt_file.close()\n",
    "desc_lhv = [int(i) for i in desc_lhv]"
   ]
  },
  {
   "cell_type": "code",
   "execution_count": 2,
   "id": "arabic-angle",
   "metadata": {},
   "outputs": [],
   "source": [
    "from csv import DictReader\n",
    "from ecnet.datasets import QSPRDataset\n",
    "from copy import deepcopy\n",
    "\n",
    "with open('_data/fp_cu_data.csv', 'r') as csv_file:\n",
    "    reader = DictReader(csv_file)\n",
    "    compounds = [r for r in reader]\n",
    "csv_file.close()\n",
    "smiles = [c['SMILES'] for c in compounds]\n",
    "\n",
    "dataset = QSPRDataset(smiles=smiles, target_vals=[0 for _ in range(len(smiles))], backend='alvadesc')"
   ]
  },
  {
   "cell_type": "code",
   "execution_count": 3,
   "id": "proud-airport",
   "metadata": {},
   "outputs": [],
   "source": [
    "dataset_cn = deepcopy(dataset)\n",
    "dataset_cn.set_desc_index(desc_cn)\n",
    "dataset_ysi = deepcopy(dataset)\n",
    "dataset_ysi.set_desc_index(desc_ysi)\n",
    "dataset_kv = deepcopy(dataset)\n",
    "dataset_kv.set_desc_index(desc_kv)\n",
    "dataset_cp = deepcopy(dataset)\n",
    "dataset_cp.set_desc_index(desc_cp)\n",
    "dataset_lhv = deepcopy(dataset)\n",
    "dataset_lhv.set_desc_index(desc_lhv)"
   ]
  },
  {
   "cell_type": "code",
   "execution_count": 4,
   "id": "super-obligation",
   "metadata": {},
   "outputs": [],
   "source": [
    "cn_pred = cn_model(dataset_cn.desc_vals).detach().numpy()\n",
    "ysi_pred = ysi_model(dataset_ysi.desc_vals).detach().numpy()\n",
    "kv_pred = kv_model(dataset_kv.desc_vals).detach().numpy()\n",
    "cp_pred = cp_model(dataset_cp.desc_vals).detach().numpy()\n",
    "lhv_pred = lhv_model(dataset_lhv.desc_vals).detach().numpy()"
   ]
  },
  {
   "cell_type": "code",
   "execution_count": 5,
   "id": "compatible-disclaimer",
   "metadata": {},
   "outputs": [],
   "source": [
    "from csv import DictWriter\n",
    "with open('_results/fp_cu_results.csv', 'w', encoding='utf8') as csv_file:\n",
    "    writer = DictWriter(csv_file, ['Name', 'SMILES', 'CN', 'YSI', 'KV', 'CP', 'LHV'],\n",
    "                        delimiter=',', lineterminator='\\n')\n",
    "    writer.writeheader()\n",
    "    for i in range(len(cn_pred)):\n",
    "        writer.writerow({\n",
    "            'Name': compounds[i]['Name'],\n",
    "            'SMILES': smiles[i],\n",
    "            'CN': cn_pred[i][0],\n",
    "            'YSI': ysi_pred[i][0],\n",
    "            'KV': kv_pred[i][0],\n",
    "            'CP': cp_pred[i][0],\n",
    "            'LHV': lhv_pred[i][0]\n",
    "        })\n",
    "csv_file.close()"
   ]
  },
  {
   "cell_type": "code",
   "execution_count": null,
   "id": "polished-fountain",
   "metadata": {},
   "outputs": [],
   "source": []
  }
 ],
 "metadata": {
  "kernelspec": {
   "display_name": "Python 3",
   "language": "python",
   "name": "python3"
  },
  "language_info": {
   "codemirror_mode": {
    "name": "ipython",
    "version": 3
   },
   "file_extension": ".py",
   "mimetype": "text/x-python",
   "name": "python",
   "nbconvert_exporter": "python",
   "pygments_lexer": "ipython3",
   "version": "3.8.8"
  }
 },
 "nbformat": 4,
 "nbformat_minor": 5
}
