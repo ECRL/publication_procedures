{
 "cells": [
  {
   "cell_type": "code",
   "execution_count": 1,
   "id": "broke-radar",
   "metadata": {},
   "outputs": [],
   "source": [
    "from ecnet.datasets import load_lhv\n",
    "from ecnet.tasks.feature_selection import select_rfr\n",
    "from ecnet import ECNet\n",
    "from sklearn.model_selection import train_test_split\n",
    "from sklearn.metrics import median_absolute_error, r2_score\n",
    "import torch\n",
    "import numpy as np\n",
    "from matplotlib import pyplot as plt\n",
    "from copy import deepcopy"
   ]
  },
  {
   "cell_type": "code",
   "execution_count": 2,
   "id": "discrete-violence",
   "metadata": {},
   "outputs": [
    {
     "name": "stdout",
     "output_type": "stream",
     "text": [
      "torch.Size([388, 5305]) torch.Size([388, 1])\n"
     ]
    }
   ],
   "source": [
    "dataset = load_lhv(as_dataset=True, backend='alvadesc')\n",
    "print(dataset.desc_vals.shape, dataset.target_vals.shape)"
   ]
  },
  {
   "cell_type": "code",
   "execution_count": 3,
   "id": "cosmetic-bridal",
   "metadata": {},
   "outputs": [
    {
     "name": "stdout",
     "output_type": "stream",
     "text": [
      "torch.Size([310, 5305]) torch.Size([78, 5305])\n"
     ]
    }
   ],
   "source": [
    "index_train, index_test = train_test_split([i for i in range(len(dataset))],\n",
    "                                           test_size=0.2, random_state=42)\n",
    "dataset_train = deepcopy(dataset)\n",
    "dataset_train.set_index(index_train)\n",
    "dataset_test = deepcopy(dataset)\n",
    "dataset_test.set_index(index_test)\n",
    "print(dataset_train.desc_vals.shape, dataset_test.desc_vals.shape)"
   ]
  },
  {
   "cell_type": "code",
   "execution_count": 4,
   "id": "variable-stuart",
   "metadata": {},
   "outputs": [
    {
     "name": "stdout",
     "output_type": "stream",
     "text": [
      "torch.Size([310, 14]) torch.Size([78, 14])\n",
      "['O%', 'Me', 'AAC', 'Eta_epsi_4', 'Eta_D_epsiC'] 14\n",
      "[0.47846435388171127, 0.3023124992386475, 0.06071213991202965, 0.04915632827420086, 0.02180222355988016]\n"
     ]
    }
   ],
   "source": [
    "desc_idx, desc_imp = select_rfr(dataset_train, total_importance=0.95,\n",
    "                                n_estimators=100, n_jobs=4)\n",
    "dataset_train.set_desc_index(desc_idx)\n",
    "dataset_test.set_desc_index(desc_idx)\n",
    "desc_names = [dataset.desc_names[i] for i in desc_idx]\n",
    "print(dataset_train.desc_vals.shape, dataset_test.desc_vals.shape)\n",
    "print(desc_names[:5], len(desc_names))\n",
    "print(desc_imp[:5])\n",
    "with open('_models/lhv_desc.txt', 'w') as txt_file:\n",
    "    txt_file.writelines([str(i) + '\\n' for i in desc_idx])\n",
    "txt_file.close()"
   ]
  },
  {
   "cell_type": "code",
   "execution_count": 5,
   "id": "living-richmond",
   "metadata": {},
   "outputs": [
    {
     "data": {
      "image/png": "[encoded data removed]",
      "text/plain": [
       "<Figure size 432x288 with 1 Axes>"
      ]
     },
     "metadata": {
      "needs_background": "light"
     },
     "output_type": "display_data"
    }
   ],
   "source": [
    "plt.clf()\n",
    "x_vals = [i for i in range(len(desc_imp))]\n",
    "y_vals = [0.0]\n",
    "for idx in range(len(desc_imp) - 1):\n",
    "    y_vals.append(sum(desc_imp[:idx + 1]))\n",
    "plt.xlabel('N Top Descriptors')\n",
    "plt.ylabel('Total Importance w.r.t. LHV')\n",
    "plt.plot(x_vals, y_vals, color='blue')\n",
    "plt.show()"
   ]
  },
  {
   "cell_type": "code",
   "execution_count": 6,
   "id": "standing-adult",
   "metadata": {},
   "outputs": [
    {
     "name": "stdout",
     "output_type": "stream",
     "text": [
      "Epoch: 0 | Train loss: 1229.4760446856098 | Valid loss: 9223372036854775807\n",
      "Epoch: 10 | Train loss: 578.1673072076613 | Valid loss: 544.21435546875\n",
      "Epoch: 20 | Train loss: 221.8928468765751 | Valid loss: 231.98670959472656\n",
      "Epoch: 30 | Train loss: 10.953009328534526 | Valid loss: 11.933778762817383\n",
      "Epoch: 40 | Train loss: 3.604354566143405 | Valid loss: 4.194823741912842\n",
      "Epoch: 50 | Train loss: 1.7545045575787943 | Valid loss: 2.236269235610962\n",
      "Epoch: 60 | Train loss: 1.2045456363308815 | Valid loss: 1.6954853534698486\n",
      "Epoch: 70 | Train loss: 1.0909472473206059 | Valid loss: 1.628435730934143\n",
      "Epoch: 80 | Train loss: 0.9331046265940512 | Valid loss: 1.4988479614257812\n",
      "Epoch: 90 | Train loss: 0.8899412606993029 | Valid loss: 1.4604582786560059\n",
      "Epoch: 100 | Train loss: 0.8352247438123149 | Valid loss: 1.4269473552703857\n",
      "Epoch: 110 | Train loss: 0.8455347707194667 | Valid loss: 1.3961102962493896\n",
      "Epoch: 120 | Train loss: 0.7830275643256402 | Valid loss: 1.3598301410675049\n",
      "Epoch: 130 | Train loss: 0.823874169780362 | Valid loss: 1.3548188209533691\n",
      "Epoch: 140 | Train loss: 0.7728975549820931 | Valid loss: 1.372194528579712\n",
      "Epoch: 150 | Train loss: 0.8437798292406143 | Valid loss: 1.4285227060317993\n",
      "Epoch: 160 | Train loss: 0.864567227901951 | Valid loss: 1.7465240955352783\n",
      "Epoch: 170 | Train loss: 0.7293337766201266 | Valid loss: 1.275415062904358\n",
      "Epoch: 180 | Train loss: 0.700364105163082 | Valid loss: 1.2556474208831787\n",
      "Epoch: 190 | Train loss: 0.7897314679238104 | Valid loss: 1.2915081977844238\n",
      "Epoch: 200 | Train loss: 0.696771014121271 | Valid loss: 1.2636605501174927\n",
      "Epoch: 210 | Train loss: 0.7164849888893866 | Valid loss: 1.2329310178756714\n",
      "Epoch: 220 | Train loss: 0.6914233007738667 | Valid loss: 1.2074817419052124\n",
      "Epoch: 230 | Train loss: 0.6818266434054221 | Valid loss: 1.2393895387649536\n",
      "Epoch: 240 | Train loss: 0.6706964142860905 | Valid loss: 1.1938854455947876\n",
      "Epoch: 250 | Train loss: 0.6830841052916742 | Valid loss: 1.168376088142395\n",
      "Epoch: 260 | Train loss: 0.9523629219301285 | Valid loss: 1.5389353036880493\n",
      "Epoch: 270 | Train loss: 0.6762631996985404 | Valid loss: 1.18910813331604\n",
      "Epoch: 280 | Train loss: 0.6936916324400133 | Valid loss: 1.199353575706482\n",
      "Epoch: 290 | Train loss: 0.6812940172610744 | Valid loss: 1.298292875289917\n",
      "Epoch: 300 | Train loss: 0.8236935311748136 | Valid loss: 1.2755653858184814\n",
      "Epoch: 310 | Train loss: 0.703681121910772 | Valid loss: 1.2470639944076538\n",
      "Epoch: 320 | Train loss: 0.6900071886277968 | Valid loss: 1.1392649412155151\n",
      "Epoch: 330 | Train loss: 0.6818823199118337 | Valid loss: 1.1515330076217651\n",
      "Epoch: 340 | Train loss: 0.6701275110244751 | Valid loss: 1.140527367591858\n",
      "Epoch: 350 | Train loss: 0.7036264634901478 | Valid loss: 1.2298487424850464\n",
      "Epoch: 360 | Train loss: 0.6379542735315138 | Valid loss: 1.1183037757873535\n",
      "Epoch: 370 | Train loss: 0.6841213818519346 | Valid loss: 1.3614484071731567\n",
      "Epoch: 380 | Train loss: 0.7792482837553947 | Valid loss: 1.2616196870803833\n",
      "Epoch: 390 | Train loss: 0.6899441480636597 | Valid loss: 1.1745569705963135\n",
      "Epoch: 400 | Train loss: 0.5936849597961672 | Valid loss: 1.138171672821045\n",
      "Epoch: 410 | Train loss: 0.6575908334024491 | Valid loss: 1.1543234586715698\n",
      "Epoch: 420 | Train loss: 0.6899367013285237 | Valid loss: 1.2444243431091309\n",
      "Epoch: 430 | Train loss: 0.6681006060492608 | Valid loss: 1.229378581047058\n",
      "Epoch: 440 | Train loss: 0.7480387091636658 | Valid loss: 1.4787036180496216\n",
      "Epoch: 450 | Train loss: 0.6114966042580143 | Valid loss: 1.1188414096832275\n",
      "Epoch: 460 | Train loss: 0.629630898275683 | Valid loss: 1.1126062870025635\n",
      "Epoch: 470 | Train loss: 0.6210848419897018 | Valid loss: 1.1223200559616089\n",
      "Epoch: 480 | Train loss: 0.6323391035679848 | Valid loss: 1.142791748046875\n",
      "Epoch: 490 | Train loss: 0.6182391316659989 | Valid loss: 1.1975041627883911\n"
     ]
    }
   ],
   "source": [
    "model = ECNet(dataset_train.desc_vals.shape[1], dataset_train.target_vals.shape[1],\n",
    "              64, 1)\n",
    "train_loss, valid_loss = model.fit(\n",
    "    dataset=dataset_train, valid_size=0.2, verbose=10,\n",
    "    patience=100, epochs=500, random_state=24, lr=0.001, lr_decay=1e-8\n",
    ")"
   ]
  },
  {
   "cell_type": "code",
   "execution_count": 7,
   "id": "indian-latex",
   "metadata": {},
   "outputs": [
    {
     "data": {
      "image/png": "[encoded data removed]",
      "text/plain": [
       "<Figure size 432x288 with 1 Axes>"
      ]
     },
     "metadata": {
      "needs_background": "light"
     },
     "output_type": "display_data"
    }
   ],
   "source": [
    "plt.clf()\n",
    "train_loss = train_loss[3:]\n",
    "valid_loss = valid_loss[3:]\n",
    "epoch = [i for i in range(3, len(train_loss) + 3)]\n",
    "plt.xlabel('Epochs')\n",
    "plt.ylabel('MSE Loss')\n",
    "plt.plot(epoch, train_loss, color='blue', label='Training Loss')\n",
    "plt.plot(epoch, valid_loss, color='green', label='Validation Loss')\n",
    "plt.legend(loc='upper right')\n",
    "plt.show()"
   ]
  },
  {
   "cell_type": "code",
   "execution_count": 8,
   "id": "preceding-placement",
   "metadata": {},
   "outputs": [
    {
     "name": "stdout",
     "output_type": "stream",
     "text": [
      "Training set: 0.3842172622680664 | 0.9915327315568999\n",
      "Testing set: 0.5507545471191406 | 0.9386356488429836\n"
     ]
    }
   ],
   "source": [
    "y_hat_train = model(dataset_train.desc_vals).detach().numpy()\n",
    "y_train = dataset_train.target_vals.numpy()\n",
    "y_hat_test = model(dataset_test.desc_vals).detach().numpy()\n",
    "y_test = dataset_test.target_vals.numpy()\n",
    "\n",
    "mae_train = median_absolute_error(y_hat_train, y_train)\n",
    "mae_test = median_absolute_error(y_hat_test, y_test)\n",
    "r2_train = r2_score(y_hat_train, y_train)\n",
    "r2_test = r2_score(y_hat_test, y_test)\n",
    "print(f'Training set: {mae_train} | {r2_train}')\n",
    "print(f'Testing set: {mae_test} | {r2_test}')"
   ]
  },
  {
   "cell_type": "code",
   "execution_count": 9,
   "id": "swiss-chrome",
   "metadata": {},
   "outputs": [
    {
     "data": {
      "image/png": "[encoded data removed]",
      "text/plain": [
       "<Figure size 432x288 with 1 Axes>"
      ]
     },
     "metadata": {
      "needs_background": "light"
     },
     "output_type": "display_data"
    }
   ],
   "source": [
    "min_val = min(min(y_hat_train), min(y_train)) - 0.05 * max(max(y_hat_train), max(y_train))\n",
    "max_val = max(max(y_hat_train), max(y_train)) + 0.05 * max(max(y_hat_train), max(y_train))\n",
    "plt.clf()\n",
    "plt.xlabel('Experimental LHV (MJ/kg)')\n",
    "plt.ylabel('Predicted LHV (MJ/kg)')\n",
    "plt.plot([min_val, max_val], [min_val, max_val], 'k--')\n",
    "plt.plot([min_val, max_val], [min_val + mae_test, max_val + mae_test], 'k--')\n",
    "plt.plot([min_val, max_val], [min_val - mae_test, max_val - mae_test], 'k--')\n",
    "plt.scatter(y_train, y_hat_train, color='blue', label='Training Set')\n",
    "plt.scatter(y_test, y_hat_test, color='red', label='Testing Set')\n",
    "plt.legend(loc='upper left')\n",
    "plt.show()"
   ]
  },
  {
   "cell_type": "code",
   "execution_count": 10,
   "id": "educated-poker",
   "metadata": {},
   "outputs": [],
   "source": [
    "model.save('_models/lhv.pt')"
   ]
  }
 ],
 "metadata": {
  "kernelspec": {
   "display_name": "Python 3",
   "language": "python",
   "name": "python3"
  },
  "language_info": {
   "codemirror_mode": {
    "name": "ipython",
    "version": 3
   },
   "file_extension": ".py",
   "mimetype": "text/x-python",
   "name": "python",
   "nbconvert_exporter": "python",
   "pygments_lexer": "ipython3",
   "version": "3.8.8"
  }
 },
 "nbformat": 4,
 "nbformat_minor": 5
}
