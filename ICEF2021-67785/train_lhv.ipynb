{
 "cells": [
  {
   "cell_type": "code",
   "execution_count": 1,
   "id": "broke-radar",
   "metadata": {},
   "outputs": [],
   "source": [
    "from ecnet.datasets import load_lhv\n",
    "from ecnet.tasks.feature_selection import select_rfr\n",
    "from ecnet import ECNet\n",
    "from sklearn.model_selection import train_test_split\n",
    "from sklearn.metrics import median_absolute_error, r2_score\n",
    "import torch\n",
    "import numpy as np\n",
    "from matplotlib import pyplot as plt\n",
    "from copy import deepcopy"
   ]
  },
  {
   "cell_type": "code",
   "execution_count": 2,
   "id": "discrete-violence",
   "metadata": {},
   "outputs": [
    {
     "name": "stdout",
     "output_type": "stream",
     "text": [
      "torch.Size([388, 5305]) torch.Size([388, 1])\n"
     ]
    }
   ],
   "source": [
    "dataset = load_lhv(as_dataset=True, backend='alvadesc')\n",
    "print(dataset.desc_vals.shape, dataset.target_vals.shape)"
   ]
  },
  {
   "cell_type": "code",
   "execution_count": 3,
   "id": "cosmetic-bridal",
   "metadata": {},
   "outputs": [
    {
     "name": "stdout",
     "output_type": "stream",
     "text": [
      "torch.Size([310, 5305]) torch.Size([78, 5305])\n"
     ]
    }
   ],
   "source": [
    "index_train, index_test = train_test_split([i for i in range(len(dataset))],\n",
    "                                           test_size=0.2, random_state=42)\n",
    "dataset_train = deepcopy(dataset)\n",
    "dataset_train.set_index(index_train)\n",
    "dataset_test = deepcopy(dataset)\n",
    "dataset_test.set_index(index_test)\n",
    "print(dataset_train.desc_vals.shape, dataset_test.desc_vals.shape)"
   ]
  },
  {
   "cell_type": "code",
   "execution_count": 4,
   "id": "variable-stuart",
   "metadata": {},
   "outputs": [
    {
     "name": "stdout",
     "output_type": "stream",
     "text": [
      "torch.Size([310, 14]) torch.Size([78, 14])\n",
      "['O%', 'Me', 'IC0', 'Eta_epsi_4', 'Eta_D_epsiC'] 14\n",
      "[0.47600939460451286, 0.30488671736661, 0.0759807640109898, 0.03630472749417986, 0.01583709460720591]\n"
     ]
    }
   ],
   "source": [
    "desc_idx, desc_imp = select_rfr(dataset_train, total_importance=0.95,\n",
    "                                n_estimators=100, n_jobs=4)\n",
    "dataset_train.set_desc_index(desc_idx)\n",
    "dataset_test.set_desc_index(desc_idx)\n",
    "desc_names = [dataset.desc_names[i] for i in desc_idx]\n",
    "print(dataset_train.desc_vals.shape, dataset_test.desc_vals.shape)\n",
    "print(desc_names[:5], len(desc_names))\n",
    "print(desc_imp[:5])\n",
    "with open('_models/lhv_desc.txt', 'w') as txt_file:\n",
    "    txt_file.writelines([str(i) + '\\n' for i in desc_idx])\n",
    "txt_file.close()"
   ]
  },
  {
   "cell_type": "code",
   "execution_count": 5,
   "id": "living-richmond",
   "metadata": {},
   "outputs": [
    {
     "data": {
      "image/png": "[encoded data removed]",
      "text/plain": [
       "<Figure size 432x288 with 1 Axes>"
      ]
     },
     "metadata": {
      "needs_background": "light"
     },
     "output_type": "display_data"
    }
   ],
   "source": [
    "plt.clf()\n",
    "x_vals = [i for i in range(len(desc_imp))]\n",
    "y_vals = [0.0]\n",
    "for idx in range(len(desc_imp) - 1):\n",
    "    y_vals.append(sum(desc_imp[:idx + 1]))\n",
    "plt.xlabel('N Top Descriptors')\n",
    "plt.ylabel('Total Importance w.r.t. LHV')\n",
    "plt.plot(x_vals, y_vals, color='blue')\n",
    "plt.show()"
   ]
  },
  {
   "cell_type": "code",
   "execution_count": 6,
   "id": "standing-adult",
   "metadata": {},
   "outputs": [
    {
     "name": "stdout",
     "output_type": "stream",
     "text": [
      "Epoch: 0 | Train loss: 1256.8690185546875 | Valid loss: 9223372036854775807\n",
      "Epoch: 10 | Train loss: 603.6357106854839 | Valid loss: 618.9772338867188\n",
      "Epoch: 20 | Train loss: 247.34602995841735 | Valid loss: 333.43157958984375\n",
      "Epoch: 30 | Train loss: 33.57298937151509 | Valid loss: 69.63574981689453\n",
      "Epoch: 40 | Train loss: 16.350594551332534 | Valid loss: 31.2857608795166\n",
      "Epoch: 50 | Train loss: 8.392205438306254 | Valid loss: 17.71470832824707\n",
      "Epoch: 60 | Train loss: 5.781780365974672 | Valid loss: 11.231597900390625\n",
      "Epoch: 70 | Train loss: 4.546581068346577 | Valid loss: 7.782986164093018\n",
      "Epoch: 80 | Train loss: 3.07119579469004 | Valid loss: 5.460666656494141\n",
      "Epoch: 90 | Train loss: 2.363062543253745 | Valid loss: 4.422567367553711\n",
      "Epoch: 100 | Train loss: 1.9517825880358297 | Valid loss: 3.232611894607544\n",
      "Epoch: 110 | Train loss: 1.7373506292220084 | Valid loss: 2.8995373249053955\n",
      "Epoch: 120 | Train loss: 1.8938256002241565 | Valid loss: 2.5928988456726074\n",
      "Epoch: 130 | Train loss: 1.3933673789424281 | Valid loss: 2.275963544845581\n",
      "Epoch: 140 | Train loss: 1.2337978232291438 | Valid loss: 2.2135074138641357\n",
      "Epoch: 150 | Train loss: 1.395097586416429 | Valid loss: 1.7580111026763916\n",
      "Epoch: 160 | Train loss: 1.1284445927989097 | Valid loss: 1.6755894422531128\n",
      "Epoch: 170 | Train loss: 1.0794005470891153 | Valid loss: 1.563270926475525\n",
      "Epoch: 180 | Train loss: 1.363780129340387 | Valid loss: 1.6044560670852661\n",
      "Epoch: 190 | Train loss: 1.1776521359720538 | Valid loss: 2.3416860103607178\n",
      "Epoch: 200 | Train loss: 0.9882417071250177 | Valid loss: 1.4907565116882324\n",
      "Epoch: 210 | Train loss: 0.9593954874623206 | Valid loss: 1.4716858863830566\n",
      "Epoch: 220 | Train loss: 0.9787082172209217 | Valid loss: 1.6956888437271118\n",
      "Epoch: 230 | Train loss: 0.9423170339676642 | Valid loss: 1.460272192955017\n",
      "Epoch: 240 | Train loss: 0.9329974074517527 | Valid loss: 2.14298939704895\n",
      "Epoch: 250 | Train loss: 0.877883663100581 | Valid loss: 1.3506008386611938\n",
      "Epoch: 260 | Train loss: 1.030767390804906 | Valid loss: 1.884867787361145\n",
      "Epoch: 270 | Train loss: 0.8919866700326243 | Valid loss: 1.381976842880249\n",
      "Epoch: 280 | Train loss: 0.9002952671820118 | Valid loss: 1.7262831926345825\n",
      "Epoch: 290 | Train loss: 0.820102995441806 | Valid loss: 1.2683851718902588\n"
     ]
    }
   ],
   "source": [
    "model = ECNet(dataset_train.desc_vals.shape[1], dataset_train.target_vals.shape[1],\n",
    "              64, 1)\n",
    "train_loss, valid_loss = model.fit(\n",
    "    dataset=dataset_train, valid_size=0.2, verbose=10,\n",
    "    patience=50, epochs=300, random_state=12, lr=0.001, lr_decay=1e-8\n",
    ")"
   ]
  },
  {
   "cell_type": "code",
   "execution_count": 7,
   "id": "indian-latex",
   "metadata": {},
   "outputs": [
    {
     "data": {
      "image/png": "[encoded data removed]",
      "text/plain": [
       "<Figure size 432x288 with 1 Axes>"
      ]
     },
     "metadata": {
      "needs_background": "light"
     },
     "output_type": "display_data"
    }
   ],
   "source": [
    "plt.clf()\n",
    "train_loss = train_loss[3:]\n",
    "valid_loss = valid_loss[3:]\n",
    "epoch = [i for i in range(3, len(train_loss) + 3)]\n",
    "plt.xlabel('Epochs')\n",
    "plt.ylabel('MSE Loss')\n",
    "plt.plot(epoch, train_loss, color='blue', label='Training Loss')\n",
    "plt.plot(epoch, valid_loss, color='red', label='Validation Loss')\n",
    "plt.legend(loc='upper right')\n",
    "plt.show()"
   ]
  },
  {
   "cell_type": "code",
   "execution_count": 8,
   "id": "preceding-placement",
   "metadata": {},
   "outputs": [
    {
     "name": "stdout",
     "output_type": "stream",
     "text": [
      "Training set: 0.4903411865234375 | 0.988064507966527\n",
      "Testing set: 0.6570892333984375 | 0.8247286239893705\n"
     ]
    }
   ],
   "source": [
    "y_hat_train = model(dataset_train.desc_vals).detach().numpy()\n",
    "y_train = dataset_train.target_vals.numpy()\n",
    "y_hat_test = model(dataset_test.desc_vals).detach().numpy()\n",
    "y_test = dataset_test.target_vals.numpy()\n",
    "\n",
    "mae_train = median_absolute_error(y_hat_train, y_train)\n",
    "mae_test = median_absolute_error(y_hat_test, y_test)\n",
    "r2_train = r2_score(y_hat_train, y_train)\n",
    "r2_test = r2_score(y_hat_test, y_test)\n",
    "print(f'Training set: {mae_train} | {r2_train}')\n",
    "print(f'Testing set: {mae_test} | {r2_test}')"
   ]
  },
  {
   "cell_type": "code",
   "execution_count": 9,
   "id": "swiss-chrome",
   "metadata": {},
   "outputs": [
    {
     "data": {
      "image/png": "[encoded data removed]",
      "text/plain": [
       "<Figure size 432x288 with 1 Axes>"
      ]
     },
     "metadata": {
      "needs_background": "light"
     },
     "output_type": "display_data"
    }
   ],
   "source": [
    "min_val = min(min(y_hat_train), min(y_train)) - 0.05 * max(max(y_hat_train), max(y_train))\n",
    "max_val = max(max(y_hat_train), max(y_train)) + 0.05 * max(max(y_hat_train), max(y_train))\n",
    "plt.clf()\n",
    "plt.xlabel('Experimental LHV (MJ/kg)')\n",
    "plt.ylabel('Predicted LHV (MJ/kg)')\n",
    "plt.plot([min_val, max_val], [min_val, max_val], 'k--')\n",
    "plt.scatter(y_train, y_hat_train, color='blue', label='Training Set')\n",
    "plt.scatter(y_test, y_hat_test, color='red', label='Testing Set')\n",
    "plt.legend(loc='upper left')\n",
    "plt.show()"
   ]
  },
  {
   "cell_type": "code",
   "execution_count": 10,
   "id": "educated-poker",
   "metadata": {},
   "outputs": [],
   "source": [
    "model.save('_models/lhv.pt')"
   ]
  }
 ],
 "metadata": {
  "kernelspec": {
   "display_name": "Python 3",
   "language": "python",
   "name": "python3"
  },
  "language_info": {
   "codemirror_mode": {
    "name": "ipython",
    "version": 3
   },
   "file_extension": ".py",
   "mimetype": "text/x-python",
   "name": "python",
   "nbconvert_exporter": "python",
   "pygments_lexer": "ipython3",
   "version": "3.8.8"
  }
 },
 "nbformat": 4,
 "nbformat_minor": 5
}
