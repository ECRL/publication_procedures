{
 "cells": [
  {
   "cell_type": "code",
   "execution_count": 1,
   "metadata": {},
   "outputs": [
    {
     "name": "stdout",
     "output_type": "stream",
     "text": [
      "391 545 385 205 43 255\n"
     ]
    }
   ],
   "source": [
    "import json\n",
    "from ecnet.datasets import load_cp\n",
    "\n",
    "def get_property(compounds: list, property: str, lim: int = None) -> tuple:\n",
    "\n",
    "    prop_vals = []\n",
    "    smiles = []\n",
    "    for c in compounds:\n",
    "        try:\n",
    "            _val = [float(c['properties'][property]['value'])]\n",
    "        except KeyError:\n",
    "            continue\n",
    "        if lim is not None:\n",
    "            if _val[0] > lim:\n",
    "                continue\n",
    "        prop_vals.append(_val)\n",
    "        smiles.append(c['canonical_smiles'])\n",
    "    return (prop_vals, smiles)\n",
    "\n",
    "\n",
    "with open('compounds.json', 'r') as jfile:\n",
    "    compounds = json.load(jfile)\n",
    "jfile.close()\n",
    "\n",
    "cn, smiles_cn = get_property(compounds, 'cetane_number', 100)\n",
    "ysi, smiles_ysi = get_property(compounds, 'ysi_unified')\n",
    "lhv, smiles_lhv = get_property(compounds, 'lower_heating_value')\n",
    "kv, smiles_kv = get_property(compounds, 'kinematic_viscosity')\n",
    "smiles_cp, cp = load_cp()\n",
    "fp, smiles_fp = get_property(compounds, 'flash_point')\n",
    "\n",
    "print(len(cn), len(ysi), len(lhv), len(kv), len(cp), len(fp))"
   ]
  },
  {
   "cell_type": "code",
   "execution_count": 2,
   "metadata": {},
   "outputs": [],
   "source": [
    "from ecnet.datasets import QSPRDataset\n",
    "\n",
    "ds_cn = QSPRDataset(smiles_cn, cn, backend='alvadesc')\n",
    "ds_ysi = QSPRDataset(smiles_ysi, ysi, backend='alvadesc')\n",
    "ds_kv = QSPRDataset(smiles_kv, kv, backend='alvadesc')\n",
    "ds_cp = QSPRDataset(smiles_cp, cp, backend='alvadesc')\n",
    "ds_lhv = QSPRDataset(smiles_lhv, lhv, backend='alvadesc')\n",
    "ds_fp = QSPRDataset(smiles_fp, fp, backend='alvadesc')"
   ]
  },
  {
   "cell_type": "code",
   "execution_count": 3,
   "metadata": {},
   "outputs": [],
   "source": [
    "from ecnet.tasks import select_rfr\n",
    "\n",
    "idx_cn, imp_cn = select_rfr(ds_cn, n_estimators=100)\n",
    "idx_ysi, imp_ysi = select_rfr(ds_ysi, n_estimators=100)\n",
    "idx_kv, imp_kv = select_rfr(ds_kv, n_estimators=100)\n",
    "idx_cp, imp_cp = select_rfr(ds_cp, n_estimators=100)\n",
    "idx_lhv, imp_lhv = select_rfr(ds_lhv, n_estimators=100)\n",
    "idx_fp, imp_fp = select_rfr(ds_fp, n_estimators=100)"
   ]
  },
  {
   "cell_type": "code",
   "execution_count": 4,
   "metadata": {},
   "outputs": [],
   "source": [
    "names_cn = [ds_cn.desc_names[i] for i in idx_cn]\n",
    "names_ysi = [ds_ysi.desc_names[i] for i in idx_ysi]\n",
    "names_kv = [ds_kv.desc_names[i] for i in idx_kv]\n",
    "names_cp = [ds_cp.desc_names[i] for i in idx_cp]\n",
    "names_lhv = [ds_lhv.desc_names[i] for i in idx_lhv]\n",
    "names_fp = [ds_fp.desc_names[i] for i in idx_fp]"
   ]
  },
  {
   "cell_type": "code",
   "execution_count": 5,
   "metadata": {},
   "outputs": [],
   "source": [
    "from csv import DictWriter\n",
    "\n",
    "headers = ['Property', 'Desc. Rank', 'Desc. Imp.', 'Desc. Name']\n",
    "\n",
    "rows_cn = []\n",
    "rows_ysi = []\n",
    "rows_kv = []\n",
    "rows_cp = []\n",
    "rows_lhv = []\n",
    "rows_fp = []\n",
    "for i in range(10):\n",
    "    rows_cn.append({\n",
    "        'Property': 'CN',\n",
    "        'Desc. Rank': i + 1,\n",
    "        'Desc. Imp.': imp_cn[i],\n",
    "        'Desc. Name': names_cn[i]\n",
    "    })\n",
    "    rows_ysi.append({\n",
    "        'Property': 'YSI',\n",
    "        'Desc. Rank': i + 1,\n",
    "        'Desc. Imp.': imp_ysi[i],\n",
    "        'Desc. Name': names_ysi[i]\n",
    "    })\n",
    "    rows_kv.append({\n",
    "        'Property': 'KV',\n",
    "        'Desc. Rank': i + 1,\n",
    "        'Desc. Imp.': imp_kv[i],\n",
    "        'Desc. Name': names_kv[i]\n",
    "    })\n",
    "    rows_cp.append({\n",
    "        'Property': 'CP',\n",
    "        'Desc. Rank': i + 1,\n",
    "        'Desc. Imp.': imp_cp[i],\n",
    "        'Desc. Name': names_cp[i]\n",
    "    })\n",
    "    rows_lhv.append({\n",
    "        'Property': 'LHV',\n",
    "        'Desc. Rank': i + 1,\n",
    "        'Desc. Imp.': imp_lhv[i],\n",
    "        'Desc. Name': names_lhv[i]\n",
    "    })\n",
    "    rows_fp.append({\n",
    "        'Property': 'FP',\n",
    "        'Desc. Rank': i + 1,\n",
    "        'Desc. Imp.': imp_fp[i],\n",
    "        'Desc. Name': names_fp[i]\n",
    "    })\n",
    "\n",
    "with open('descriptor_ranks.csv', 'w', encoding='utf8') as csv_file:\n",
    "    writer = DictWriter(csv_file, headers, delimiter=',', lineterminator='\\n')\n",
    "    writer.writeheader()\n",
    "    writer.writerows(rows_cn)\n",
    "    writer.writerows(rows_ysi)\n",
    "    writer.writerows(rows_kv)\n",
    "    writer.writerows(rows_cp)\n",
    "    writer.writerows(rows_lhv)\n",
    "    writer.writerows(rows_fp)"
   ]
  },
  {
   "cell_type": "code",
   "execution_count": null,
   "metadata": {},
   "outputs": [],
   "source": []
  }
 ],
 "metadata": {
  "interpreter": {
   "hash": "252b69efb517be662a91ca74889611414461adefdc1b62e7a9ebf1bc6024e96f"
  },
  "kernelspec": {
   "display_name": "Python 3.8.12 ('ecnet')",
   "language": "python",
   "name": "python3"
  },
  "language_info": {
   "codemirror_mode": {
    "name": "ipython",
    "version": 3
   },
   "file_extension": ".py",
   "mimetype": "text/x-python",
   "name": "python",
   "nbconvert_exporter": "python",
   "pygments_lexer": "ipython3",
   "version": "3.8.12 (default, Oct 12 2021, 06:23:56) \n[Clang 10.0.0 ]"
  },
  "orig_nbformat": 4
 },
 "nbformat": 4,
 "nbformat_minor": 2
}
