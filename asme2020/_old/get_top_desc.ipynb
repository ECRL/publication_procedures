{
 "cells": [
  {
   "cell_type": "code",
   "execution_count": 1,
   "metadata": {},
   "outputs": [
    {
     "name": "stdout",
     "output_type": "stream",
     "text": [
      "460 558 213 43 388\n"
     ]
    }
   ],
   "source": [
    "from ecnet.datasets import load_cn, load_ysi, load_kv, load_cp, load_lhv\n",
    "\n",
    "smiles_cn, cn = load_cn()\n",
    "smiles_ysi, ysi = load_ysi()\n",
    "smiles_kv, kv = load_kv()\n",
    "smiles_cp, cp = load_cp()\n",
    "smiles_lhv, lhv = load_lhv()\n",
    "\n",
    "print(len(cn), len(ysi), len(kv), len(cp), len(lhv))"
   ]
  },
  {
   "cell_type": "code",
   "execution_count": 2,
   "metadata": {},
   "outputs": [],
   "source": [
    "from ecnet.datasets import QSPRDataset\n",
    "\n",
    "ds_cn = QSPRDataset(smiles_cn, cn, backend='alvadesc')\n",
    "ds_ysi = QSPRDataset(smiles_ysi, ysi, backend='alvadesc')\n",
    "ds_kv = QSPRDataset(smiles_kv, kv, backend='alvadesc')\n",
    "ds_cp = QSPRDataset(smiles_cp, cp, backend='alvadesc')\n",
    "ds_lhv = QSPRDataset(smiles_lhv, lhv, backend='alvadesc')"
   ]
  },
  {
   "cell_type": "code",
   "execution_count": 3,
   "metadata": {},
   "outputs": [],
   "source": [
    "from ecnet.tasks import select_rfr\n",
    "\n",
    "idx_cn, imp_cn = select_rfr(ds_cn, n_estimators=100)\n",
    "idx_ysi, imp_ysi = select_rfr(ds_ysi, n_estimators=100)\n",
    "idx_kv, imp_kv = select_rfr(ds_kv, n_estimators=100)\n",
    "idx_cp, imp_cp = select_rfr(ds_cp, n_estimators=100)\n",
    "idx_lhv, imp_lhv = select_rfr(ds_lhv, n_estimators=100)"
   ]
  },
  {
   "cell_type": "code",
   "execution_count": 4,
   "metadata": {},
   "outputs": [],
   "source": [
    "names_cn = [ds_cn.desc_names[i] for i in idx_cn]\n",
    "names_ysi = [ds_ysi.desc_names[i] for i in idx_ysi]\n",
    "names_kv = [ds_kv.desc_names[i] for i in idx_kv]\n",
    "names_cp = [ds_cp.desc_names[i] for i in idx_cp]\n",
    "names_lhv = [ds_lhv.desc_names[i] for i in idx_lhv]"
   ]
  },
  {
   "cell_type": "code",
   "execution_count": 5,
   "metadata": {},
   "outputs": [],
   "source": [
    "from csv import DictWriter\n",
    "\n",
    "headers = ['Property', 'Desc. Rank', 'Desc. Imp.', 'Desc. Name']\n",
    "\n",
    "rows_cn = []\n",
    "rows_ysi = []\n",
    "rows_kv = []\n",
    "rows_cp = []\n",
    "rows_lhv = []    \n",
    "for i in range(10):\n",
    "    rows_cn.append({\n",
    "        'Property': 'CN',\n",
    "        'Desc. Rank': i + 1,\n",
    "        'Desc. Imp.': imp_cn[i],\n",
    "        'Desc. Name': names_cn[i]\n",
    "    })\n",
    "    rows_ysi.append({\n",
    "        'Property': 'YSI',\n",
    "        'Desc. Rank': i + 1,\n",
    "        'Desc. Imp.': imp_ysi[i],\n",
    "        'Desc. Name': names_ysi[i]\n",
    "    })\n",
    "    rows_kv.append({\n",
    "        'Property': 'KV',\n",
    "        'Desc. Rank': i + 1,\n",
    "        'Desc. Imp.': imp_kv[i],\n",
    "        'Desc. Name': names_kv[i]\n",
    "    })\n",
    "    rows_cp.append({\n",
    "        'Property': 'CP',\n",
    "        'Desc. Rank': i + 1,\n",
    "        'Desc. Imp.': imp_cp[i],\n",
    "        'Desc. Name': names_cp[i]\n",
    "    })\n",
    "    rows_lhv.append({\n",
    "        'Property': 'LHV',\n",
    "        'Desc. Rank': i + 1,\n",
    "        'Desc. Imp.': imp_lhv[i],\n",
    "        'Desc. Name': names_lhv[i]\n",
    "    })\n",
    "\n",
    "with open('results/descriptor_ranks.csv', 'w', encoding='utf8') as csv_file:\n",
    "    writer = DictWriter(csv_file, headers, delimiter=',', lineterminator='\\n')\n",
    "    writer.writeheader()\n",
    "    writer.writerows(rows_cn)\n",
    "    writer.writerows(rows_ysi)\n",
    "    writer.writerows(rows_kv)\n",
    "    writer.writerows(rows_cp)\n",
    "    writer.writerows(rows_lhv)"
   ]
  },
  {
   "cell_type": "code",
   "execution_count": null,
   "metadata": {},
   "outputs": [],
   "source": []
  }
 ],
 "metadata": {
  "interpreter": {
   "hash": "252b69efb517be662a91ca74889611414461adefdc1b62e7a9ebf1bc6024e96f"
  },
  "kernelspec": {
   "display_name": "Python 3.8.12 ('ecnet')",
   "language": "python",
   "name": "python3"
  },
  "language_info": {
   "codemirror_mode": {
    "name": "ipython",
    "version": 3
   },
   "file_extension": ".py",
   "mimetype": "text/x-python",
   "name": "python",
   "nbconvert_exporter": "python",
   "pygments_lexer": "ipython3",
   "version": "3.8.12"
  },
  "orig_nbformat": 4
 },
 "nbformat": 4,
 "nbformat_minor": 2
}
