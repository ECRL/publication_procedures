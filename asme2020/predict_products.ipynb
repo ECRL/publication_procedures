{
 "cells": [
  {
   "cell_type": "code",
   "execution_count": 1,
   "metadata": {},
   "outputs": [],
   "source": [
    "from csv import DictReader\n",
    "\n",
    "with open('fp_cu_products.csv', 'r') as csv_file:\n",
    "    reader = DictReader(csv_file)\n",
    "    rows = [r for r in reader]\n",
    "csv_file.close()\n",
    "\n",
    "smiles = [r['SMILES'] for r in rows]"
   ]
  },
  {
   "cell_type": "code",
   "execution_count": 2,
   "metadata": {},
   "outputs": [],
   "source": [
    "from ecnet.datasets import QSPRDataset\n",
    "from copy import deepcopy\n",
    "\n",
    "ds = QSPRDataset(smiles, [0.0 for _ in range(len(smiles))], backend='alvadesc')\n",
    "\n",
    "with open('models/cn/desc.txt', 'r') as f:\n",
    "    desc_cn = [int(i) for i in f.readlines()]\n",
    "f.close()\n",
    "with open('models/ysi/desc.txt', 'r') as f:\n",
    "    desc_ysi = [int(i) for i in f.readlines()]\n",
    "f.close()\n",
    "with open('models/kv/desc.txt', 'r') as f:\n",
    "    desc_kv = [int(i) for i in f.readlines()]\n",
    "f.close()\n",
    "with open('models/cp/desc.txt', 'r') as f:\n",
    "    desc_cp = [int(i) for i in f.readlines()]\n",
    "f.close()\n",
    "with open('models/lhv/desc.txt', 'r') as f:\n",
    "    desc_lhv = [int(i) for i in f.readlines()]\n",
    "f.close()\n",
    "with open('models/fp/desc.txt', 'r') as f:\n",
    "    desc_fp = [int(i) for i in f.readlines()]\n",
    "f.close()\n",
    "\n",
    "ds_cn = deepcopy(ds)\n",
    "ds_cn.set_desc_index(desc_cn)\n",
    "\n",
    "ds_ysi = deepcopy(ds)\n",
    "ds_ysi.set_desc_index(desc_ysi)\n",
    "\n",
    "ds_kv = deepcopy(ds)\n",
    "ds_kv.set_desc_index(desc_kv)\n",
    "\n",
    "ds_cp = deepcopy(ds)\n",
    "ds_cp.set_desc_index(desc_cp)\n",
    "\n",
    "ds_lhv = deepcopy(ds)\n",
    "ds_lhv.set_desc_index(desc_lhv)\n",
    "\n",
    "ds_fp = deepcopy(ds)\n",
    "ds_fp.set_desc_index(desc_fp)"
   ]
  },
  {
   "cell_type": "code",
   "execution_count": 3,
   "metadata": {},
   "outputs": [],
   "source": [
    "from ecnet.model import load_model\n",
    "import numpy as np\n",
    "\n",
    "pred_cn = []\n",
    "pred_ysi = []\n",
    "pred_kv = []\n",
    "pred_cp = []\n",
    "pred_lhv = []\n",
    "pred_fp = []\n",
    "\n",
    "for i in range(25):\n",
    "\n",
    "    model_cn = load_model(f'models/cn/cn_{i}.pt')\n",
    "    model_ysi = load_model(f'models/ysi/ysi_{i}.pt')\n",
    "    model_kv = load_model(f'models/kv/kv_{i}.pt')\n",
    "    model_cp = load_model(f'models/cp/cp_{i}.pt')\n",
    "    model_lhv = load_model(f'models/lhv/lhv_{i}.pt')\n",
    "    model_fp = load_model(f'models/fp/fp_{i}.pt')\n",
    "\n",
    "    pred_cn.append(model_cn(ds_cn.desc_vals).detach().numpy())\n",
    "    pred_ysi.append(model_ysi(ds_ysi.desc_vals).detach().numpy())\n",
    "    pred_kv.append(model_kv(ds_kv.desc_vals).detach().numpy())\n",
    "    pred_cp.append(model_cp(ds_cp.desc_vals).detach().numpy())\n",
    "    pred_lhv.append(model_lhv(ds_lhv.desc_vals).detach().numpy())\n",
    "    pred_fp.append(model_fp(ds_fp.desc_vals).detach().numpy())\n",
    "\n",
    "pred_cn = np.asarray(pred_cn)\n",
    "pred_ysi = np.asarray(pred_ysi)\n",
    "pred_kv = np.asarray(pred_kv)\n",
    "pred_cp = np.asarray(pred_cp)\n",
    "pred_lhv = np.asarray(pred_lhv)\n",
    "pred_fp = np.asarray(pred_fp)"
   ]
  },
  {
   "cell_type": "code",
   "execution_count": 4,
   "metadata": {},
   "outputs": [],
   "source": [
    "mean_cn = np.mean(pred_cn, axis=0)\n",
    "std_cn = np.std(pred_cn, axis=0)\n",
    "\n",
    "mean_ysi = np.mean(pred_ysi, axis=0)\n",
    "std_ysi = np.std(pred_ysi, axis=0)\n",
    "\n",
    "mean_kv = np.mean(pred_kv, axis=0)\n",
    "std_kv = np.std(pred_kv, axis=0)\n",
    "\n",
    "mean_cp = np.mean(pred_cp, axis=0)\n",
    "std_cp = np.std(pred_cp, axis=0)\n",
    "\n",
    "mean_lhv = np.mean(pred_lhv, axis=0)\n",
    "std_lhv = np.std(pred_lhv, axis=0)\n",
    "\n",
    "mean_fp = np.mean(pred_fp, axis=0)\n",
    "std_fp = np.std(pred_fp, axis=0)"
   ]
  },
  {
   "cell_type": "code",
   "execution_count": 5,
   "metadata": {},
   "outputs": [],
   "source": [
    "from csv import DictWriter\n",
    "\n",
    "for i, row in enumerate(rows):\n",
    "    row['Pred. CN'] = mean_cn[i][0]\n",
    "    row['Stdev. CN'] = std_cn[i][0]\n",
    "    row['Pred. YSI'] = mean_ysi[i][0]\n",
    "    row['Stdev. YSI'] = std_ysi[i][0]\n",
    "    row['Pred. KV'] = mean_kv[i][0]\n",
    "    row['Stdev. KV'] = std_kv[i][0]\n",
    "    row['Pred. CP'] = mean_cp[i][0]\n",
    "    row['Stdev. CP'] = std_cp[i][0]\n",
    "    row['Pred. LHV'] = mean_lhv[i][0]\n",
    "    row['Stdev. LHV'] = std_lhv[i][0]\n",
    "    row['Pred. FP'] = mean_fp[i][0]\n",
    "    row['Stdev. FP'] = std_fp[i][0]\n",
    "\n",
    "headers = list(rows[0].keys())\n",
    "\n",
    "with open('fp_cu_predictions.csv', 'w', encoding='utf8') as csv_file:\n",
    "    writer = DictWriter(csv_file, headers, delimiter=',', lineterminator='\\n')\n",
    "    writer.writeheader()\n",
    "    writer.writerows(rows)\n",
    "csv_file.close()"
   ]
  },
  {
   "cell_type": "code",
   "execution_count": null,
   "metadata": {},
   "outputs": [],
   "source": []
  }
 ],
 "metadata": {
  "kernelspec": {
   "display_name": "Python 3.8.12 ('ecnet')",
   "language": "python",
   "name": "python3"
  },
  "language_info": {
   "codemirror_mode": {
    "name": "ipython",
    "version": 3
   },
   "file_extension": ".py",
   "mimetype": "text/x-python",
   "name": "python",
   "nbconvert_exporter": "python",
   "pygments_lexer": "ipython3",
   "version": "3.8.12"
  },
  "orig_nbformat": 4,
  "vscode": {
   "interpreter": {
    "hash": "252b69efb517be662a91ca74889611414461adefdc1b62e7a9ebf1bc6024e96f"
   }
  }
 },
 "nbformat": 4,
 "nbformat_minor": 2
}
